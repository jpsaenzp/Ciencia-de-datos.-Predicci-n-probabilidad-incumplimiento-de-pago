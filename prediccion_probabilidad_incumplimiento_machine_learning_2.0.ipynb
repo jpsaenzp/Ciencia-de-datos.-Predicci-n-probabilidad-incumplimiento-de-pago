{
 "cells": [
  {
   "cell_type": "markdown",
   "metadata": {},
   "source": [
    "# Cargue de librerías"
   ]
  },
  {
   "cell_type": "code",
   "execution_count": 1,
   "metadata": {},
   "outputs": [],
   "source": [
    "import pandas as pd\n",
    "import numpy as np\n",
    "import os \n",
    "import matplotlib.pyplot as plt  \n",
    "import json \n",
    "import requests\n",
    "#import overpy\n",
    "from tqdm import tqdm\n",
    "from multiprocessing.dummy import Pool\n",
    "import seaborn as sns\n",
    "import re\n",
    "from matplotlib.pylab import rcParams\n",
    "from sklearn.model_selection import train_test_split\n",
    "from sklearn.linear_model import LogisticRegression\n",
    "from sklearn.preprocessing import StandardScaler\n",
    "from sklearn import metrics\n",
    "from sklearn.tree import DecisionTreeClassifier\n",
    "from sklearn.ensemble import AdaBoostClassifier\n",
    "from sklearn.ensemble import RandomForestClassifier\n",
    "import tensorflow as tf\n",
    "from sklearn.utils import resample\n",
    "from sklearn.model_selection import cross_val_score\n",
    "from sklearn.model_selection import GridSearchCV\n",
    "from sklearn.model_selection import KFold\n",
    "from sklearn import tree\n",
    "from __future__ import print_function\n",
    "import sys\n",
    "import datetime\n",
    "import scipy as sp\n",
    "# import more packages\n",
    "#!pip install ax-platform\n",
    "#https://ax.dev/docs/installation.html\n",
    "from ax.service.ax_client import AxClient\n",
    "from ax.utils.notebook.plotting import render, init_notebook_plotting\n",
    "from sklearn.metrics import classification_report\n",
    "from sklearn.metrics import accuracy_score, precision_score, recall_score, f1_score\n",
    "from sklearn.metrics import roc_auc_score\n",
    "from sklearn.metrics import roc_curve\n",
    "from sklearn.neighbors import KNeighborsClassifier\n",
    "from sklearn.svm import SVC\n",
    "import tensorflow as tf\n",
    "from tensorflow import keras\n",
    "from tensorflow.keras import layers"
   ]
  },
  {
   "cell_type": "markdown",
   "metadata": {},
   "source": [
    "# Análisis exploratorio de la base de datos"
   ]
  },
  {
   "cell_type": "code",
   "execution_count": null,
   "metadata": {},
   "outputs": [],
   "source": [
    "# Se carga la base de datos de entrenamiento\n",
    "base_train = pd.read_csv('base_train.csv', sep ='|')\n",
    "base_train"
   ]
  },
  {
   "cell_type": "code",
   "execution_count": null,
   "metadata": {},
   "outputs": [],
   "source": [
    "# Se observa que hay un total de 28 variables con 28.276 entradas o filas. Hay 2 variables de tipo entero, 1 variable\n",
    "# objeto y las restantes son float64\n",
    "base_train.info()"
   ]
  },
  {
   "cell_type": "code",
   "execution_count": 4,
   "metadata": {},
   "outputs": [
    {
     "name": "stdout",
     "output_type": "stream",
     "text": [
      "f_analisis  tipo_cliente\n",
      "201801      adicion         1.000000\n",
      "201802      adicion         1.000000\n",
      "201803      adicion         1.000000\n",
      "201804      adicion         1.000000\n",
      "201805      adicion         1.000000\n",
      "201806      adicion         1.000000\n",
      "201807      adicion         1.000000\n",
      "201808      adicion         1.000000\n",
      "201809      adicion         1.000000\n",
      "201810      adicion         0.620719\n",
      "            objetivo        0.379281\n",
      "201811      adicion         0.582698\n",
      "            objetivo        0.417302\n",
      "201812      adicion         0.587351\n",
      "            objetivo        0.412649\n",
      "Name: tipo_cliente, dtype: float64\n"
     ]
    },
    {
     "data": {
      "image/png": "[encoded data removed]",
      "text/plain": [
       "<Figure size 500x500 with 1 Axes>"
      ]
     },
     "metadata": {},
     "output_type": "display_data"
    }
   ],
   "source": [
    "print(base_train.groupby('f_analisis')['tipo_cliente'].value_counts(True))\n",
    "# Se observa que e 78% de los clientes aproximadamente son de tipo adicion\n",
    "# tambien se observa que l0s clientes objetivo solamente estan presentes en los meses de octubre, noviembre y diciembre\n",
    "g = sns.catplot(x = \"tipo_cliente\", kind = \"count\", data = base_train)\n",
    "g.fig.suptitle(\"Número de clientes por tipo\", fontsize = 16, fontweight = \"bold\")\n",
    "for ax in g.axes.flat:\n",
    "    ax.set_xticklabels(ax.get_xticklabels(), fontsize=9)\n",
    "plt.subplots_adjust(top=0.85)\n",
    "g.fig.text(1,-.02, \"Elaboración:\", fontsize = 10, fontweight = \"bold\", ha = \"right\")\n",
    "g.fig.text(1,-.08, \"Saenz (2023)\", fontsize = 8, ha = \"right\")\n",
    "plt.show()"
   ]
  },
  {
   "cell_type": "code",
   "execution_count": null,
   "metadata": {},
   "outputs": [],
   "source": [
    "# Se particiona la base en los clientes objetivo y clientes adicion\n",
    "base_train_objetivo = base_train.loc[(base_train['tipo_cliente']=='objetivo')]\n",
    "base_train_objetivo"
   ]
  },
  {
   "cell_type": "code",
   "execution_count": null,
   "metadata": {},
   "outputs": [],
   "source": [
    "base_train_adicion = base_train.loc[(base_train['tipo_cliente']=='adicion')]\n",
    "base_train_adicion"
   ]
  },
  {
   "cell_type": "code",
   "execution_count": null,
   "metadata": {},
   "outputs": [],
   "source": [
    "# En esta descripción de variables se observa que, para los clientes objetivo, está desbalanceada la base de datos en la\n",
    "# variable respuesta, mayormente hay valores cero \"0\" que identifica los clientes que cumplieron con el pago.\n",
    "base_train_objetivo.describe()"
   ]
  },
  {
   "cell_type": "code",
   "execution_count": null,
   "metadata": {},
   "outputs": [],
   "source": [
    "base_train_objetivo.drop('tipo_cliente', inplace=True, axis=1)\n",
    "base_train_objetivo.drop('num_doc', inplace=True, axis=1)\n",
    "base_train_objetivo.drop('f_analisis', inplace=True, axis=1)\n",
    "# Se eliminan las variables que no se incluyen en el análisis\n",
    "base_train_objetivo.info()"
   ]
  },
  {
   "cell_type": "markdown",
   "metadata": {},
   "source": [
    "# Análisis de correlación, anova y selección de características"
   ]
  },
  {
   "cell_type": "code",
   "execution_count": 18,
   "metadata": {},
   "outputs": [
    {
     "data": {
      "text/html": [
       "<div>\n",
       "<style scoped>\n",
       "    .dataframe tbody tr th:only-of-type {\n",
       "        vertical-align: middle;\n",
       "    }\n",
       "\n",
       "    .dataframe tbody tr th {\n",
       "        vertical-align: top;\n",
       "    }\n",
       "\n",
       "    .dataframe thead th {\n",
       "        text-align: right;\n",
       "    }\n",
       "</style>\n",
       "<table border=\"1\" class=\"dataframe\">\n",
       "  <thead>\n",
       "    <tr style=\"text-align: right;\">\n",
       "      <th></th>\n",
       "      <th>default</th>\n",
       "      <th>trx39</th>\n",
       "      <th>trx102</th>\n",
       "      <th>trx106</th>\n",
       "      <th>trx143</th>\n",
       "      <th>trx158</th>\n",
       "      <th>disp309</th>\n",
       "      <th>CO01END010RO</th>\n",
       "      <th>CO01ACP017CC</th>\n",
       "      <th>CO02EXP011TO</th>\n",
       "      <th>...</th>\n",
       "      <th>CO01END086RO</th>\n",
       "      <th>CO01END094RO</th>\n",
       "      <th>CO02NUM086AH</th>\n",
       "      <th>CO02NUM043RO</th>\n",
       "      <th>CO01EXP002AH</th>\n",
       "      <th>CO01NUM002AH</th>\n",
       "      <th>CO01END051RO</th>\n",
       "      <th>CO01ACP011RO</th>\n",
       "      <th>CO02MOR092TO</th>\n",
       "      <th>CO01MOR098RO</th>\n",
       "    </tr>\n",
       "  </thead>\n",
       "  <tbody>\n",
       "    <tr>\n",
       "      <th>5</th>\n",
       "      <td>0</td>\n",
       "      <td>0.000000</td>\n",
       "      <td>0.000000</td>\n",
       "      <td>0.000000</td>\n",
       "      <td>0.000000</td>\n",
       "      <td>0.000000</td>\n",
       "      <td>12.0</td>\n",
       "      <td>0.57</td>\n",
       "      <td>9.0</td>\n",
       "      <td>75.00</td>\n",
       "      <td>...</td>\n",
       "      <td>76.97</td>\n",
       "      <td>1.92</td>\n",
       "      <td>-1.00</td>\n",
       "      <td>25.00</td>\n",
       "      <td>-1.0</td>\n",
       "      <td>-1.0</td>\n",
       "      <td>1.16</td>\n",
       "      <td>0.0</td>\n",
       "      <td>100.00000</td>\n",
       "      <td>95.946045</td>\n",
       "    </tr>\n",
       "    <tr>\n",
       "      <th>9</th>\n",
       "      <td>0</td>\n",
       "      <td>0.000000</td>\n",
       "      <td>0.000001</td>\n",
       "      <td>0.000001</td>\n",
       "      <td>0.000000</td>\n",
       "      <td>0.000000</td>\n",
       "      <td>7.0</td>\n",
       "      <td>0.65</td>\n",
       "      <td>12.0</td>\n",
       "      <td>75.00</td>\n",
       "      <td>...</td>\n",
       "      <td>53.64</td>\n",
       "      <td>4.48</td>\n",
       "      <td>50.00</td>\n",
       "      <td>50.00</td>\n",
       "      <td>12.0</td>\n",
       "      <td>2.0</td>\n",
       "      <td>5.70</td>\n",
       "      <td>1.0</td>\n",
       "      <td>100.00000</td>\n",
       "      <td>100.000000</td>\n",
       "    </tr>\n",
       "    <tr>\n",
       "      <th>12</th>\n",
       "      <td>0</td>\n",
       "      <td>1.105542</td>\n",
       "      <td>0.000000</td>\n",
       "      <td>0.000000</td>\n",
       "      <td>0.707554</td>\n",
       "      <td>0.213336</td>\n",
       "      <td>8.0</td>\n",
       "      <td>0.15</td>\n",
       "      <td>140.0</td>\n",
       "      <td>85.71</td>\n",
       "      <td>...</td>\n",
       "      <td>87.80</td>\n",
       "      <td>6.40</td>\n",
       "      <td>57.14</td>\n",
       "      <td>50.00</td>\n",
       "      <td>3.0</td>\n",
       "      <td>4.0</td>\n",
       "      <td>-4.00</td>\n",
       "      <td>0.0</td>\n",
       "      <td>91.81353</td>\n",
       "      <td>-3.000000</td>\n",
       "    </tr>\n",
       "    <tr>\n",
       "      <th>18</th>\n",
       "      <td>0</td>\n",
       "      <td>0.276385</td>\n",
       "      <td>0.000000</td>\n",
       "      <td>0.000000</td>\n",
       "      <td>0.000000</td>\n",
       "      <td>0.002133</td>\n",
       "      <td>7.0</td>\n",
       "      <td>-1.00</td>\n",
       "      <td>-2.0</td>\n",
       "      <td>83.33</td>\n",
       "      <td>...</td>\n",
       "      <td>-1.00</td>\n",
       "      <td>-1.00</td>\n",
       "      <td>50.00</td>\n",
       "      <td>-1.00</td>\n",
       "      <td>0.0</td>\n",
       "      <td>3.0</td>\n",
       "      <td>-1.00</td>\n",
       "      <td>-1.0</td>\n",
       "      <td>100.00000</td>\n",
       "      <td>-1.000000</td>\n",
       "    </tr>\n",
       "    <tr>\n",
       "      <th>21</th>\n",
       "      <td>0</td>\n",
       "      <td>0.276385</td>\n",
       "      <td>0.000005</td>\n",
       "      <td>0.000000</td>\n",
       "      <td>0.000000</td>\n",
       "      <td>0.039467</td>\n",
       "      <td>6.0</td>\n",
       "      <td>0.34</td>\n",
       "      <td>95.0</td>\n",
       "      <td>36.36</td>\n",
       "      <td>...</td>\n",
       "      <td>90.45</td>\n",
       "      <td>5.31</td>\n",
       "      <td>36.36</td>\n",
       "      <td>50.00</td>\n",
       "      <td>0.0</td>\n",
       "      <td>4.0</td>\n",
       "      <td>7.90</td>\n",
       "      <td>1.0</td>\n",
       "      <td>100.00000</td>\n",
       "      <td>89.226580</td>\n",
       "    </tr>\n",
       "    <tr>\n",
       "      <th>...</th>\n",
       "      <td>...</td>\n",
       "      <td>...</td>\n",
       "      <td>...</td>\n",
       "      <td>...</td>\n",
       "      <td>...</td>\n",
       "      <td>...</td>\n",
       "      <td>...</td>\n",
       "      <td>...</td>\n",
       "      <td>...</td>\n",
       "      <td>...</td>\n",
       "      <td>...</td>\n",
       "      <td>...</td>\n",
       "      <td>...</td>\n",
       "      <td>...</td>\n",
       "      <td>...</td>\n",
       "      <td>...</td>\n",
       "      <td>...</td>\n",
       "      <td>...</td>\n",
       "      <td>...</td>\n",
       "      <td>...</td>\n",
       "      <td>...</td>\n",
       "    </tr>\n",
       "    <tr>\n",
       "      <th>28245</th>\n",
       "      <td>0</td>\n",
       "      <td>0.000000</td>\n",
       "      <td>0.000000</td>\n",
       "      <td>0.000000</td>\n",
       "      <td>0.000000</td>\n",
       "      <td>0.000000</td>\n",
       "      <td>12.0</td>\n",
       "      <td>-1.00</td>\n",
       "      <td>-1.0</td>\n",
       "      <td>-1.00</td>\n",
       "      <td>...</td>\n",
       "      <td>-1.00</td>\n",
       "      <td>-1.00</td>\n",
       "      <td>-3.00</td>\n",
       "      <td>-1.00</td>\n",
       "      <td>-1.0</td>\n",
       "      <td>-1.0</td>\n",
       "      <td>-1.00</td>\n",
       "      <td>-1.0</td>\n",
       "      <td>-1.00000</td>\n",
       "      <td>-1.000000</td>\n",
       "    </tr>\n",
       "    <tr>\n",
       "      <th>28249</th>\n",
       "      <td>0</td>\n",
       "      <td>0.829156</td>\n",
       "      <td>0.012800</td>\n",
       "      <td>0.003840</td>\n",
       "      <td>0.424532</td>\n",
       "      <td>0.097068</td>\n",
       "      <td>7.0</td>\n",
       "      <td>0.89</td>\n",
       "      <td>-1.0</td>\n",
       "      <td>33.33</td>\n",
       "      <td>...</td>\n",
       "      <td>16.44</td>\n",
       "      <td>2.56</td>\n",
       "      <td>33.33</td>\n",
       "      <td>33.33</td>\n",
       "      <td>2.0</td>\n",
       "      <td>2.0</td>\n",
       "      <td>0.01</td>\n",
       "      <td>0.0</td>\n",
       "      <td>100.00000</td>\n",
       "      <td>100.000000</td>\n",
       "    </tr>\n",
       "    <tr>\n",
       "      <th>28254</th>\n",
       "      <td>0</td>\n",
       "      <td>0.276385</td>\n",
       "      <td>0.000000</td>\n",
       "      <td>0.000000</td>\n",
       "      <td>0.000000</td>\n",
       "      <td>0.008533</td>\n",
       "      <td>8.0</td>\n",
       "      <td>2.33</td>\n",
       "      <td>4.0</td>\n",
       "      <td>77.78</td>\n",
       "      <td>...</td>\n",
       "      <td>47.28</td>\n",
       "      <td>4.28</td>\n",
       "      <td>44.44</td>\n",
       "      <td>0.00</td>\n",
       "      <td>19.0</td>\n",
       "      <td>4.0</td>\n",
       "      <td>2.18</td>\n",
       "      <td>-2.0</td>\n",
       "      <td>100.00000</td>\n",
       "      <td>100.000000</td>\n",
       "    </tr>\n",
       "    <tr>\n",
       "      <th>28261</th>\n",
       "      <td>0</td>\n",
       "      <td>0.276385</td>\n",
       "      <td>0.000000</td>\n",
       "      <td>0.000000</td>\n",
       "      <td>0.000000</td>\n",
       "      <td>0.008533</td>\n",
       "      <td>8.0</td>\n",
       "      <td>7.83</td>\n",
       "      <td>98.0</td>\n",
       "      <td>62.50</td>\n",
       "      <td>...</td>\n",
       "      <td>1.57</td>\n",
       "      <td>14.72</td>\n",
       "      <td>37.50</td>\n",
       "      <td>0.00</td>\n",
       "      <td>2.0</td>\n",
       "      <td>3.0</td>\n",
       "      <td>0.00</td>\n",
       "      <td>-2.0</td>\n",
       "      <td>100.00000</td>\n",
       "      <td>100.000000</td>\n",
       "    </tr>\n",
       "    <tr>\n",
       "      <th>28271</th>\n",
       "      <td>0</td>\n",
       "      <td>0.276385</td>\n",
       "      <td>0.000000</td>\n",
       "      <td>0.000000</td>\n",
       "      <td>0.000000</td>\n",
       "      <td>0.004267</td>\n",
       "      <td>7.0</td>\n",
       "      <td>-2.00</td>\n",
       "      <td>9.0</td>\n",
       "      <td>100.00</td>\n",
       "      <td>...</td>\n",
       "      <td>-3.00</td>\n",
       "      <td>-2.00</td>\n",
       "      <td>33.33</td>\n",
       "      <td>100.00</td>\n",
       "      <td>2.0</td>\n",
       "      <td>3.0</td>\n",
       "      <td>5.17</td>\n",
       "      <td>1.0</td>\n",
       "      <td>100.00000</td>\n",
       "      <td>-3.000000</td>\n",
       "    </tr>\n",
       "  </tbody>\n",
       "</table>\n",
       "<p>6102 rows × 25 columns</p>\n",
       "</div>"
      ],
      "text/plain": [
       "       default     trx39    trx102    trx106    trx143    trx158  disp309  \\\n",
       "5            0  0.000000  0.000000  0.000000  0.000000  0.000000     12.0   \n",
       "9            0  0.000000  0.000001  0.000001  0.000000  0.000000      7.0   \n",
       "12           0  1.105542  0.000000  0.000000  0.707554  0.213336      8.0   \n",
       "18           0  0.276385  0.000000  0.000000  0.000000  0.002133      7.0   \n",
       "21           0  0.276385  0.000005  0.000000  0.000000  0.039467      6.0   \n",
       "...        ...       ...       ...       ...       ...       ...      ...   \n",
       "28245        0  0.000000  0.000000  0.000000  0.000000  0.000000     12.0   \n",
       "28249        0  0.829156  0.012800  0.003840  0.424532  0.097068      7.0   \n",
       "28254        0  0.276385  0.000000  0.000000  0.000000  0.008533      8.0   \n",
       "28261        0  0.276385  0.000000  0.000000  0.000000  0.008533      8.0   \n",
       "28271        0  0.276385  0.000000  0.000000  0.000000  0.004267      7.0   \n",
       "\n",
       "       CO01END010RO  CO01ACP017CC  CO02EXP011TO  ...  CO01END086RO  \\\n",
       "5              0.57           9.0         75.00  ...         76.97   \n",
       "9              0.65          12.0         75.00  ...         53.64   \n",
       "12             0.15         140.0         85.71  ...         87.80   \n",
       "18            -1.00          -2.0         83.33  ...         -1.00   \n",
       "21             0.34          95.0         36.36  ...         90.45   \n",
       "...             ...           ...           ...  ...           ...   \n",
       "28245         -1.00          -1.0         -1.00  ...         -1.00   \n",
       "28249          0.89          -1.0         33.33  ...         16.44   \n",
       "28254          2.33           4.0         77.78  ...         47.28   \n",
       "28261          7.83          98.0         62.50  ...          1.57   \n",
       "28271         -2.00           9.0        100.00  ...         -3.00   \n",
       "\n",
       "       CO01END094RO  CO02NUM086AH  CO02NUM043RO  CO01EXP002AH  CO01NUM002AH  \\\n",
       "5              1.92         -1.00         25.00          -1.0          -1.0   \n",
       "9              4.48         50.00         50.00          12.0           2.0   \n",
       "12             6.40         57.14         50.00           3.0           4.0   \n",
       "18            -1.00         50.00         -1.00           0.0           3.0   \n",
       "21             5.31         36.36         50.00           0.0           4.0   \n",
       "...             ...           ...           ...           ...           ...   \n",
       "28245         -1.00         -3.00         -1.00          -1.0          -1.0   \n",
       "28249          2.56         33.33         33.33           2.0           2.0   \n",
       "28254          4.28         44.44          0.00          19.0           4.0   \n",
       "28261         14.72         37.50          0.00           2.0           3.0   \n",
       "28271         -2.00         33.33        100.00           2.0           3.0   \n",
       "\n",
       "       CO01END051RO  CO01ACP011RO  CO02MOR092TO  CO01MOR098RO  \n",
       "5              1.16           0.0     100.00000     95.946045  \n",
       "9              5.70           1.0     100.00000    100.000000  \n",
       "12            -4.00           0.0      91.81353     -3.000000  \n",
       "18            -1.00          -1.0     100.00000     -1.000000  \n",
       "21             7.90           1.0     100.00000     89.226580  \n",
       "...             ...           ...           ...           ...  \n",
       "28245         -1.00          -1.0      -1.00000     -1.000000  \n",
       "28249          0.01           0.0     100.00000    100.000000  \n",
       "28254          2.18          -2.0     100.00000    100.000000  \n",
       "28261          0.00          -2.0     100.00000    100.000000  \n",
       "28271          5.17           1.0     100.00000     -3.000000  \n",
       "\n",
       "[6102 rows x 25 columns]"
      ]
     },
     "execution_count": 18,
     "metadata": {},
     "output_type": "execute_result"
    }
   ],
   "source": [
    "base_train = pd.read_csv('base_train.csv', sep=\"|\") \n",
    "base_train = base_train.loc[(base_train['tipo_cliente']=='objetivo')]\n",
    "num_doc_train = base_train['num_doc']\n",
    "base_train = base_train.drop(['num_doc', 'f_analisis', 'tipo_cliente'], axis=1)\n",
    "base_train"
   ]
  },
  {
   "cell_type": "code",
   "execution_count": 19,
   "metadata": {},
   "outputs": [
    {
     "data": {
      "text/html": [
       "<div>\n",
       "<style scoped>\n",
       "    .dataframe tbody tr th:only-of-type {\n",
       "        vertical-align: middle;\n",
       "    }\n",
       "\n",
       "    .dataframe tbody tr th {\n",
       "        vertical-align: top;\n",
       "    }\n",
       "\n",
       "    .dataframe thead th {\n",
       "        text-align: right;\n",
       "    }\n",
       "</style>\n",
       "<table border=\"1\" class=\"dataframe\">\n",
       "  <thead>\n",
       "    <tr style=\"text-align: right;\">\n",
       "      <th></th>\n",
       "      <th>column_name</th>\n",
       "      <th>pvalor</th>\n",
       "    </tr>\n",
       "  </thead>\n",
       "  <tbody>\n",
       "    <tr>\n",
       "      <th>22</th>\n",
       "      <td>CO02MOR092TO</td>\n",
       "      <td>3.307712e-19</td>\n",
       "    </tr>\n",
       "    <tr>\n",
       "      <th>6</th>\n",
       "      <td>CO01END010RO</td>\n",
       "      <td>1.405368e-14</td>\n",
       "    </tr>\n",
       "    <tr>\n",
       "      <th>5</th>\n",
       "      <td>disp309</td>\n",
       "      <td>6.991203e-12</td>\n",
       "    </tr>\n",
       "    <tr>\n",
       "      <th>23</th>\n",
       "      <td>CO01MOR098RO</td>\n",
       "      <td>5.410833e-10</td>\n",
       "    </tr>\n",
       "    <tr>\n",
       "      <th>17</th>\n",
       "      <td>CO02NUM043RO</td>\n",
       "      <td>2.825569e-08</td>\n",
       "    </tr>\n",
       "    <tr>\n",
       "      <th>11</th>\n",
       "      <td>CO01EXP003RO</td>\n",
       "      <td>2.321485e-07</td>\n",
       "    </tr>\n",
       "    <tr>\n",
       "      <th>15</th>\n",
       "      <td>CO01END094RO</td>\n",
       "      <td>2.326886e-06</td>\n",
       "    </tr>\n",
       "    <tr>\n",
       "      <th>8</th>\n",
       "      <td>CO02EXP011TO</td>\n",
       "      <td>2.546842e-06</td>\n",
       "    </tr>\n",
       "    <tr>\n",
       "      <th>21</th>\n",
       "      <td>CO01ACP011RO</td>\n",
       "      <td>1.491166e-05</td>\n",
       "    </tr>\n",
       "    <tr>\n",
       "      <th>10</th>\n",
       "      <td>CO01EXP001CC</td>\n",
       "      <td>8.871088e-05</td>\n",
       "    </tr>\n",
       "    <tr>\n",
       "      <th>19</th>\n",
       "      <td>CO01NUM002AH</td>\n",
       "      <td>8.106332e-04</td>\n",
       "    </tr>\n",
       "    <tr>\n",
       "      <th>7</th>\n",
       "      <td>CO01ACP017CC</td>\n",
       "      <td>3.820826e-03</td>\n",
       "    </tr>\n",
       "    <tr>\n",
       "      <th>3</th>\n",
       "      <td>trx143</td>\n",
       "      <td>9.106878e-03</td>\n",
       "    </tr>\n",
       "    <tr>\n",
       "      <th>12</th>\n",
       "      <td>CO02END015CC</td>\n",
       "      <td>9.888107e-03</td>\n",
       "    </tr>\n",
       "    <tr>\n",
       "      <th>13</th>\n",
       "      <td>CO01END002RO</td>\n",
       "      <td>1.467659e-02</td>\n",
       "    </tr>\n",
       "    <tr>\n",
       "      <th>20</th>\n",
       "      <td>CO01END051RO</td>\n",
       "      <td>2.013862e-02</td>\n",
       "    </tr>\n",
       "    <tr>\n",
       "      <th>1</th>\n",
       "      <td>trx102</td>\n",
       "      <td>7.657070e-02</td>\n",
       "    </tr>\n",
       "    <tr>\n",
       "      <th>18</th>\n",
       "      <td>CO01EXP002AH</td>\n",
       "      <td>1.254510e-01</td>\n",
       "    </tr>\n",
       "    <tr>\n",
       "      <th>4</th>\n",
       "      <td>trx158</td>\n",
       "      <td>1.264067e-01</td>\n",
       "    </tr>\n",
       "    <tr>\n",
       "      <th>16</th>\n",
       "      <td>CO02NUM086AH</td>\n",
       "      <td>1.405851e-01</td>\n",
       "    </tr>\n",
       "    <tr>\n",
       "      <th>14</th>\n",
       "      <td>CO01END086RO</td>\n",
       "      <td>1.579761e-01</td>\n",
       "    </tr>\n",
       "    <tr>\n",
       "      <th>9</th>\n",
       "      <td>CO02EXP004TO</td>\n",
       "      <td>2.729338e-01</td>\n",
       "    </tr>\n",
       "    <tr>\n",
       "      <th>0</th>\n",
       "      <td>trx39</td>\n",
       "      <td>3.936798e-01</td>\n",
       "    </tr>\n",
       "    <tr>\n",
       "      <th>2</th>\n",
       "      <td>trx106</td>\n",
       "      <td>4.295803e-01</td>\n",
       "    </tr>\n",
       "  </tbody>\n",
       "</table>\n",
       "</div>"
      ],
      "text/plain": [
       "     column_name        pvalor\n",
       "22  CO02MOR092TO  3.307712e-19\n",
       "6   CO01END010RO  1.405368e-14\n",
       "5        disp309  6.991203e-12\n",
       "23  CO01MOR098RO  5.410833e-10\n",
       "17  CO02NUM043RO  2.825569e-08\n",
       "11  CO01EXP003RO  2.321485e-07\n",
       "15  CO01END094RO  2.326886e-06\n",
       "8   CO02EXP011TO  2.546842e-06\n",
       "21  CO01ACP011RO  1.491166e-05\n",
       "10  CO01EXP001CC  8.871088e-05\n",
       "19  CO01NUM002AH  8.106332e-04\n",
       "7   CO01ACP017CC  3.820826e-03\n",
       "3         trx143  9.106878e-03\n",
       "12  CO02END015CC  9.888107e-03\n",
       "13  CO01END002RO  1.467659e-02\n",
       "20  CO01END051RO  2.013862e-02\n",
       "1         trx102  7.657070e-02\n",
       "18  CO01EXP002AH  1.254510e-01\n",
       "4         trx158  1.264067e-01\n",
       "16  CO02NUM086AH  1.405851e-01\n",
       "14  CO01END086RO  1.579761e-01\n",
       "9   CO02EXP004TO  2.729338e-01\n",
       "0          trx39  3.936798e-01\n",
       "2         trx106  4.295803e-01"
      ]
     },
     "execution_count": 19,
     "metadata": {},
     "output_type": "execute_result"
    }
   ],
   "source": [
    "import statsmodels.api as sm\n",
    "from statsmodels.formula.api import ols\n",
    "result_anova_default = []\n",
    "significancia_default = []\n",
    "for i,x in enumerate(base_train.iloc[:,1:].columns.values.tolist()):\n",
    "    model = ols('default' + '~' + x, data = base_train).fit()\n",
    "    result_anova_default.append(sm.stats.anova_lm(model))\n",
    "    significancia_default.append(result_anova_default[i]['PR(>F)'][0])\n",
    "pvalue_default = pd.concat([pd.DataFrame(base_train.iloc[:,1:].columns), pd.DataFrame(significancia_default)], axis=1)\n",
    "pvalue_default.columns = ['column_name', 'pvalor']\n",
    "pvalue_default = pvalue_default.sort_values(by='pvalor', ascending=True)\n",
    "pvalue_default\n",
    "\n",
    "# En este anova se observa la prueba de hipotesis de igualdad de grupo, si hay o no correlación entre la variable respuesta\n",
    "# y las independientes. Se observa que las variables ['CO02MOR092TO', 'CO01END010RO', 'disp309', 'CO01MOR098RO',\n",
    "#'CO02NUM043RO', 'CO01EXP003RO', 'CO01END094RO', 'CO02EXP011TO', 'CO01ACP011RO', 'CO01EXP001CC', 'CO01NUM002AH',\n",
    "#'CO01ACP017CC', 'trx143', 'CO02END015CC','CO01END002RO','CO01END051RO'] rechazan la hipótesis nula de igualdad de varianzas\n",
    "# y por tanto hay asociación con la variable respuesta."
   ]
  },
  {
   "cell_type": "code",
   "execution_count": 20,
   "metadata": {},
   "outputs": [
    {
     "data": {
      "image/png": "[encoded data removed]",
      "text/plain": [
       "<Figure size 1500x1500 with 2 Axes>"
      ]
     },
     "metadata": {},
     "output_type": "display_data"
    }
   ],
   "source": [
    "plt.figure(figsize=(15, 15))\n",
    "sns.heatmap(base_train.iloc[:,7:].corr(method='pearson'), annot=True)\n",
    "plt.title('Correlación entre variables independientes')\n",
    "plt.show()\n",
    "# En este gráfico de correlaciones se observa como hay variables que presentan asociación alta con otras variables\n",
    "# explicativas. Por ejemplo entre CO01END010RO y CO01END094RO de un 0,68 ya que ambas se refieren del cupo a la fecha.\n",
    "# También CO01EXP002AH y CO02EXP004TO de 0,69 ya que ambas se refieren a meses de apertura de algún producto."
   ]
  },
  {
   "cell_type": "markdown",
   "metadata": {},
   "source": [
    "## Modelo de xgBoost para seleccion de variables"
   ]
  },
  {
   "cell_type": "code",
   "execution_count": 21,
   "metadata": {},
   "outputs": [],
   "source": [
    "from xgboost import XGBClassifier\n",
    "from sklearn.model_selection import RandomizedSearchCV"
   ]
  },
  {
   "cell_type": "code",
   "execution_count": 22,
   "metadata": {},
   "outputs": [
    {
     "name": "stdout",
     "output_type": "stream",
     "text": [
      "0    5548\n",
      "1    5548\n",
      "Name: default, dtype: int64\n"
     ]
    }
   ],
   "source": [
    "# Debido a que la variable respuesta está desbalanceada entonces se procede a balancear\n",
    "#Toma el valor de uno cuando el cliente incumplió el pago de su obligación.\n",
    "#Toma el valor de cero cuando el cliente cumplió con el pago.\n",
    "case_0 = base_train[base_train['default']==0]\n",
    "case_1 = base_train[base_train['default']==1]\n",
    "\n",
    "case_1_upsample = resample(case_1, replace=True, n_samples=len(case_0), random_state=25)\n",
    "base_train_desbalanc = base_train.copy()\n",
    "base_train=pd.concat([case_0, case_1_upsample])\n",
    "print(base_train['default'].value_counts())"
   ]
  },
  {
   "cell_type": "code",
   "execution_count": 23,
   "metadata": {},
   "outputs": [
    {
     "data": {
      "text/html": [
       "<div>\n",
       "<style scoped>\n",
       "    .dataframe tbody tr th:only-of-type {\n",
       "        vertical-align: middle;\n",
       "    }\n",
       "\n",
       "    .dataframe tbody tr th {\n",
       "        vertical-align: top;\n",
       "    }\n",
       "\n",
       "    .dataframe thead th {\n",
       "        text-align: right;\n",
       "    }\n",
       "</style>\n",
       "<table border=\"1\" class=\"dataframe\">\n",
       "  <thead>\n",
       "    <tr style=\"text-align: right;\">\n",
       "      <th></th>\n",
       "      <th>default</th>\n",
       "      <th>trx39</th>\n",
       "      <th>trx102</th>\n",
       "      <th>trx106</th>\n",
       "      <th>trx143</th>\n",
       "      <th>trx158</th>\n",
       "      <th>disp309</th>\n",
       "      <th>CO01END010RO</th>\n",
       "      <th>CO01ACP017CC</th>\n",
       "      <th>CO02EXP011TO</th>\n",
       "      <th>...</th>\n",
       "      <th>CO01END086RO</th>\n",
       "      <th>CO01END094RO</th>\n",
       "      <th>CO02NUM086AH</th>\n",
       "      <th>CO02NUM043RO</th>\n",
       "      <th>CO01EXP002AH</th>\n",
       "      <th>CO01NUM002AH</th>\n",
       "      <th>CO01END051RO</th>\n",
       "      <th>CO01ACP011RO</th>\n",
       "      <th>CO02MOR092TO</th>\n",
       "      <th>CO01MOR098RO</th>\n",
       "    </tr>\n",
       "  </thead>\n",
       "  <tbody>\n",
       "    <tr>\n",
       "      <th>0</th>\n",
       "      <td>0</td>\n",
       "      <td>0.000000</td>\n",
       "      <td>0.000000</td>\n",
       "      <td>0.000000</td>\n",
       "      <td>0.017689</td>\n",
       "      <td>0.000000</td>\n",
       "      <td>8</td>\n",
       "      <td>4.76</td>\n",
       "      <td>-2</td>\n",
       "      <td>90.00</td>\n",
       "      <td>...</td>\n",
       "      <td>19.29</td>\n",
       "      <td>8.96</td>\n",
       "      <td>30.00</td>\n",
       "      <td>28.57</td>\n",
       "      <td>7</td>\n",
       "      <td>3</td>\n",
       "      <td>6.48</td>\n",
       "      <td>0</td>\n",
       "      <td>100.0</td>\n",
       "      <td>100.000000</td>\n",
       "    </tr>\n",
       "    <tr>\n",
       "      <th>1</th>\n",
       "      <td>0</td>\n",
       "      <td>0.000000</td>\n",
       "      <td>0.000000</td>\n",
       "      <td>0.000000</td>\n",
       "      <td>0.000000</td>\n",
       "      <td>0.000000</td>\n",
       "      <td>0</td>\n",
       "      <td>8.73</td>\n",
       "      <td>1</td>\n",
       "      <td>92.31</td>\n",
       "      <td>...</td>\n",
       "      <td>38.15</td>\n",
       "      <td>15.36</td>\n",
       "      <td>14.29</td>\n",
       "      <td>64.29</td>\n",
       "      <td>15</td>\n",
       "      <td>2</td>\n",
       "      <td>4.55</td>\n",
       "      <td>2</td>\n",
       "      <td>100.0</td>\n",
       "      <td>100.000000</td>\n",
       "    </tr>\n",
       "    <tr>\n",
       "      <th>2</th>\n",
       "      <td>0</td>\n",
       "      <td>0.000000</td>\n",
       "      <td>0.000000</td>\n",
       "      <td>0.000000</td>\n",
       "      <td>0.044807</td>\n",
       "      <td>0.000000</td>\n",
       "      <td>8</td>\n",
       "      <td>0.65</td>\n",
       "      <td>-1</td>\n",
       "      <td>100.00</td>\n",
       "      <td>...</td>\n",
       "      <td>34.15</td>\n",
       "      <td>1.73</td>\n",
       "      <td>40.00</td>\n",
       "      <td>0.00</td>\n",
       "      <td>5</td>\n",
       "      <td>2</td>\n",
       "      <td>0.00</td>\n",
       "      <td>-2</td>\n",
       "      <td>100.0</td>\n",
       "      <td>100.000000</td>\n",
       "    </tr>\n",
       "    <tr>\n",
       "      <th>3</th>\n",
       "      <td>0</td>\n",
       "      <td>1.027402</td>\n",
       "      <td>0.256003</td>\n",
       "      <td>0.000001</td>\n",
       "      <td>0.251293</td>\n",
       "      <td>0.330670</td>\n",
       "      <td>8</td>\n",
       "      <td>-2.00</td>\n",
       "      <td>1</td>\n",
       "      <td>57.14</td>\n",
       "      <td>...</td>\n",
       "      <td>-3.00</td>\n",
       "      <td>-2.00</td>\n",
       "      <td>14.29</td>\n",
       "      <td>100.00</td>\n",
       "      <td>3</td>\n",
       "      <td>1</td>\n",
       "      <td>1.49</td>\n",
       "      <td>1</td>\n",
       "      <td>100.0</td>\n",
       "      <td>44.882557</td>\n",
       "    </tr>\n",
       "    <tr>\n",
       "      <th>4</th>\n",
       "      <td>0</td>\n",
       "      <td>0.276385</td>\n",
       "      <td>0.000000</td>\n",
       "      <td>0.000000</td>\n",
       "      <td>0.000000</td>\n",
       "      <td>0.010667</td>\n",
       "      <td>6</td>\n",
       "      <td>0.31</td>\n",
       "      <td>-1</td>\n",
       "      <td>100.00</td>\n",
       "      <td>...</td>\n",
       "      <td>71.58</td>\n",
       "      <td>0.38</td>\n",
       "      <td>33.33</td>\n",
       "      <td>0.00</td>\n",
       "      <td>2</td>\n",
       "      <td>1</td>\n",
       "      <td>0.76</td>\n",
       "      <td>-2</td>\n",
       "      <td>-3.0</td>\n",
       "      <td>-3.000000</td>\n",
       "    </tr>\n",
       "    <tr>\n",
       "      <th>...</th>\n",
       "      <td>...</td>\n",
       "      <td>...</td>\n",
       "      <td>...</td>\n",
       "      <td>...</td>\n",
       "      <td>...</td>\n",
       "      <td>...</td>\n",
       "      <td>...</td>\n",
       "      <td>...</td>\n",
       "      <td>...</td>\n",
       "      <td>...</td>\n",
       "      <td>...</td>\n",
       "      <td>...</td>\n",
       "      <td>...</td>\n",
       "      <td>...</td>\n",
       "      <td>...</td>\n",
       "      <td>...</td>\n",
       "      <td>...</td>\n",
       "      <td>...</td>\n",
       "      <td>...</td>\n",
       "      <td>...</td>\n",
       "      <td>...</td>\n",
       "    </tr>\n",
       "    <tr>\n",
       "      <th>2063</th>\n",
       "      <td>0</td>\n",
       "      <td>0.000000</td>\n",
       "      <td>0.000000</td>\n",
       "      <td>0.000000</td>\n",
       "      <td>0.000000</td>\n",
       "      <td>0.000000</td>\n",
       "      <td>6</td>\n",
       "      <td>1.53</td>\n",
       "      <td>-1</td>\n",
       "      <td>75.00</td>\n",
       "      <td>...</td>\n",
       "      <td>0.00</td>\n",
       "      <td>1.53</td>\n",
       "      <td>75.00</td>\n",
       "      <td>0.00</td>\n",
       "      <td>15</td>\n",
       "      <td>3</td>\n",
       "      <td>0.00</td>\n",
       "      <td>-2</td>\n",
       "      <td>100.0</td>\n",
       "      <td>100.000000</td>\n",
       "    </tr>\n",
       "    <tr>\n",
       "      <th>2064</th>\n",
       "      <td>0</td>\n",
       "      <td>0.000000</td>\n",
       "      <td>0.000000</td>\n",
       "      <td>0.000000</td>\n",
       "      <td>0.035378</td>\n",
       "      <td>0.000000</td>\n",
       "      <td>6</td>\n",
       "      <td>2.90</td>\n",
       "      <td>-1</td>\n",
       "      <td>100.00</td>\n",
       "      <td>...</td>\n",
       "      <td>13.03</td>\n",
       "      <td>3.84</td>\n",
       "      <td>38.46</td>\n",
       "      <td>85.71</td>\n",
       "      <td>11</td>\n",
       "      <td>5</td>\n",
       "      <td>1.02</td>\n",
       "      <td>0</td>\n",
       "      <td>100.0</td>\n",
       "      <td>100.000000</td>\n",
       "    </tr>\n",
       "    <tr>\n",
       "      <th>2065</th>\n",
       "      <td>0</td>\n",
       "      <td>0.000000</td>\n",
       "      <td>0.000000</td>\n",
       "      <td>0.000000</td>\n",
       "      <td>0.000000</td>\n",
       "      <td>0.000000</td>\n",
       "      <td>6</td>\n",
       "      <td>-3.00</td>\n",
       "      <td>-2</td>\n",
       "      <td>60.00</td>\n",
       "      <td>...</td>\n",
       "      <td>108.32</td>\n",
       "      <td>5.50</td>\n",
       "      <td>20.00</td>\n",
       "      <td>0.00</td>\n",
       "      <td>65</td>\n",
       "      <td>1</td>\n",
       "      <td>5.35</td>\n",
       "      <td>-2</td>\n",
       "      <td>100.0</td>\n",
       "      <td>100.000000</td>\n",
       "    </tr>\n",
       "    <tr>\n",
       "      <th>2066</th>\n",
       "      <td>0</td>\n",
       "      <td>0.645497</td>\n",
       "      <td>0.000001</td>\n",
       "      <td>0.000012</td>\n",
       "      <td>0.239469</td>\n",
       "      <td>0.168535</td>\n",
       "      <td>6</td>\n",
       "      <td>0.21</td>\n",
       "      <td>2</td>\n",
       "      <td>100.00</td>\n",
       "      <td>...</td>\n",
       "      <td>62.68</td>\n",
       "      <td>1.28</td>\n",
       "      <td>50.00</td>\n",
       "      <td>0.00</td>\n",
       "      <td>3</td>\n",
       "      <td>3</td>\n",
       "      <td>1.66</td>\n",
       "      <td>-2</td>\n",
       "      <td>100.0</td>\n",
       "      <td>98.185800</td>\n",
       "    </tr>\n",
       "    <tr>\n",
       "      <th>2067</th>\n",
       "      <td>0</td>\n",
       "      <td>1.299038</td>\n",
       "      <td>0.000000</td>\n",
       "      <td>0.000004</td>\n",
       "      <td>0.506313</td>\n",
       "      <td>0.198402</td>\n",
       "      <td>7</td>\n",
       "      <td>1.40</td>\n",
       "      <td>47</td>\n",
       "      <td>66.67</td>\n",
       "      <td>...</td>\n",
       "      <td>61.88</td>\n",
       "      <td>9.22</td>\n",
       "      <td>33.33</td>\n",
       "      <td>83.33</td>\n",
       "      <td>20</td>\n",
       "      <td>3</td>\n",
       "      <td>16.44</td>\n",
       "      <td>4</td>\n",
       "      <td>100.0</td>\n",
       "      <td>98.690200</td>\n",
       "    </tr>\n",
       "  </tbody>\n",
       "</table>\n",
       "<p>2068 rows × 25 columns</p>\n",
       "</div>"
      ],
      "text/plain": [
       "      default     trx39    trx102    trx106    trx143    trx158  disp309  \\\n",
       "0           0  0.000000  0.000000  0.000000  0.017689  0.000000        8   \n",
       "1           0  0.000000  0.000000  0.000000  0.000000  0.000000        0   \n",
       "2           0  0.000000  0.000000  0.000000  0.044807  0.000000        8   \n",
       "3           0  1.027402  0.256003  0.000001  0.251293  0.330670        8   \n",
       "4           0  0.276385  0.000000  0.000000  0.000000  0.010667        6   \n",
       "...       ...       ...       ...       ...       ...       ...      ...   \n",
       "2063        0  0.000000  0.000000  0.000000  0.000000  0.000000        6   \n",
       "2064        0  0.000000  0.000000  0.000000  0.035378  0.000000        6   \n",
       "2065        0  0.000000  0.000000  0.000000  0.000000  0.000000        6   \n",
       "2066        0  0.645497  0.000001  0.000012  0.239469  0.168535        6   \n",
       "2067        0  1.299038  0.000000  0.000004  0.506313  0.198402        7   \n",
       "\n",
       "      CO01END010RO  CO01ACP017CC  CO02EXP011TO  ...  CO01END086RO  \\\n",
       "0             4.76            -2         90.00  ...         19.29   \n",
       "1             8.73             1         92.31  ...         38.15   \n",
       "2             0.65            -1        100.00  ...         34.15   \n",
       "3            -2.00             1         57.14  ...         -3.00   \n",
       "4             0.31            -1        100.00  ...         71.58   \n",
       "...            ...           ...           ...  ...           ...   \n",
       "2063          1.53            -1         75.00  ...          0.00   \n",
       "2064          2.90            -1        100.00  ...         13.03   \n",
       "2065         -3.00            -2         60.00  ...        108.32   \n",
       "2066          0.21             2        100.00  ...         62.68   \n",
       "2067          1.40            47         66.67  ...         61.88   \n",
       "\n",
       "      CO01END094RO  CO02NUM086AH  CO02NUM043RO  CO01EXP002AH  CO01NUM002AH  \\\n",
       "0             8.96         30.00         28.57             7             3   \n",
       "1            15.36         14.29         64.29            15             2   \n",
       "2             1.73         40.00          0.00             5             2   \n",
       "3            -2.00         14.29        100.00             3             1   \n",
       "4             0.38         33.33          0.00             2             1   \n",
       "...            ...           ...           ...           ...           ...   \n",
       "2063          1.53         75.00          0.00            15             3   \n",
       "2064          3.84         38.46         85.71            11             5   \n",
       "2065          5.50         20.00          0.00            65             1   \n",
       "2066          1.28         50.00          0.00             3             3   \n",
       "2067          9.22         33.33         83.33            20             3   \n",
       "\n",
       "      CO01END051RO  CO01ACP011RO  CO02MOR092TO  CO01MOR098RO  \n",
       "0             6.48             0         100.0    100.000000  \n",
       "1             4.55             2         100.0    100.000000  \n",
       "2             0.00            -2         100.0    100.000000  \n",
       "3             1.49             1         100.0     44.882557  \n",
       "4             0.76            -2          -3.0     -3.000000  \n",
       "...            ...           ...           ...           ...  \n",
       "2063          0.00            -2         100.0    100.000000  \n",
       "2064          1.02             0         100.0    100.000000  \n",
       "2065          5.35            -2         100.0    100.000000  \n",
       "2066          1.66            -2         100.0     98.185800  \n",
       "2067         16.44             4         100.0     98.690200  \n",
       "\n",
       "[2068 rows x 25 columns]"
      ]
     },
     "execution_count": 23,
     "metadata": {},
     "output_type": "execute_result"
    }
   ],
   "source": [
    "# SE carga la base de validación que sirve como base de prueba\n",
    "base_prueba = pd.read_csv('base_validacion.csv', sep=\"|\")\n",
    "num_doc_prueba = base_prueba['num_doc']\n",
    "base_prueba = base_prueba.drop(['num_doc', 'f_analisis', 'tipo_cliente'], axis=1)\n",
    "base_prueba"
   ]
  },
  {
   "cell_type": "code",
   "execution_count": 24,
   "metadata": {},
   "outputs": [
    {
     "name": "stdout",
     "output_type": "stream",
     "text": [
      "(11096, 24) (2068, 24)\n"
     ]
    }
   ],
   "source": [
    "##### Seleccionar bases de entrenamiento y prueba\n",
    "X_train = base_train.drop('default', axis=1)\n",
    "X_test = base_prueba.drop('default', axis=1)\n",
    "y_train = base_train['default']\n",
    "y_test = base_prueba['default']\n",
    "\n",
    "# Adicionalmente se van a escalar variables\n",
    "scaler = StandardScaler()\n",
    "X_train_scaled = scaler.fit_transform(X_train)\n",
    "X_test_scaled = scaler.transform(X_test)\n",
    "print(X_train_scaled.shape, X_test_scaled.shape)"
   ]
  },
  {
   "cell_type": "code",
   "execution_count": null,
   "metadata": {},
   "outputs": [],
   "source": [
    "# Acá se propone un modelo xgboost para observar que variables son las más importantes y, en caso de observarse, seleccionar\n",
    "# algunas variables importantes. Se utiliza una grilla de parámetros para encontrar la mejor combinación de hiperparámetros\n",
    "# que maximice el f1 score\n",
    "from sklearn.metrics import accuracy_score\n",
    "classifier_xg = XGBClassifier()\n",
    "gamma = [0.5,1,2,3,4,5,6,7,8,9,10]\n",
    "n_estimators = [10, 20, 50, 100, 200]\n",
    "max_depth = [10, 15, 20, 40, 50]\n",
    "booster=['gbtree','gblinear']\n",
    "learning_rate=[0.001,0.01,0.05,0.1,0.20]\n",
    "min_child_weight=[1,2,3,4]\n",
    "base_score=[0.25,0.5,0.75,1]\n",
    "# Define the grid of hyperparameters to search\n",
    "hyperparameter_grid = {\n",
    "    'n_estimators': n_estimators,\n",
    "    'max_depth':max_depth,\n",
    "    'learning_rate':learning_rate,\n",
    "    'min_child_weight':min_child_weight,\n",
    "    'booster':booster,\n",
    "    'base_score':base_score,\n",
    "    'gamma':gamma\n",
    "    }\n",
    "# Set up the random search with 4-fold cross validation\n",
    "random_cv = RandomizedSearchCV(estimator=classifier_xg, param_distributions=hyperparameter_grid, cv=5, n_iter=50,\n",
    "            scoring = 'f1',n_jobs = -1, verbose = 2, return_train_score = True, random_state=25)\n",
    "random_cv.fit(X_train_scaled,y_train)\n",
    "random_cv.best_estimator_"
   ]
  },
  {
   "cell_type": "code",
   "execution_count": 26,
   "metadata": {},
   "outputs": [
    {
     "name": "stdout",
     "output_type": "stream",
     "text": [
      "Best: 0.958947 using {'n_estimators': 50, 'min_child_weight': 3, 'max_depth': 50, 'learning_rate': 0.1, 'gamma': 3, 'booster': 'gbtree', 'base_score': 0.5}\n"
     ]
    }
   ],
   "source": [
    "print(\"Best: %f using %s\" % (random_cv.best_score_, random_cv.best_params_))\n",
    "#random_cv.best_estimator_"
   ]
  },
  {
   "cell_type": "code",
   "execution_count": 27,
   "metadata": {},
   "outputs": [
    {
     "name": "stdout",
     "output_type": "stream",
     "text": [
      "0.8849129593810445\n"
     ]
    }
   ],
   "source": [
    "# una vez se encontró la mejor combinación de hiperparámetros se procede a estimar el modelo\n",
    "#mod_xgb = XGBClassifier(learning_rate=0.2, n_estimators=10, objective='binary:logistic',\n",
    "#                        nthread=-1, colsample_bytree=0.8, gamma=3,\n",
    "#                        max_depth=40, min_child_weight=1, subsample=1.0, booster='gbtree', base_score=0.25)\n",
    "mod_xgb = random_cv.best_estimator_\n",
    "mod_xgb.fit(X_train_scaled,y_train)\n",
    "pred_xgb = mod_xgb.predict(X_test_scaled)\n",
    "score_xgb = mod_xgb.score(X_test_scaled, y_test)\n",
    "print(score_xgb)"
   ]
  },
  {
   "cell_type": "code",
   "execution_count": 28,
   "metadata": {},
   "outputs": [
    {
     "data": {
      "text/plain": [
       "array([[1809,  109],\n",
       "       [ 129,   21]], dtype=int64)"
      ]
     },
     "execution_count": 28,
     "metadata": {},
     "output_type": "execute_result"
    }
   ],
   "source": [
    "from sklearn.metrics import confusion_matrix\n",
    "confusion_matrix(y_test,pred_xgb)"
   ]
  },
  {
   "cell_type": "code",
   "execution_count": 29,
   "metadata": {},
   "outputs": [
    {
     "name": "stdout",
     "output_type": "stream",
     "text": [
      "              precision    recall  f1-score   support\n",
      "\n",
      "           0       0.93      0.94      0.94      1918\n",
      "           1       0.16      0.14      0.15       150\n",
      "\n",
      "    accuracy                           0.88      2068\n",
      "   macro avg       0.55      0.54      0.54      2068\n",
      "weighted avg       0.88      0.88      0.88      2068\n",
      "\n"
     ]
    }
   ],
   "source": [
    "print(classification_report(y_test,pred_xgb))"
   ]
  },
  {
   "cell_type": "code",
   "execution_count": 30,
   "metadata": {},
   "outputs": [
    {
     "data": {
      "text/html": [
       "<div>\n",
       "<style scoped>\n",
       "    .dataframe tbody tr th:only-of-type {\n",
       "        vertical-align: middle;\n",
       "    }\n",
       "\n",
       "    .dataframe tbody tr th {\n",
       "        vertical-align: top;\n",
       "    }\n",
       "\n",
       "    .dataframe thead th {\n",
       "        text-align: right;\n",
       "    }\n",
       "</style>\n",
       "<table border=\"1\" class=\"dataframe\">\n",
       "  <thead>\n",
       "    <tr style=\"text-align: right;\">\n",
       "      <th></th>\n",
       "      <th>importances</th>\n",
       "      <th>feauture</th>\n",
       "    </tr>\n",
       "  </thead>\n",
       "  <tbody>\n",
       "    <tr>\n",
       "      <th>6</th>\n",
       "      <td>0.099571</td>\n",
       "      <td>CO01END010RO</td>\n",
       "    </tr>\n",
       "    <tr>\n",
       "      <th>2</th>\n",
       "      <td>0.054075</td>\n",
       "      <td>trx106</td>\n",
       "    </tr>\n",
       "    <tr>\n",
       "      <th>22</th>\n",
       "      <td>0.049280</td>\n",
       "      <td>CO02MOR092TO</td>\n",
       "    </tr>\n",
       "    <tr>\n",
       "      <th>12</th>\n",
       "      <td>0.048894</td>\n",
       "      <td>CO02END015CC</td>\n",
       "    </tr>\n",
       "    <tr>\n",
       "      <th>11</th>\n",
       "      <td>0.046369</td>\n",
       "      <td>CO01EXP003RO</td>\n",
       "    </tr>\n",
       "    <tr>\n",
       "      <th>13</th>\n",
       "      <td>0.045333</td>\n",
       "      <td>CO01END002RO</td>\n",
       "    </tr>\n",
       "    <tr>\n",
       "      <th>14</th>\n",
       "      <td>0.045062</td>\n",
       "      <td>CO01END086RO</td>\n",
       "    </tr>\n",
       "    <tr>\n",
       "      <th>15</th>\n",
       "      <td>0.042034</td>\n",
       "      <td>CO01END094RO</td>\n",
       "    </tr>\n",
       "    <tr>\n",
       "      <th>5</th>\n",
       "      <td>0.041903</td>\n",
       "      <td>disp309</td>\n",
       "    </tr>\n",
       "    <tr>\n",
       "      <th>20</th>\n",
       "      <td>0.040519</td>\n",
       "      <td>CO01END051RO</td>\n",
       "    </tr>\n",
       "    <tr>\n",
       "      <th>8</th>\n",
       "      <td>0.039998</td>\n",
       "      <td>CO02EXP011TO</td>\n",
       "    </tr>\n",
       "    <tr>\n",
       "      <th>16</th>\n",
       "      <td>0.039341</td>\n",
       "      <td>CO02NUM086AH</td>\n",
       "    </tr>\n",
       "    <tr>\n",
       "      <th>17</th>\n",
       "      <td>0.038144</td>\n",
       "      <td>CO02NUM043RO</td>\n",
       "    </tr>\n",
       "    <tr>\n",
       "      <th>1</th>\n",
       "      <td>0.037252</td>\n",
       "      <td>trx102</td>\n",
       "    </tr>\n",
       "    <tr>\n",
       "      <th>3</th>\n",
       "      <td>0.037251</td>\n",
       "      <td>trx143</td>\n",
       "    </tr>\n",
       "    <tr>\n",
       "      <th>10</th>\n",
       "      <td>0.036615</td>\n",
       "      <td>CO01EXP001CC</td>\n",
       "    </tr>\n",
       "    <tr>\n",
       "      <th>18</th>\n",
       "      <td>0.035951</td>\n",
       "      <td>CO01EXP002AH</td>\n",
       "    </tr>\n",
       "    <tr>\n",
       "      <th>7</th>\n",
       "      <td>0.035563</td>\n",
       "      <td>CO01ACP017CC</td>\n",
       "    </tr>\n",
       "    <tr>\n",
       "      <th>9</th>\n",
       "      <td>0.034908</td>\n",
       "      <td>CO02EXP004TO</td>\n",
       "    </tr>\n",
       "    <tr>\n",
       "      <th>23</th>\n",
       "      <td>0.032266</td>\n",
       "      <td>CO01MOR098RO</td>\n",
       "    </tr>\n",
       "    <tr>\n",
       "      <th>4</th>\n",
       "      <td>0.031839</td>\n",
       "      <td>trx158</td>\n",
       "    </tr>\n",
       "    <tr>\n",
       "      <th>0</th>\n",
       "      <td>0.031589</td>\n",
       "      <td>trx39</td>\n",
       "    </tr>\n",
       "    <tr>\n",
       "      <th>19</th>\n",
       "      <td>0.031230</td>\n",
       "      <td>CO01NUM002AH</td>\n",
       "    </tr>\n",
       "    <tr>\n",
       "      <th>21</th>\n",
       "      <td>0.025012</td>\n",
       "      <td>CO01ACP011RO</td>\n",
       "    </tr>\n",
       "  </tbody>\n",
       "</table>\n",
       "</div>"
      ],
      "text/plain": [
       "    importances      feauture\n",
       "6      0.099571  CO01END010RO\n",
       "2      0.054075        trx106\n",
       "22     0.049280  CO02MOR092TO\n",
       "12     0.048894  CO02END015CC\n",
       "11     0.046369  CO01EXP003RO\n",
       "13     0.045333  CO01END002RO\n",
       "14     0.045062  CO01END086RO\n",
       "15     0.042034  CO01END094RO\n",
       "5      0.041903       disp309\n",
       "20     0.040519  CO01END051RO\n",
       "8      0.039998  CO02EXP011TO\n",
       "16     0.039341  CO02NUM086AH\n",
       "17     0.038144  CO02NUM043RO\n",
       "1      0.037252        trx102\n",
       "3      0.037251        trx143\n",
       "10     0.036615  CO01EXP001CC\n",
       "18     0.035951  CO01EXP002AH\n",
       "7      0.035563  CO01ACP017CC\n",
       "9      0.034908  CO02EXP004TO\n",
       "23     0.032266  CO01MOR098RO\n",
       "4      0.031839        trx158\n",
       "0      0.031589         trx39\n",
       "19     0.031230  CO01NUM002AH\n",
       "21     0.025012  CO01ACP011RO"
      ]
     },
     "execution_count": 30,
     "metadata": {},
     "output_type": "execute_result"
    }
   ],
   "source": [
    "importances1 = mod_xgb.feature_importances_\n",
    "importances_df1 = pd.DataFrame({'importances':importances1,'feauture':base_train.drop('default', axis=1).columns})\n",
    "importances_df1 = importances_df1.sort_values(by=['importances'],ascending=False)\n",
    "importances_df1"
   ]
  },
  {
   "cell_type": "code",
   "execution_count": 31,
   "metadata": {},
   "outputs": [
    {
     "data": {
      "image/png": "[encoded data removed]",
      "text/plain": [
       "<Figure size 640x480 with 1 Axes>"
      ]
     },
     "metadata": {},
     "output_type": "display_data"
    }
   ],
   "source": [
    "# Tanto en la tabla de arriba como el gráfico de abajo se observa que las variables presentan una importancia en explicar\n",
    "# el cumplimiento de la obligación. Por tanto se van a conservar todas\n",
    "\n",
    "sorted_indices0 = np.argsort(importances1)[::-1]\n",
    "plt.figure(figsize=(8, 6), dpi=80)\n",
    "plt.title('Feature Importance xgBoost')\n",
    "plt.bar(range(base_train.drop('default', axis=1).shape[1]), importances1[sorted_indices0], align='center')\n",
    "plt.xticks(range(base_train.drop('default', axis=1).shape[1]),\n",
    "           base_train.drop('default', axis=1).columns[sorted_indices0], rotation=90)\n",
    "plt.tight_layout()\n",
    "plt.show()"
   ]
  },
  {
   "cell_type": "markdown",
   "metadata": {},
   "source": [
    "# Modelos de machine learning"
   ]
  },
  {
   "cell_type": "code",
   "execution_count": 32,
   "metadata": {},
   "outputs": [
    {
     "name": "stdout",
     "output_type": "stream",
     "text": [
      "(6102, 24) (2068, 24)\n"
     ]
    }
   ],
   "source": [
    "base_train = pd.read_csv('base_train.csv', sep=\"|\") \n",
    "base_train = base_train.loc[(base_train['tipo_cliente']=='objetivo')]\n",
    "num_doc_train = base_train['num_doc']\n",
    "base_train = base_train.drop(['num_doc', 'f_analisis', 'tipo_cliente'], axis=1)\n",
    "\n",
    "base_prueba = pd.read_csv('base_validacion.csv', sep=\"|\")\n",
    "num_doc_prueba = base_prueba['num_doc']\n",
    "base_prueba = base_prueba.drop(['num_doc', 'f_analisis', 'tipo_cliente'], axis=1)\n",
    "\n",
    "##### Seleccionar bases de entrenamiento y prueba\n",
    "X_train = base_train.drop('default', axis=1)\n",
    "X_test = base_prueba.drop('default', axis=1)\n",
    "y_train = base_train['default']\n",
    "y_test = base_prueba['default']\n",
    "\n",
    "# Escalar variables\n",
    "scaler = StandardScaler()\n",
    "X_train_scaled = scaler.fit_transform(X_train)\n",
    "X_test_scaled = scaler.transform(X_test)\n",
    "print(X_train_scaled.shape, X_test_scaled.shape)"
   ]
  },
  {
   "cell_type": "markdown",
   "metadata": {},
   "source": [
    "## Regresión logística"
   ]
  },
  {
   "cell_type": "code",
   "execution_count": 33,
   "metadata": {},
   "outputs": [
    {
     "data": {
      "text/plain": [
       "LogisticRegression()"
      ]
     },
     "execution_count": 33,
     "metadata": {},
     "output_type": "execute_result"
    }
   ],
   "source": [
    "logisticRegr = LogisticRegression()\n",
    "logisticRegr.fit(X_train_scaled, y_train)"
   ]
  },
  {
   "cell_type": "code",
   "execution_count": 34,
   "metadata": {},
   "outputs": [
    {
     "name": "stdout",
     "output_type": "stream",
     "text": [
      "0.9264990328820116\n"
     ]
    }
   ],
   "source": [
    "pred_logisticRegr = logisticRegr.predict(X_test_scaled)\n",
    "score_lr = logisticRegr.score(X_test_scaled, y_test)\n",
    "print(score_lr)"
   ]
  },
  {
   "cell_type": "code",
   "execution_count": 35,
   "metadata": {},
   "outputs": [
    {
     "data": {
      "text/plain": [
       "0    0.999033\n",
       "1    0.000967\n",
       "dtype: float64"
      ]
     },
     "execution_count": 35,
     "metadata": {},
     "output_type": "execute_result"
    }
   ],
   "source": [
    "pd.DataFrame(pred_logisticRegr).value_counts()/pd.DataFrame(pred_logisticRegr).shape[0]"
   ]
  },
  {
   "cell_type": "code",
   "execution_count": null,
   "metadata": {},
   "outputs": [],
   "source": [
    "##### Se realiza la construcción de una grilla de parámetros \n",
    "from sklearn.model_selection import RepeatedStratifiedKFold\n",
    "cv = RepeatedStratifiedKFold(n_splits=5, n_repeats=3, random_state=25)\n",
    "model_lr = LogisticRegression(random_state=25)\n",
    "space = dict()\n",
    "space['solver'] = ['newton-cg', 'lbfgs', 'liblinear']\n",
    "space['penalty'] = ['none', 'l1', 'l2', 'elasticnet']\n",
    "space['C'] = [1e-5, 1e-4, 1e-3, 1e-2, 1e-1, 1, 10, 100]\n",
    "space['tol'] = [0.0,0.1,0.2,0.3,0.4,0.5,0.6,0.7,0.8]\n",
    "grid_lr = GridSearchCV(model_lr, space, scoring='f1', n_jobs=-1, cv=cv)\n",
    "logisticRegr = grid_lr.fit(X_train_scaled, y_train)\n",
    "# summarize result\n",
    "print('Best Score: %s' % logisticRegr.best_score_)\n",
    "print('Best Hyperparameters: %s' % logisticRegr.best_params_)"
   ]
  },
  {
   "cell_type": "code",
   "execution_count": 37,
   "metadata": {},
   "outputs": [
    {
     "name": "stdout",
     "output_type": "stream",
     "text": [
      "0.9264990328820116\n"
     ]
    }
   ],
   "source": [
    "logisticRegr = logisticRegr.best_estimator_\n",
    "pred_logisticRegr = logisticRegr.predict(X_test_scaled)\n",
    "score_lr = logisticRegr.score(X_test_scaled, y_test)\n",
    "print(score_lr) # La precisión se mantuvo igual."
   ]
  },
  {
   "cell_type": "code",
   "execution_count": 38,
   "metadata": {},
   "outputs": [
    {
     "data": {
      "text/plain": [
       "0    0.912793\n",
       "1    0.087207\n",
       "dtype: float64"
      ]
     },
     "execution_count": 38,
     "metadata": {},
     "output_type": "execute_result"
    }
   ],
   "source": [
    "#probabilidad de incumplimiento esperada por grupo, es decir que es default==1\n",
    "pred_prob_logisticRegr = logisticRegr.predict_proba(X_test_scaled)\n",
    "pd.DataFrame(pred_prob_logisticRegr).mean() # debería ser más desbalanceado"
   ]
  },
  {
   "cell_type": "code",
   "execution_count": 40,
   "metadata": {},
   "outputs": [
    {
     "data": {
      "text/plain": [
       "0    0.927466\n",
       "1    0.072534\n",
       "Name: default, dtype: float64"
      ]
     },
     "execution_count": 40,
     "metadata": {},
     "output_type": "execute_result"
    }
   ],
   "source": [
    "base_prueba['default'].value_counts()/base_prueba.shape[0]"
   ]
  },
  {
   "cell_type": "code",
   "execution_count": 39,
   "metadata": {},
   "outputs": [],
   "source": [
    "prob_incum_logistic = pd.DataFrame(pred_prob_logisticRegr[:,1:])"
   ]
  },
  {
   "cell_type": "code",
   "execution_count": 41,
   "metadata": {},
   "outputs": [
    {
     "data": {
      "text/plain": [
       "T1     51\n",
       "T2     41\n",
       "T3    131\n",
       "T4    196\n",
       "T5    679\n",
       "T6    714\n",
       "T7    252\n",
       "T8      4\n",
       "Name: Grupo_de_Riesgo, dtype: int64"
      ]
     },
     "execution_count": 41,
     "metadata": {},
     "output_type": "execute_result"
    }
   ],
   "source": [
    "bins = [0, 0.010, 0.015, 0.030, 0.045, 0.080, 0.150, 0.300, 1.0]\n",
    "names = [\"T1\", \"T2\", \"T3\", \"T4\", \"T5\", \"T6\", \"T7\", \"T8\"]\n",
    "prob_incum_logistic['Grupo_de_Riesgo'] = pd.cut(prob_incum_logistic[0], bins,labels = names)\n",
    "prob_incum_logistic['Grupo_de_Riesgo'].value_counts().sort_index()"
   ]
  },
  {
   "cell_type": "code",
   "execution_count": 42,
   "metadata": {},
   "outputs": [],
   "source": [
    "## Estos son los resultados de la regresión logística por grupo de riesgo."
   ]
  },
  {
   "cell_type": "code",
   "execution_count": 43,
   "metadata": {},
   "outputs": [
    {
     "data": {
      "image/png": "[encoded data removed]",
      "text/plain": [
       "<Figure size 640x480 with 1 Axes>"
      ]
     },
     "metadata": {},
     "output_type": "display_data"
    }
   ],
   "source": [
    "logit_roc_auc = roc_auc_score(y_test, pred_logisticRegr)\n",
    "FP, VP, umbral = roc_curve(y_test, logisticRegr.predict_proba(X_test_scaled)[:,1])\n",
    "fig, ax = plt.subplots()\n",
    "ax.plot(FP, VP, color = \"darkblue\")\n",
    "ax.plot([0,1], [0,1], linestyle = \"--\", color = \"red\")\n",
    "ax.set_xlabel(\"Tasa de Falsos Positivos\")\n",
    "ax.set_ylabel(\"Tasa de Verdaderos Positivos\")\n",
    "ax.set_title(\"Curva ROC logistic\", fontweight = \"bold\", size = 15)\n",
    "fig.text(.9,-.02, \"Elaboración:\", fontsize = 10, fontweight = \"bold\",\n",
    "         ha = \"right\")\n",
    "fig.text(.9,-.1, \"Saenz\\n(2023)\", fontsize = 8, ha = \"right\")\n",
    "plt.show()"
   ]
  },
  {
   "cell_type": "markdown",
   "metadata": {},
   "source": [
    "## Random Forest"
   ]
  },
  {
   "cell_type": "code",
   "execution_count": 44,
   "metadata": {},
   "outputs": [
    {
     "data": {
      "text/plain": [
       "RandomForestClassifier(max_depth=10, n_estimators=30)"
      ]
     },
     "execution_count": 44,
     "metadata": {},
     "output_type": "execute_result"
    }
   ],
   "source": [
    "rf = RandomForestClassifier(n_estimators=30, max_depth=10)\n",
    "rf.fit(X_train_scaled, y_train)"
   ]
  },
  {
   "cell_type": "code",
   "execution_count": 45,
   "metadata": {},
   "outputs": [
    {
     "name": "stdout",
     "output_type": "stream",
     "text": [
      "0.9269825918762089\n"
     ]
    }
   ],
   "source": [
    "pred_rf = rf.predict(X_test_scaled)\n",
    "score_rf = rf.score(X_test_scaled, y_test)\n",
    "print(score_rf)"
   ]
  },
  {
   "cell_type": "code",
   "execution_count": 46,
   "metadata": {},
   "outputs": [
    {
     "data": {
      "text/plain": [
       "0    0.999516\n",
       "1    0.000484\n",
       "dtype: float64"
      ]
     },
     "execution_count": 46,
     "metadata": {},
     "output_type": "execute_result"
    }
   ],
   "source": [
    "pd.DataFrame(pred_rf).value_counts()/pd.DataFrame(pred_rf).shape[0]"
   ]
  },
  {
   "cell_type": "code",
   "execution_count": 47,
   "metadata": {},
   "outputs": [],
   "source": [
    "pred_rf = rf.predict(X_test_scaled)\n",
    "# La precisión es igual que el modelo logístico, se construye una grilla de parámetros para ver si mejora"
   ]
  },
  {
   "cell_type": "code",
   "execution_count": 48,
   "metadata": {},
   "outputs": [],
   "source": [
    "n_estimators =  [10,15,20,25,30,35,40,45,50,55,60,65,70,75]\n",
    "max_depth = [10,15,20,21,24,25]\n",
    "min_samples_split = [1, 2, 3, 5, 10]\n",
    "min_samples_leaf = [1, 2, 3, 5, 10]\n",
    "param_grid = {'n_estimators': n_estimators,\n",
    "               'max_depth': max_depth,\n",
    "               'min_samples_split': min_samples_split,\n",
    "               'min_samples_leaf': min_samples_leaf,\n",
    "              }"
   ]
  },
  {
   "cell_type": "code",
   "execution_count": null,
   "metadata": {
    "tags": []
   },
   "outputs": [],
   "source": [
    "rf = RandomForestClassifier()\n",
    "grid_search = GridSearchCV(estimator = rf, param_grid = param_grid, \n",
    "                          cv = 5, n_jobs = 5, verbose = 2, scoring='accuracy')\n",
    "rf_cv = grid_search.fit(X_train_scaled, y_train)"
   ]
  },
  {
   "cell_type": "code",
   "execution_count": 50,
   "metadata": {},
   "outputs": [
    {
     "name": "stdout",
     "output_type": "stream",
     "text": [
      "0.9264990328820116\n"
     ]
    }
   ],
   "source": [
    "mod_rf = grid_search.best_estimator_\n",
    "pred_rf = mod_rf.predict(X_test_scaled)\n",
    "score_rf = mod_rf.score(X_test_scaled, y_test)\n",
    "print(score_rf) # Mejoró la precisión"
   ]
  },
  {
   "cell_type": "code",
   "execution_count": 51,
   "metadata": {},
   "outputs": [
    {
     "data": {
      "text/plain": [
       "0    0.999033\n",
       "1    0.000967\n",
       "dtype: float64"
      ]
     },
     "execution_count": 51,
     "metadata": {},
     "output_type": "execute_result"
    }
   ],
   "source": [
    "pd.DataFrame(pred_rf).value_counts()/pd.DataFrame(pred_rf).shape[0]\n",
    "# Está desbalanceada la predicción, hay que mirar como se comporta con las probabilidades."
   ]
  },
  {
   "cell_type": "code",
   "execution_count": 52,
   "metadata": {},
   "outputs": [
    {
     "data": {
      "text/plain": [
       "0    0.927466\n",
       "1    0.072534\n",
       "Name: default, dtype: float64"
      ]
     },
     "execution_count": 52,
     "metadata": {},
     "output_type": "execute_result"
    }
   ],
   "source": [
    "base_prueba['default'].value_counts()/base_prueba.shape[0]"
   ]
  },
  {
   "cell_type": "code",
   "execution_count": 53,
   "metadata": {},
   "outputs": [
    {
     "data": {
      "text/plain": [
       "0    0.909232\n",
       "1    0.090768\n",
       "dtype: float64"
      ]
     },
     "execution_count": 53,
     "metadata": {},
     "output_type": "execute_result"
    }
   ],
   "source": [
    "#probabilidad de incumplimiento esperada por grupo, es decir que es default==1\n",
    "pred_prob_rf = grid_search.predict_proba(X_test_scaled)\n",
    "pd.DataFrame(pred_prob_rf).mean() # debería ser más desbalanceado, aunque tiene un buen comportamiento"
   ]
  },
  {
   "cell_type": "code",
   "execution_count": 54,
   "metadata": {},
   "outputs": [
    {
     "data": {
      "text/plain": [
       "T1     85\n",
       "T2     53\n",
       "T3    202\n",
       "T4    200\n",
       "T5    500\n",
       "T6    687\n",
       "T7    326\n",
       "T8     15\n",
       "Name: Grupo_de_Riesgo, dtype: int64"
      ]
     },
     "execution_count": 54,
     "metadata": {},
     "output_type": "execute_result"
    }
   ],
   "source": [
    "prob_incum_rf = pd.DataFrame(pred_prob_rf[:,1:])\n",
    "prob_incum_rf['Grupo_de_Riesgo'] = pd.cut(prob_incum_rf[0], bins, labels = names)\n",
    "prob_incum_rf['Grupo_de_Riesgo'].value_counts().sort_index()"
   ]
  },
  {
   "cell_type": "code",
   "execution_count": 55,
   "metadata": {},
   "outputs": [
    {
     "data": {
      "image/png": "[encoded data removed]",
      "text/plain": [
       "<Figure size 640x480 with 1 Axes>"
      ]
     },
     "metadata": {},
     "output_type": "display_data"
    }
   ],
   "source": [
    "rf_roc_auc = roc_auc_score(y_test, pred_rf)\n",
    "FP, VP, umbral = roc_curve(y_test, grid_search.predict_proba(X_test_scaled)[:,1])\n",
    "fig, ax = plt.subplots()\n",
    "ax.plot(FP, VP, color = \"darkblue\")\n",
    "ax.plot([0,1], [0,1], linestyle = \"--\", color = \"red\")\n",
    "ax.set_xlabel(\"Tasa de Falsos Positivos\")\n",
    "ax.set_ylabel(\"Tasa de Verdaderos Positivos\")\n",
    "ax.set_title(\"Curva ROC Ranfom Forest\", fontweight = \"bold\", size = 15)\n",
    "fig.text(.9,-.02, \"Elaboración:\", fontsize = 10, fontweight = \"bold\",\n",
    "         ha = \"right\")\n",
    "fig.text(.9,-.1, \"Saenz\\n(2023)\", fontsize = 8, ha = \"right\")\n",
    "plt.show()"
   ]
  },
  {
   "cell_type": "markdown",
   "metadata": {},
   "source": [
    "## k nearest neighbor"
   ]
  },
  {
   "cell_type": "code",
   "execution_count": null,
   "metadata": {},
   "outputs": [],
   "source": [
    "knn = KNeighborsClassifier(n_neighbors=5).fit(X_train_scaled, y_train)\n",
    "score_knn = knn.score(X_test_scaled, y_test)\n",
    "print(score_knn)"
   ]
  },
  {
   "cell_type": "code",
   "execution_count": null,
   "metadata": {},
   "outputs": [],
   "source": [
    "pred_knn = knn.predict(X_test_scaled)\n",
    "cm = metrics.confusion_matrix(y_test, pred_knn)\n",
    "print(cm)"
   ]
  },
  {
   "cell_type": "code",
   "execution_count": 58,
   "metadata": {},
   "outputs": [
    {
     "data": {
      "text/plain": [
       "0    0.983075\n",
       "1    0.016925\n",
       "dtype: float64"
      ]
     },
     "execution_count": 58,
     "metadata": {},
     "output_type": "execute_result"
    }
   ],
   "source": [
    "pd.DataFrame(pred_knn).value_counts()/pd.DataFrame(pred_knn).shape[0]\n",
    "# Está desbalanceada la predicción"
   ]
  },
  {
   "cell_type": "code",
   "execution_count": 59,
   "metadata": {},
   "outputs": [
    {
     "data": {
      "text/plain": [
       "0    0.927466\n",
       "1    0.072534\n",
       "Name: default, dtype: float64"
      ]
     },
     "execution_count": 59,
     "metadata": {},
     "output_type": "execute_result"
    }
   ],
   "source": [
    "base_prueba['default'].value_counts()/base_prueba.shape[0]"
   ]
  },
  {
   "cell_type": "code",
   "execution_count": 60,
   "metadata": {},
   "outputs": [
    {
     "name": "stdout",
     "output_type": "stream",
     "text": [
      "Fitting 10 folds for each of 19 candidates, totalling 190 fits\n"
     ]
    },
    {
     "data": {
      "text/plain": [
       "GridSearchCV(cv=10, estimator=KNeighborsClassifier(), n_jobs=-1,\n",
       "             param_grid=[{'n_neighbors': range(1, 20)}], scoring='accuracy',\n",
       "             verbose=1)"
      ]
     },
     "execution_count": 60,
     "metadata": {},
     "output_type": "execute_result"
    }
   ],
   "source": [
    "# Se construye una grilla de parámetros\n",
    "#n_neighbors = list(range(1,30))\n",
    "#weights = ['uniform','distance']\n",
    "#algorithm = ['auto', 'ball_tree', 'kd_tree', 'brute']\n",
    "#leaf_size = list(range(1,50))\n",
    "#p=[1,2]\n",
    "#metric = ['minkowski','euclidean','manhattan']\n",
    "#param_grid = dict(leaf_size=leaf_size, n_neighbors=n_neighbors, p=p, weights=weights,\n",
    "#                  algorithm=algorithm, metric=metric)\n",
    "param_grid = [{'n_neighbors': range(1,20,1),}]\n",
    "knn_cv_roc = GridSearchCV(KNeighborsClassifier(), param_grid = param_grid,\n",
    "                  scoring='accuracy',\n",
    "                  refit=True,\n",
    "                  cv=10,\n",
    "                  verbose=1,\n",
    "                  n_jobs=-1)\n",
    "knn_cv_roc.fit(X_train_scaled, y_train)"
   ]
  },
  {
   "cell_type": "code",
   "execution_count": null,
   "metadata": {},
   "outputs": [],
   "source": [
    "mod_knn = knn_cv_roc.best_estimator_\n",
    "score_knn = mod_knn.score(X_test_scaled, y_test)\n",
    "print(score_knn)"
   ]
  },
  {
   "cell_type": "code",
   "execution_count": null,
   "metadata": {},
   "outputs": [],
   "source": [
    "pred_knn = mod_knn.predict(X_test_scaled)\n",
    "cm = metrics.confusion_matrix(y_test, pred_knn)\n",
    "print(cm)"
   ]
  },
  {
   "cell_type": "code",
   "execution_count": 63,
   "metadata": {},
   "outputs": [
    {
     "data": {
      "text/plain": [
       "0    0.998549\n",
       "1    0.001451\n",
       "dtype: float64"
      ]
     },
     "execution_count": 63,
     "metadata": {},
     "output_type": "execute_result"
    }
   ],
   "source": [
    "pd.DataFrame(pred_knn).value_counts()/pd.DataFrame(pred_knn).shape[0]\n",
    "# Está bastante desbalanceado, hay que mirar como se comporta con la probabilidad"
   ]
  },
  {
   "cell_type": "code",
   "execution_count": 64,
   "metadata": {},
   "outputs": [
    {
     "data": {
      "text/plain": [
       "0    0.927466\n",
       "1    0.072534\n",
       "Name: default, dtype: float64"
      ]
     },
     "execution_count": 64,
     "metadata": {},
     "output_type": "execute_result"
    }
   ],
   "source": [
    "base_prueba['default'].value_counts()/base_prueba.shape[0]"
   ]
  },
  {
   "cell_type": "code",
   "execution_count": 65,
   "metadata": {},
   "outputs": [
    {
     "data": {
      "text/plain": [
       "0    0.918866\n",
       "1    0.081134\n",
       "dtype: float64"
      ]
     },
     "execution_count": 65,
     "metadata": {},
     "output_type": "execute_result"
    }
   ],
   "source": [
    "#probabilidad de incumplimiento esperada por grupo, es decir que es default==1\n",
    "pred_prob_knn = mod_knn.predict_proba(X_test_scaled)\n",
    "pd.DataFrame(pred_prob_knn).mean()\n",
    "# Mejora bastante cuando se predice por probabilidad."
   ]
  },
  {
   "cell_type": "code",
   "execution_count": 66,
   "metadata": {},
   "outputs": [],
   "source": [
    "prob_incum_knn = pd.DataFrame(pred_prob_knn[:,1:])"
   ]
  },
  {
   "cell_type": "code",
   "execution_count": 67,
   "metadata": {},
   "outputs": [
    {
     "data": {
      "text/plain": [
       "T1      0\n",
       "T2      0\n",
       "T3      0\n",
       "T4      0\n",
       "T5    664\n",
       "T6    389\n",
       "T7    196\n",
       "T8     45\n",
       "Name: Grupo_de_Riesgo, dtype: int64"
      ]
     },
     "execution_count": 67,
     "metadata": {},
     "output_type": "execute_result"
    }
   ],
   "source": [
    "prob_incum_knn['Grupo_de_Riesgo'] = pd.cut(prob_incum_knn[0], bins, labels = names)\n",
    "prob_incum_knn['Grupo_de_Riesgo'].value_counts().sort_index()"
   ]
  },
  {
   "cell_type": "code",
   "execution_count": 68,
   "metadata": {},
   "outputs": [],
   "source": [
    "## Estos son los resultados del KNN por grupo de riesgo. No le fue tan bien ya que en los primeros 4 grupos\n",
    "## no se presentan datos"
   ]
  },
  {
   "cell_type": "code",
   "execution_count": 69,
   "metadata": {},
   "outputs": [
    {
     "data": {
      "image/png": "[encoded data removed]",
      "text/plain": [
       "<Figure size 640x480 with 1 Axes>"
      ]
     },
     "metadata": {},
     "output_type": "display_data"
    }
   ],
   "source": [
    "knn_roc_auc = roc_auc_score(y_test, pred_knn)\n",
    "FP, VP, umbral = roc_curve(y_test, knn_cv_roc.predict_proba(X_test_scaled)[:,1])\n",
    "fig, ax = plt.subplots()\n",
    "ax.plot(FP, VP, color = \"darkblue\")\n",
    "ax.plot([0,1], [0,1], linestyle = \"--\", color = \"red\")\n",
    "ax.set_xlabel(\"Tasa de Falsos Positivos\")\n",
    "ax.set_ylabel(\"Tasa de Verdaderos Positivos\")\n",
    "ax.set_title(\"Curva ROC knn\", fontweight = \"bold\", size = 15)\n",
    "fig.text(.9,-.02, \"Elaboración:\", fontsize = 10, fontweight = \"bold\",\n",
    "         ha = \"right\")\n",
    "fig.text(.9,-.1, \"Saenz\\n(2023)\", fontsize = 8, ha = \"right\")\n",
    "plt.show()"
   ]
  },
  {
   "cell_type": "markdown",
   "metadata": {},
   "source": [
    "## Support Vector Machine"
   ]
  },
  {
   "cell_type": "code",
   "execution_count": 97,
   "metadata": {},
   "outputs": [
    {
     "name": "stdout",
     "output_type": "stream",
     "text": [
      "0.9274661508704062\n"
     ]
    }
   ],
   "source": [
    "svc = SVC(probability=True)\n",
    "svc.fit(X_train_scaled, y_train)\n",
    "score_svm = svc.score(X_test_scaled, y_test)\n",
    "print(score_svm)"
   ]
  },
  {
   "cell_type": "code",
   "execution_count": 98,
   "metadata": {},
   "outputs": [
    {
     "name": "stdout",
     "output_type": "stream",
     "text": [
      "[[1918    0]\n",
      " [ 150    0]]\n"
     ]
    }
   ],
   "source": [
    "pred_svm = svc.predict(X_test_scaled)\n",
    "cm = metrics.confusion_matrix(y_test, pred_svm)\n",
    "print(cm)"
   ]
  },
  {
   "cell_type": "code",
   "execution_count": 84,
   "metadata": {},
   "outputs": [
    {
     "data": {
      "text/plain": [
       "GridSearchCV(cv=2, estimator=SVC(probability=True), n_jobs=-1,\n",
       "             param_grid=[{'C': [1, 3, 8, 10], 'kernel': ['linear']},\n",
       "                         {'C': [1, 3, 8, 10],\n",
       "                          'gamma': [0.1, 0.2, 0.3, 0.4, 0.5, 0.6, 0.7, 0.8,\n",
       "                                    0.9],\n",
       "                          'kernel': ['rbf']},\n",
       "                         {'C': [1, 3, 8, 10], 'degree': [2, 3, 4],\n",
       "                          'gamma': [0.01, 0.02, 0.03, 0.04, 0.05],\n",
       "                          'kernel': ['poly']}],\n",
       "             scoring='accuracy')"
      ]
     },
     "execution_count": 84,
     "metadata": {},
     "output_type": "execute_result"
    }
   ],
   "source": [
    "### Definir una grilla de parámetros para SVC\n",
    "svc = SVC() \n",
    "parameters = [ {'C':[1, 3, 8, 10], 'kernel':['linear']},\n",
    "               {'C':[1, 3, 8, 10], 'kernel':['rbf'], \n",
    "                'gamma':[0.1, 0.2, 0.3, 0.4, 0.5, 0.6, 0.7, 0.8, 0.9]},\n",
    "               {'C':[1, 3, 8, 10], 'kernel':['poly'], 'degree': [2,3,4],\n",
    "                'gamma':[0.01,0.02,0.03,0.04,0.05]}\n",
    "              ]\n",
    "\n",
    "grid_search_svm = GridSearchCV(estimator = svc,\n",
    "                               param_grid = parameters,\n",
    "                               scoring = 'accuracy',\n",
    "                               cv = 2,\n",
    "                               verbose=0)\n",
    "\n",
    "grid_search_svm.fit(X_train_scaled, y_train)"
   ]
  },
  {
   "cell_type": "code",
   "execution_count": 99,
   "metadata": {},
   "outputs": [],
   "source": [
    "grid_search_svm.best_estimator_"
   ]
  },
  {
   "cell_type": "code",
   "execution_count": 86,
   "metadata": {},
   "outputs": [
    {
     "name": "stdout",
     "output_type": "stream",
     "text": [
      "0.9264990328820116\n"
     ]
    }
   ],
   "source": [
    "score_svm = grid_search_svm.score(X_test_scaled, y_test)\n",
    "print(score_svm) # Estuvo mejor la precisión con los parámetros por default"
   ]
  },
  {
   "cell_type": "code",
   "execution_count": 87,
   "metadata": {},
   "outputs": [
    {
     "data": {
      "text/plain": [
       "0    0.927466\n",
       "1    0.072534\n",
       "Name: default, dtype: float64"
      ]
     },
     "execution_count": 87,
     "metadata": {},
     "output_type": "execute_result"
    }
   ],
   "source": [
    "pd.DataFrame(pred_svm).value_counts()/pd.DataFrame(pred_svm).shape[0]\n",
    "base_prueba['default'].value_counts()/base_prueba.shape[0]"
   ]
  },
  {
   "cell_type": "code",
   "execution_count": 100,
   "metadata": {},
   "outputs": [],
   "source": [
    "#probabilidad de incumplimiento esperada por grupo, es decir que es default==1\n",
    "pred_prob_svm = svc.predict_proba(X_test_scaled)\n",
    "pd.DataFrame(pred_prob_svm).mean() # Presenta un buen comportamiento en las probabilidades."
   ]
  },
  {
   "cell_type": "code",
   "execution_count": null,
   "metadata": {},
   "outputs": [],
   "source": [
    "prob_incum_svm = pd.DataFrame(pred_prob_svm[:,1:])"
   ]
  },
  {
   "cell_type": "code",
   "execution_count": null,
   "metadata": {},
   "outputs": [],
   "source": [
    "prob_incum_svm['Grupo_de_Riesgo'] = pd.cut(prob_incum_svm[0], bins, labels = names)\n",
    "prob_incum_svm['Grupo_de_Riesgo'].value_counts().sort_index()"
   ]
  },
  {
   "cell_type": "code",
   "execution_count": null,
   "metadata": {},
   "outputs": [],
   "source": [
    "## Estos son los resultados del SVM por grupo de riesgo. No le fue tan bien ya que en los primeros 3 grupos\n",
    "## no se presentan datos"
   ]
  },
  {
   "cell_type": "code",
   "execution_count": null,
   "metadata": {},
   "outputs": [],
   "source": [
    "svm_roc_auc = roc_auc_score(y_test, pred_svm)\n",
    "FP, VP, umbral = roc_curve(y_test, svc.predict_proba(X_test_scaled)[:,1])\n",
    "fig, ax = plt.subplots()\n",
    "ax.plot(FP, VP, color = \"darkblue\")\n",
    "ax.plot([0,1], [0,1], linestyle = \"--\", color = \"red\")\n",
    "ax.set_xlabel(\"Tasa de Falsos Positivos\")\n",
    "ax.set_ylabel(\"Tasa de Verdaderos Positivos\")\n",
    "ax.set_title(\"Curva ROC svm\", fontweight = \"bold\", size = 15)\n",
    "fig.text(.9,-.02, \"Elaboración:\", fontsize = 10, fontweight = \"bold\",\n",
    "         ha = \"right\")\n",
    "fig.text(.9,-.1, \"Saenz\\n(2023)\", fontsize = 8, ha = \"right\")\n",
    "plt.show()"
   ]
  },
  {
   "cell_type": "markdown",
   "metadata": {},
   "source": [
    "## Red neuronal"
   ]
  },
  {
   "cell_type": "markdown",
   "metadata": {},
   "source": [
    "### Primera red neuronal"
   ]
  },
  {
   "cell_type": "code",
   "execution_count": 101,
   "metadata": {},
   "outputs": [],
   "source": [
    "model = tf.keras.Sequential([\n",
    "    tf.keras.layers.Dense(4, input_shape=(X_train_scaled.shape[1],)),\n",
    "    tf.keras.layers.Dense(8, activation='relu'),\n",
    "    tf.keras.layers.Dense(8, activation='relu'),\n",
    "    tf.keras.layers.Dense(4, activation='relu'),\n",
    "    tf.keras.layers.Dense(1,activation='sigmoid')\n",
    "])"
   ]
  },
  {
   "cell_type": "code",
   "execution_count": 102,
   "metadata": {},
   "outputs": [
    {
     "name": "stdout",
     "output_type": "stream",
     "text": [
      "Epoch 1/20\n",
      "191/191 [==============================] - 4s 3ms/step - loss: 0.6617 - accuracy: 0.7270\n",
      "Epoch 2/20\n",
      "191/191 [==============================] - 1s 4ms/step - loss: 0.4003 - accuracy: 0.9092\n",
      "Epoch 3/20\n",
      "191/191 [==============================] - 1s 3ms/step - loss: 0.3070 - accuracy: 0.9092\n",
      "Epoch 4/20\n",
      "191/191 [==============================] - 1s 5ms/step - loss: 0.2979 - accuracy: 0.9092\n",
      "Epoch 5/20\n",
      "191/191 [==============================] - 1s 5ms/step - loss: 0.2937 - accuracy: 0.9092\n",
      "Epoch 6/20\n",
      "191/191 [==============================] - 1s 5ms/step - loss: 0.2911 - accuracy: 0.9092\n",
      "Epoch 7/20\n",
      "191/191 [==============================] - 1s 5ms/step - loss: 0.2891 - accuracy: 0.9092\n",
      "Epoch 8/20\n",
      "191/191 [==============================] - 1s 4ms/step - loss: 0.2887 - accuracy: 0.9092\n",
      "Epoch 9/20\n",
      "191/191 [==============================] - 1s 5ms/step - loss: 0.2876 - accuracy: 0.9092\n",
      "Epoch 10/20\n",
      "191/191 [==============================] - 1s 4ms/step - loss: 0.2872 - accuracy: 0.9092\n",
      "Epoch 11/20\n",
      "191/191 [==============================] - 1s 3ms/step - loss: 0.2863 - accuracy: 0.9092\n",
      "Epoch 12/20\n",
      "191/191 [==============================] - 1s 3ms/step - loss: 0.2860 - accuracy: 0.9094\n",
      "Epoch 13/20\n",
      "191/191 [==============================] - 1s 3ms/step - loss: 0.2854 - accuracy: 0.9092\n",
      "Epoch 14/20\n",
      "191/191 [==============================] - 1s 3ms/step - loss: 0.2854 - accuracy: 0.9092\n",
      "Epoch 15/20\n",
      "191/191 [==============================] - 1s 3ms/step - loss: 0.2849 - accuracy: 0.9092\n",
      "Epoch 16/20\n",
      "191/191 [==============================] - 1s 3ms/step - loss: 0.2845 - accuracy: 0.9092\n",
      "Epoch 17/20\n",
      "191/191 [==============================] - 1s 3ms/step - loss: 0.2845 - accuracy: 0.9092\n",
      "Epoch 18/20\n",
      "191/191 [==============================] - 1s 3ms/step - loss: 0.2843 - accuracy: 0.9092\n",
      "Epoch 19/20\n",
      "191/191 [==============================] - 1s 3ms/step - loss: 0.2839 - accuracy: 0.9092\n",
      "Epoch 20/20\n",
      "191/191 [==============================] - 1s 3ms/step - loss: 0.2836 - accuracy: 0.9092\n"
     ]
    },
    {
     "data": {
      "text/plain": [
       "<keras.callbacks.History at 0x1faf9da2a30>"
      ]
     },
     "execution_count": 102,
     "metadata": {},
     "output_type": "execute_result"
    }
   ],
   "source": [
    "model.compile(loss=tf.keras.losses.BinaryCrossentropy(),\n",
    "              optimizer=tf.keras.optimizers.Adam(),\n",
    "              metrics=['accuracy'])\n",
    "model.fit(X_train_scaled, y_train, epochs=20)"
   ]
  },
  {
   "cell_type": "code",
   "execution_count": 103,
   "metadata": {},
   "outputs": [
    {
     "name": "stdout",
     "output_type": "stream",
     "text": [
      "65/65 [==============================] - 1s 3ms/step - loss: 0.2539 - accuracy: 0.9270\n"
     ]
    },
    {
     "data": {
      "text/plain": [
       "[0.2539002299308777, 0.926982581615448]"
      ]
     },
     "execution_count": 103,
     "metadata": {},
     "output_type": "execute_result"
    }
   ],
   "source": [
    "model.evaluate(X_test_scaled, y_test)"
   ]
  },
  {
   "cell_type": "code",
   "execution_count": 104,
   "metadata": {},
   "outputs": [],
   "source": [
    "# Esta primera red neuronal arroja una precisión de 0.9275, superior al Random Forest que fue el mejor según\n",
    "# esta métrica"
   ]
  },
  {
   "cell_type": "code",
   "execution_count": 105,
   "metadata": {},
   "outputs": [
    {
     "name": "stdout",
     "output_type": "stream",
     "text": [
      "65/65 [==============================] - 0s 2ms/step\n"
     ]
    },
    {
     "data": {
      "text/plain": [
       "T1     55\n",
       "T2     33\n",
       "T3    139\n",
       "T4    251\n",
       "T5    660\n",
       "T6    651\n",
       "T7    273\n",
       "T8      6\n",
       "Name: Grupo_de_Riesgo, dtype: int64"
      ]
     },
     "execution_count": 105,
     "metadata": {},
     "output_type": "execute_result"
    }
   ],
   "source": [
    "pred_NN = model.predict(X_test_scaled)\n",
    "pred_NN = pd.DataFrame(pred_NN)\n",
    "pred_NN['Grupo_de_Riesgo'] = pd.cut(pred_NN[0], bins, labels = names)\n",
    "pred_NN['Grupo_de_Riesgo'].value_counts().sort_index()"
   ]
  },
  {
   "cell_type": "code",
   "execution_count": 106,
   "metadata": {},
   "outputs": [],
   "source": [
    "## Estos son los resultados de la primera red neuronal por grupo de riesgo."
   ]
  },
  {
   "cell_type": "code",
   "execution_count": 107,
   "metadata": {},
   "outputs": [
    {
     "data": {
      "image/png": "[encoded data removed]",
      "text/plain": [
       "<Figure size 640x480 with 1 Axes>"
      ]
     },
     "metadata": {},
     "output_type": "display_data"
    }
   ],
   "source": [
    "NN_roc_auc = roc_auc_score(y_test, pred_NN[0])\n",
    "FP, VP, umbral = roc_curve(y_test, pred_NN[0])\n",
    "fig, ax = plt.subplots()\n",
    "ax.plot(FP, VP, color = \"darkblue\")\n",
    "ax.plot([0,1], [0,1], linestyle = \"--\", color = \"red\")\n",
    "ax.set_xlabel(\"Tasa de Falsos Positivos\")\n",
    "ax.set_ylabel(\"Tasa de Verdaderos Positivos\")\n",
    "ax.set_title(\"Curva ROC NN 1\", fontweight = \"bold\", size = 15)\n",
    "fig.text(.9,-.02, \"Elaboración:\", fontsize = 10, fontweight = \"bold\",\n",
    "         ha = \"right\")\n",
    "fig.text(.9,-.1, \"Saenz\\n(2023)\", fontsize = 8, ha = \"right\")\n",
    "plt.show()"
   ]
  },
  {
   "cell_type": "markdown",
   "metadata": {},
   "source": [
    "### Segunda red neuronal: Entrenada con una grilla de parámetros, número de capas ocultas y neuronas"
   ]
  },
  {
   "cell_type": "code",
   "execution_count": 108,
   "metadata": {},
   "outputs": [
    {
     "data": {
      "text/plain": [
       "((4881, 24), (1221, 24), (4881,), (1221,))"
      ]
     },
     "execution_count": 108,
     "metadata": {},
     "output_type": "execute_result"
    }
   ],
   "source": [
    "#Crear el conjunto de validación para la red neuronal\n",
    "X_train_scaled = pd.DataFrame(X_train_scaled)\n",
    "y_train = pd.DataFrame(y_train)\n",
    "X_train2, X_val, y_train2, y_val = train_test_split(X_train_scaled, \n",
    "                                                    y_train['default'],\n",
    "                                                    test_size=0.2, random_state=13)\n",
    "X_train2.shape, X_val.shape, y_train2.shape, y_val.shape"
   ]
  },
  {
   "cell_type": "code",
   "execution_count": 109,
   "metadata": {},
   "outputs": [],
   "source": [
    "# This returns a multi-layer-perceptron model in Keras.\n",
    "def get_keras_model(num_hidden_layers, \n",
    "                    num_neurons_per_layer, \n",
    "                    dropout_rate, \n",
    "                    activation):\n",
    "    # create the MLP model.\n",
    "    \n",
    "    # define the layers.\n",
    "    inputs = tf.keras.Input(shape=(X_train2.shape[1],))  # input layer.\n",
    "    x = layers.Dropout(dropout_rate)(inputs) # dropout on the weights.\n",
    "    \n",
    "    # Add the hidden layers.\n",
    "    for i in range(num_hidden_layers):\n",
    "        x = layers.Dense(num_neurons_per_layer, \n",
    "                         activation=activation)(x)\n",
    "        x = layers.Dropout(dropout_rate)(x)\n",
    "    \n",
    "    # output layer.\n",
    "    outputs = layers.Dense(1, activation='sigmoid')(x) #Binary classification\n",
    "    \n",
    "    model = tf.keras.Model(inputs=inputs, outputs=outputs)\n",
    "    return model"
   ]
  },
  {
   "cell_type": "code",
   "execution_count": 110,
   "metadata": {},
   "outputs": [],
   "source": [
    "# This function takes in the hyperparameters and returns a score (Cross validation).\n",
    "def keras_mlp_cv_score(parameterization, weight=None):\n",
    "    \n",
    "    model = get_keras_model(parameterization.get('num_hidden_layers'),\n",
    "                            parameterization.get('neurons_per_layer'),\n",
    "                            parameterization.get('dropout_rate'),\n",
    "                            parameterization.get('activation'))\n",
    "    \n",
    "    opt = parameterization.get('optimizer')\n",
    "    opt = opt.lower()\n",
    "    \n",
    "    learning_rate = parameterization.get('learning_rate')\n",
    "    \n",
    "    if opt == 'adam':\n",
    "        optimizer = tf.keras.optimizers.Adam(learning_rate=learning_rate)\n",
    "    elif opt == 'rms':\n",
    "        optimizer = tf.keras.optimizers.RMSprop(learning_rate=learning_rate)\n",
    "    else:\n",
    "        optimizer = tf.keras.optimizers.SGD(learning_rate=learning_rate)\n",
    "    \n",
    "    NUM_EPOCHS = 20\n",
    "    \n",
    "    # Specify the training configuration.\n",
    "    model.compile(optimizer=optimizer,\n",
    "                  loss=tf.keras.losses.BinaryCrossentropy(),\n",
    "                  metrics=['accuracy'])\n",
    "\n",
    "    data = X_train2\n",
    "    labels = y_train2\n",
    "    \n",
    "    # fit the model using validation_data=(X_val,y_val) validation set.\n",
    "    res = model.fit(data, labels, epochs=NUM_EPOCHS, \n",
    "                    batch_size=parameterization.get('batch_size'),\n",
    "                    validation_data=(X_val,y_val))\n",
    "    \n",
    "    # look at the last 10 epochs. Get the mean and standard deviation of the\n",
    "    #validation score.\n",
    "    last10_scores = np.array(res.history['val_loss'][-10:])\n",
    "    mean = last10_scores.mean()\n",
    "    sem = last10_scores.std()\n",
    "    \n",
    "    # If the model didn't converge then set a high loss.\n",
    "    if np.isnan(mean):\n",
    "        return 9999.0, 0.0\n",
    "    \n",
    "    return mean, sem"
   ]
  },
  {
   "cell_type": "code",
   "execution_count": 111,
   "metadata": {},
   "outputs": [],
   "source": [
    "# Define the search space.\n",
    "parameters=[\n",
    "    {\n",
    "        \"name\": \"learning_rate\",\n",
    "        \"type\": \"range\",\n",
    "        \"bounds\": [0.001, 0.002],\n",
    "        \"log_scale\": True,\n",
    "    },\n",
    "    {\n",
    "        \"name\": \"dropout_rate\",\n",
    "        \"type\": \"range\",\n",
    "        \"bounds\": [0.01, 0.02],\n",
    "        \"log_scale\": True,\n",
    "    },\n",
    "    {\n",
    "        \"name\": \"num_hidden_layers\",\n",
    "        \"type\": \"range\",\n",
    "        \"bounds\": [1, 3],\n",
    "        \"value_type\": \"int\"\n",
    "    },\n",
    "    {\n",
    "        \"name\": \"neurons_per_layer\",\n",
    "        \"type\": \"range\",\n",
    "        \"bounds\": [16, 32],\n",
    "        \"value_type\": \"int\"\n",
    "    },\n",
    "    {\n",
    "        \"name\": \"batch_size\",\n",
    "        \"type\": \"choice\",\n",
    "        \"values\": [16, 32],\n",
    "    },\n",
    "    \n",
    "    {\n",
    "        \"name\": \"activation\",\n",
    "        \"type\": \"choice\",\n",
    "        \"values\": ['tanh', 'sigmoid', 'relu'],\n",
    "    },\n",
    "    {\n",
    "        \"name\": \"optimizer\",\n",
    "        \"type\": \"choice\",\n",
    "        \"values\": ['adam', 'rms'],\n",
    "    },\n",
    "]"
   ]
  },
  {
   "cell_type": "code",
   "execution_count": null,
   "metadata": {},
   "outputs": [],
   "source": [
    "init_notebook_plotting()\n",
    "ax_client = AxClient()\n",
    "# create the experiment.\n",
    "ax_client.create_experiment(\n",
    "    name=\"keras_experiment\",\n",
    "    parameters=parameters,\n",
    "    objective_name='keras_cv',\n",
    "    minimize=True)\n",
    "def evaluate(parameters):\n",
    "    return {\"keras_cv\": keras_mlp_cv_score(parameters)}"
   ]
  },
  {
   "cell_type": "code",
   "execution_count": null,
   "metadata": {
    "scrolled": true,
    "tags": []
   },
   "outputs": [],
   "source": [
    "for i in range(20):\n",
    "    parameters, trial_index = ax_client.get_next_trial()\n",
    "    ax_client.complete_trial(trial_index=trial_index, raw_data=evaluate(parameters))"
   ]
  },
  {
   "cell_type": "code",
   "execution_count": 114,
   "metadata": {},
   "outputs": [
    {
     "data": {
      "text/html": [
       "<div>\n",
       "<style scoped>\n",
       "    .dataframe tbody tr th:only-of-type {\n",
       "        vertical-align: middle;\n",
       "    }\n",
       "\n",
       "    .dataframe tbody tr th {\n",
       "        vertical-align: top;\n",
       "    }\n",
       "\n",
       "    .dataframe thead th {\n",
       "        text-align: right;\n",
       "    }\n",
       "</style>\n",
       "<table border=\"1\" class=\"dataframe\">\n",
       "  <thead>\n",
       "    <tr style=\"text-align: right;\">\n",
       "      <th></th>\n",
       "      <th>keras_cv</th>\n",
       "      <th>trial_index</th>\n",
       "      <th>arm_name</th>\n",
       "      <th>learning_rate</th>\n",
       "      <th>dropout_rate</th>\n",
       "      <th>num_hidden_layers</th>\n",
       "      <th>neurons_per_layer</th>\n",
       "      <th>batch_size</th>\n",
       "      <th>activation</th>\n",
       "      <th>optimizer</th>\n",
       "      <th>trial_status</th>\n",
       "      <th>generation_method</th>\n",
       "    </tr>\n",
       "  </thead>\n",
       "  <tbody>\n",
       "    <tr>\n",
       "      <th>0</th>\n",
       "      <td>0.295490</td>\n",
       "      <td>0</td>\n",
       "      <td>0_0</td>\n",
       "      <td>0.001537</td>\n",
       "      <td>0.014869</td>\n",
       "      <td>2</td>\n",
       "      <td>27</td>\n",
       "      <td>32</td>\n",
       "      <td>relu</td>\n",
       "      <td>adam</td>\n",
       "      <td>COMPLETED</td>\n",
       "      <td>Sobol</td>\n",
       "    </tr>\n",
       "    <tr>\n",
       "      <th>1</th>\n",
       "      <td>0.288199</td>\n",
       "      <td>1</td>\n",
       "      <td>1_0</td>\n",
       "      <td>0.001219</td>\n",
       "      <td>0.012949</td>\n",
       "      <td>1</td>\n",
       "      <td>17</td>\n",
       "      <td>32</td>\n",
       "      <td>tanh</td>\n",
       "      <td>adam</td>\n",
       "      <td>COMPLETED</td>\n",
       "      <td>Sobol</td>\n",
       "    </tr>\n",
       "    <tr>\n",
       "      <th>2</th>\n",
       "      <td>0.295478</td>\n",
       "      <td>2</td>\n",
       "      <td>2_0</td>\n",
       "      <td>0.001692</td>\n",
       "      <td>0.017752</td>\n",
       "      <td>2</td>\n",
       "      <td>26</td>\n",
       "      <td>16</td>\n",
       "      <td>relu</td>\n",
       "      <td>rms</td>\n",
       "      <td>COMPLETED</td>\n",
       "      <td>Sobol</td>\n",
       "    </tr>\n",
       "    <tr>\n",
       "      <th>3</th>\n",
       "      <td>0.289119</td>\n",
       "      <td>3</td>\n",
       "      <td>3_0</td>\n",
       "      <td>0.001663</td>\n",
       "      <td>0.011334</td>\n",
       "      <td>2</td>\n",
       "      <td>16</td>\n",
       "      <td>16</td>\n",
       "      <td>sigmoid</td>\n",
       "      <td>adam</td>\n",
       "      <td>COMPLETED</td>\n",
       "      <td>Sobol</td>\n",
       "    </tr>\n",
       "    <tr>\n",
       "      <th>4</th>\n",
       "      <td>0.292480</td>\n",
       "      <td>4</td>\n",
       "      <td>4_0</td>\n",
       "      <td>0.001177</td>\n",
       "      <td>0.015526</td>\n",
       "      <td>1</td>\n",
       "      <td>30</td>\n",
       "      <td>16</td>\n",
       "      <td>relu</td>\n",
       "      <td>adam</td>\n",
       "      <td>COMPLETED</td>\n",
       "      <td>Sobol</td>\n",
       "    </tr>\n",
       "    <tr>\n",
       "      <th>5</th>\n",
       "      <td>0.287949</td>\n",
       "      <td>5</td>\n",
       "      <td>5_0</td>\n",
       "      <td>0.001099</td>\n",
       "      <td>0.017573</td>\n",
       "      <td>3</td>\n",
       "      <td>20</td>\n",
       "      <td>16</td>\n",
       "      <td>tanh</td>\n",
       "      <td>adam</td>\n",
       "      <td>COMPLETED</td>\n",
       "      <td>Sobol</td>\n",
       "    </tr>\n",
       "    <tr>\n",
       "      <th>6</th>\n",
       "      <td>0.289914</td>\n",
       "      <td>6</td>\n",
       "      <td>6_0</td>\n",
       "      <td>0.001182</td>\n",
       "      <td>0.012700</td>\n",
       "      <td>1</td>\n",
       "      <td>22</td>\n",
       "      <td>32</td>\n",
       "      <td>sigmoid</td>\n",
       "      <td>adam</td>\n",
       "      <td>COMPLETED</td>\n",
       "      <td>Sobol</td>\n",
       "    </tr>\n",
       "    <tr>\n",
       "      <th>7</th>\n",
       "      <td>0.293738</td>\n",
       "      <td>7</td>\n",
       "      <td>7_0</td>\n",
       "      <td>0.001298</td>\n",
       "      <td>0.013025</td>\n",
       "      <td>2</td>\n",
       "      <td>16</td>\n",
       "      <td>16</td>\n",
       "      <td>relu</td>\n",
       "      <td>adam</td>\n",
       "      <td>COMPLETED</td>\n",
       "      <td>Sobol</td>\n",
       "    </tr>\n",
       "    <tr>\n",
       "      <th>8</th>\n",
       "      <td>0.288137</td>\n",
       "      <td>8</td>\n",
       "      <td>8_0</td>\n",
       "      <td>0.001385</td>\n",
       "      <td>0.019874</td>\n",
       "      <td>2</td>\n",
       "      <td>21</td>\n",
       "      <td>32</td>\n",
       "      <td>tanh</td>\n",
       "      <td>adam</td>\n",
       "      <td>COMPLETED</td>\n",
       "      <td>Sobol</td>\n",
       "    </tr>\n",
       "    <tr>\n",
       "      <th>9</th>\n",
       "      <td>0.296888</td>\n",
       "      <td>9</td>\n",
       "      <td>9_0</td>\n",
       "      <td>0.001088</td>\n",
       "      <td>0.013948</td>\n",
       "      <td>2</td>\n",
       "      <td>24</td>\n",
       "      <td>16</td>\n",
       "      <td>relu</td>\n",
       "      <td>adam</td>\n",
       "      <td>COMPLETED</td>\n",
       "      <td>Sobol</td>\n",
       "    </tr>\n",
       "    <tr>\n",
       "      <th>10</th>\n",
       "      <td>0.291112</td>\n",
       "      <td>10</td>\n",
       "      <td>10_0</td>\n",
       "      <td>0.001925</td>\n",
       "      <td>0.010304</td>\n",
       "      <td>1</td>\n",
       "      <td>28</td>\n",
       "      <td>32</td>\n",
       "      <td>relu</td>\n",
       "      <td>adam</td>\n",
       "      <td>COMPLETED</td>\n",
       "      <td>Sobol</td>\n",
       "    </tr>\n",
       "    <tr>\n",
       "      <th>11</th>\n",
       "      <td>0.291365</td>\n",
       "      <td>11</td>\n",
       "      <td>11_0</td>\n",
       "      <td>0.001123</td>\n",
       "      <td>0.011743</td>\n",
       "      <td>2</td>\n",
       "      <td>26</td>\n",
       "      <td>32</td>\n",
       "      <td>tanh</td>\n",
       "      <td>adam</td>\n",
       "      <td>COMPLETED</td>\n",
       "      <td>Sobol</td>\n",
       "    </tr>\n",
       "    <tr>\n",
       "      <th>12</th>\n",
       "      <td>0.290896</td>\n",
       "      <td>12</td>\n",
       "      <td>12_0</td>\n",
       "      <td>0.001813</td>\n",
       "      <td>0.010233</td>\n",
       "      <td>2</td>\n",
       "      <td>16</td>\n",
       "      <td>32</td>\n",
       "      <td>tanh</td>\n",
       "      <td>adam</td>\n",
       "      <td>COMPLETED</td>\n",
       "      <td>Sobol</td>\n",
       "    </tr>\n",
       "    <tr>\n",
       "      <th>13</th>\n",
       "      <td>0.292997</td>\n",
       "      <td>13</td>\n",
       "      <td>13_0</td>\n",
       "      <td>0.001508</td>\n",
       "      <td>0.018184</td>\n",
       "      <td>3</td>\n",
       "      <td>29</td>\n",
       "      <td>32</td>\n",
       "      <td>tanh</td>\n",
       "      <td>rms</td>\n",
       "      <td>COMPLETED</td>\n",
       "      <td>Sobol</td>\n",
       "    </tr>\n",
       "    <tr>\n",
       "      <th>14</th>\n",
       "      <td>0.288749</td>\n",
       "      <td>14</td>\n",
       "      <td>14_0</td>\n",
       "      <td>0.001230</td>\n",
       "      <td>0.017077</td>\n",
       "      <td>2</td>\n",
       "      <td>18</td>\n",
       "      <td>32</td>\n",
       "      <td>tanh</td>\n",
       "      <td>adam</td>\n",
       "      <td>COMPLETED</td>\n",
       "      <td>BO_MIXED</td>\n",
       "    </tr>\n",
       "    <tr>\n",
       "      <th>15</th>\n",
       "      <td>0.287891</td>\n",
       "      <td>15</td>\n",
       "      <td>15_0</td>\n",
       "      <td>0.001301</td>\n",
       "      <td>0.019448</td>\n",
       "      <td>2</td>\n",
       "      <td>21</td>\n",
       "      <td>16</td>\n",
       "      <td>tanh</td>\n",
       "      <td>adam</td>\n",
       "      <td>COMPLETED</td>\n",
       "      <td>BO_MIXED</td>\n",
       "    </tr>\n",
       "    <tr>\n",
       "      <th>16</th>\n",
       "      <td>0.288781</td>\n",
       "      <td>16</td>\n",
       "      <td>16_0</td>\n",
       "      <td>0.001253</td>\n",
       "      <td>0.019970</td>\n",
       "      <td>3</td>\n",
       "      <td>20</td>\n",
       "      <td>32</td>\n",
       "      <td>tanh</td>\n",
       "      <td>adam</td>\n",
       "      <td>COMPLETED</td>\n",
       "      <td>BO_MIXED</td>\n",
       "    </tr>\n",
       "    <tr>\n",
       "      <th>17</th>\n",
       "      <td>0.293011</td>\n",
       "      <td>17</td>\n",
       "      <td>17_0</td>\n",
       "      <td>0.001289</td>\n",
       "      <td>0.017496</td>\n",
       "      <td>2</td>\n",
       "      <td>20</td>\n",
       "      <td>32</td>\n",
       "      <td>tanh</td>\n",
       "      <td>adam</td>\n",
       "      <td>COMPLETED</td>\n",
       "      <td>BO_MIXED</td>\n",
       "    </tr>\n",
       "    <tr>\n",
       "      <th>18</th>\n",
       "      <td>0.295584</td>\n",
       "      <td>18</td>\n",
       "      <td>18_0</td>\n",
       "      <td>0.001186</td>\n",
       "      <td>0.020000</td>\n",
       "      <td>3</td>\n",
       "      <td>19</td>\n",
       "      <td>16</td>\n",
       "      <td>tanh</td>\n",
       "      <td>adam</td>\n",
       "      <td>COMPLETED</td>\n",
       "      <td>BO_MIXED</td>\n",
       "    </tr>\n",
       "    <tr>\n",
       "      <th>19</th>\n",
       "      <td>0.290391</td>\n",
       "      <td>19</td>\n",
       "      <td>19_0</td>\n",
       "      <td>0.001517</td>\n",
       "      <td>0.020000</td>\n",
       "      <td>2</td>\n",
       "      <td>21</td>\n",
       "      <td>32</td>\n",
       "      <td>tanh</td>\n",
       "      <td>adam</td>\n",
       "      <td>COMPLETED</td>\n",
       "      <td>BO_MIXED</td>\n",
       "    </tr>\n",
       "  </tbody>\n",
       "</table>\n",
       "</div>"
      ],
      "text/plain": [
       "    keras_cv  trial_index arm_name  learning_rate  dropout_rate  \\\n",
       "0   0.295490            0      0_0       0.001537      0.014869   \n",
       "1   0.288199            1      1_0       0.001219      0.012949   \n",
       "2   0.295478            2      2_0       0.001692      0.017752   \n",
       "3   0.289119            3      3_0       0.001663      0.011334   \n",
       "4   0.292480            4      4_0       0.001177      0.015526   \n",
       "5   0.287949            5      5_0       0.001099      0.017573   \n",
       "6   0.289914            6      6_0       0.001182      0.012700   \n",
       "7   0.293738            7      7_0       0.001298      0.013025   \n",
       "8   0.288137            8      8_0       0.001385      0.019874   \n",
       "9   0.296888            9      9_0       0.001088      0.013948   \n",
       "10  0.291112           10     10_0       0.001925      0.010304   \n",
       "11  0.291365           11     11_0       0.001123      0.011743   \n",
       "12  0.290896           12     12_0       0.001813      0.010233   \n",
       "13  0.292997           13     13_0       0.001508      0.018184   \n",
       "14  0.288749           14     14_0       0.001230      0.017077   \n",
       "15  0.287891           15     15_0       0.001301      0.019448   \n",
       "16  0.288781           16     16_0       0.001253      0.019970   \n",
       "17  0.293011           17     17_0       0.001289      0.017496   \n",
       "18  0.295584           18     18_0       0.001186      0.020000   \n",
       "19  0.290391           19     19_0       0.001517      0.020000   \n",
       "\n",
       "    num_hidden_layers  neurons_per_layer  batch_size activation optimizer  \\\n",
       "0                   2                 27          32       relu      adam   \n",
       "1                   1                 17          32       tanh      adam   \n",
       "2                   2                 26          16       relu       rms   \n",
       "3                   2                 16          16    sigmoid      adam   \n",
       "4                   1                 30          16       relu      adam   \n",
       "5                   3                 20          16       tanh      adam   \n",
       "6                   1                 22          32    sigmoid      adam   \n",
       "7                   2                 16          16       relu      adam   \n",
       "8                   2                 21          32       tanh      adam   \n",
       "9                   2                 24          16       relu      adam   \n",
       "10                  1                 28          32       relu      adam   \n",
       "11                  2                 26          32       tanh      adam   \n",
       "12                  2                 16          32       tanh      adam   \n",
       "13                  3                 29          32       tanh       rms   \n",
       "14                  2                 18          32       tanh      adam   \n",
       "15                  2                 21          16       tanh      adam   \n",
       "16                  3                 20          32       tanh      adam   \n",
       "17                  2                 20          32       tanh      adam   \n",
       "18                  3                 19          16       tanh      adam   \n",
       "19                  2                 21          32       tanh      adam   \n",
       "\n",
       "   trial_status generation_method  \n",
       "0     COMPLETED             Sobol  \n",
       "1     COMPLETED             Sobol  \n",
       "2     COMPLETED             Sobol  \n",
       "3     COMPLETED             Sobol  \n",
       "4     COMPLETED             Sobol  \n",
       "5     COMPLETED             Sobol  \n",
       "6     COMPLETED             Sobol  \n",
       "7     COMPLETED             Sobol  \n",
       "8     COMPLETED             Sobol  \n",
       "9     COMPLETED             Sobol  \n",
       "10    COMPLETED             Sobol  \n",
       "11    COMPLETED             Sobol  \n",
       "12    COMPLETED             Sobol  \n",
       "13    COMPLETED             Sobol  \n",
       "14    COMPLETED          BO_MIXED  \n",
       "15    COMPLETED          BO_MIXED  \n",
       "16    COMPLETED          BO_MIXED  \n",
       "17    COMPLETED          BO_MIXED  \n",
       "18    COMPLETED          BO_MIXED  \n",
       "19    COMPLETED          BO_MIXED  "
      ]
     },
     "execution_count": 114,
     "metadata": {},
     "output_type": "execute_result"
    }
   ],
   "source": [
    "ax_client.get_trials_data_frame().sort_values('trial_index')"
   ]
  },
  {
   "cell_type": "code",
   "execution_count": 115,
   "metadata": {},
   "outputs": [
    {
     "name": "stderr",
     "output_type": "stream",
     "text": [
      "[WARNING 09-01 20:26:51] ax.modelbridge.cross_validation: Metric keras_cv was unable to be reliably fit.\n",
      "[WARNING 09-01 20:26:51] ax.service.utils.best_point: Model fit is poor; falling back on raw data for best point.\n",
      "[WARNING 09-01 20:26:51] ax.service.utils.best_point: Model fit is poor and data on objective metric keras_cv is noisy; interpret best points results carefully.\n"
     ]
    },
    {
     "name": "stdout",
     "output_type": "stream",
     "text": [
      "('learning_rate', 0.00130066437976216)\n",
      "('dropout_rate', 0.01944831527774094)\n",
      "('num_hidden_layers', 2)\n",
      "('neurons_per_layer', 21)\n",
      "('batch_size', 16)\n",
      "('activation', 'tanh')\n",
      "('optimizer', 'adam')\n",
      "\n",
      "{'keras_cv': 0.28789081871509553}\n"
     ]
    }
   ],
   "source": [
    "best_parameters, values = ax_client.get_best_parameters()\n",
    "# the best set of parameters.\n",
    "for k in best_parameters.items():\n",
    "  print(k)\n",
    "print()\n",
    "# the best score achieved.\n",
    "means, covariances = values\n",
    "print(means)"
   ]
  },
  {
   "cell_type": "code",
   "execution_count": 116,
   "metadata": {},
   "outputs": [
    {
     "name": "stdout",
     "output_type": "stream",
     "text": [
      "Epoch 1/20\n",
      "382/382 [==============================] - 4s 4ms/step - loss: 0.3746 - accuracy: 0.8856 - val_loss: 0.3064 - val_accuracy: 0.9099\n",
      "Epoch 2/20\n",
      "382/382 [==============================] - 2s 4ms/step - loss: 0.3081 - accuracy: 0.9094 - val_loss: 0.2977 - val_accuracy: 0.9099\n",
      "Epoch 3/20\n",
      "382/382 [==============================] - 1s 4ms/step - loss: 0.2990 - accuracy: 0.9092 - val_loss: 0.2900 - val_accuracy: 0.9099\n",
      "Epoch 4/20\n",
      "382/382 [==============================] - 1s 4ms/step - loss: 0.2919 - accuracy: 0.9092 - val_loss: 0.2870 - val_accuracy: 0.9099\n",
      "Epoch 5/20\n",
      "382/382 [==============================] - 2s 5ms/step - loss: 0.2915 - accuracy: 0.9089 - val_loss: 0.2838 - val_accuracy: 0.9099\n",
      "Epoch 6/20\n",
      "382/382 [==============================] - 2s 5ms/step - loss: 0.2897 - accuracy: 0.9090 - val_loss: 0.2833 - val_accuracy: 0.9099\n",
      "Epoch 7/20\n",
      "382/382 [==============================] - 2s 6ms/step - loss: 0.2861 - accuracy: 0.9092 - val_loss: 0.2818 - val_accuracy: 0.9099\n",
      "Epoch 8/20\n",
      "382/382 [==============================] - 2s 5ms/step - loss: 0.2866 - accuracy: 0.9092 - val_loss: 0.2809 - val_accuracy: 0.9099\n",
      "Epoch 9/20\n",
      "382/382 [==============================] - 2s 4ms/step - loss: 0.2865 - accuracy: 0.9090 - val_loss: 0.2791 - val_accuracy: 0.9099\n",
      "Epoch 10/20\n",
      "382/382 [==============================] - 2s 6ms/step - loss: 0.2847 - accuracy: 0.9090 - val_loss: 0.2767 - val_accuracy: 0.9099\n",
      "Epoch 11/20\n",
      "382/382 [==============================] - 1s 4ms/step - loss: 0.2827 - accuracy: 0.9090 - val_loss: 0.2767 - val_accuracy: 0.9099\n",
      "Epoch 12/20\n",
      "382/382 [==============================] - 2s 4ms/step - loss: 0.2803 - accuracy: 0.9090 - val_loss: 0.2786 - val_accuracy: 0.9099\n",
      "Epoch 13/20\n",
      "382/382 [==============================] - 2s 6ms/step - loss: 0.2805 - accuracy: 0.9090 - val_loss: 0.2740 - val_accuracy: 0.9099\n",
      "Epoch 14/20\n",
      "382/382 [==============================] - 2s 5ms/step - loss: 0.2793 - accuracy: 0.9087 - val_loss: 0.2733 - val_accuracy: 0.9099\n",
      "Epoch 15/20\n",
      "382/382 [==============================] - 2s 6ms/step - loss: 0.2784 - accuracy: 0.9090 - val_loss: 0.2759 - val_accuracy: 0.9099\n",
      "Epoch 16/20\n",
      "382/382 [==============================] - 2s 5ms/step - loss: 0.2788 - accuracy: 0.9090 - val_loss: 0.2718 - val_accuracy: 0.9099\n",
      "Epoch 17/20\n",
      "382/382 [==============================] - 2s 6ms/step - loss: 0.2782 - accuracy: 0.9090 - val_loss: 0.2699 - val_accuracy: 0.9099\n",
      "Epoch 18/20\n",
      "382/382 [==============================] - 2s 4ms/step - loss: 0.2770 - accuracy: 0.9092 - val_loss: 0.2699 - val_accuracy: 0.9099\n",
      "Epoch 19/20\n",
      "382/382 [==============================] - 2s 6ms/step - loss: 0.2771 - accuracy: 0.9097 - val_loss: 0.2689 - val_accuracy: 0.9099\n",
      "Epoch 20/20\n",
      "382/382 [==============================] - 2s 6ms/step - loss: 0.2782 - accuracy: 0.9095 - val_loss: 0.2682 - val_accuracy: 0.9099\n"
     ]
    },
    {
     "data": {
      "text/plain": [
       "<keras.callbacks.History at 0x1fa83d3eb20>"
      ]
     },
     "execution_count": 116,
     "metadata": {},
     "output_type": "execute_result"
    }
   ],
   "source": [
    "#### Construyendo la red con los parámetros que arrojó\n",
    "model_RNN = tf.keras.Sequential([\n",
    "    tf.keras.layers.Dense(8, input_shape=(X_train_scaled.shape[1],)),\n",
    "    tf.keras.layers.Dropout(0.017389321921969042),\n",
    "    tf.keras.layers.Dense(17, activation='relu'),\n",
    "    tf.keras.layers.Dropout(0.017389321921969042),\n",
    "    tf.keras.layers.Dense(17, activation='relu'),\n",
    "    tf.keras.layers.Dropout(0.017389321921969042),\n",
    "    tf.keras.layers.Dense(17, activation='relu'),\n",
    "    tf.keras.layers.Dropout(0.017389321921969042),\n",
    "    tf.keras.layers.Dense(1,activation='sigmoid')\n",
    "])\n",
    "\n",
    "model_RNN.compile(loss=tf.keras.losses.BinaryCrossentropy(),\n",
    "              optimizer=tf.keras.optimizers.Adam(),\n",
    "              metrics=['accuracy'])\n",
    "model_RNN.fit(X_train_scaled, y_train, epochs=20, batch_size=16,\n",
    "           validation_data=(X_val,y_val))"
   ]
  },
  {
   "cell_type": "code",
   "execution_count": 117,
   "metadata": {},
   "outputs": [
    {
     "name": "stdout",
     "output_type": "stream",
     "text": [
      "65/65 [==============================] - 0s 2ms/step - loss: 0.2581 - accuracy: 0.9275\n"
     ]
    },
    {
     "data": {
      "text/plain": [
       "[0.2580638825893402, 0.9274661540985107]"
      ]
     },
     "execution_count": 117,
     "metadata": {},
     "output_type": "execute_result"
    }
   ],
   "source": [
    "model_RNN.evaluate(X_test_scaled, y_test) # La precisión es la misma que la primera red"
   ]
  },
  {
   "cell_type": "code",
   "execution_count": 118,
   "metadata": {},
   "outputs": [
    {
     "name": "stdout",
     "output_type": "stream",
     "text": [
      "65/65 [==============================] - 0s 2ms/step\n"
     ]
    },
    {
     "data": {
      "text/plain": [
       "T1     92\n",
       "T2     58\n",
       "T3    195\n",
       "T4    231\n",
       "T5    615\n",
       "T6    623\n",
       "T7    250\n",
       "T8      4\n",
       "Name: Grupo_de_Riesgo, dtype: int64"
      ]
     },
     "execution_count": 118,
     "metadata": {},
     "output_type": "execute_result"
    }
   ],
   "source": [
    "pred_RNN = model_RNN.predict(X_test_scaled)\n",
    "pred_RNN = pd.DataFrame(pred_RNN)\n",
    "pred_RNN['Grupo_de_Riesgo'] = pd.cut(pred_RNN[0], bins, labels = names)\n",
    "pred_RNN['Grupo_de_Riesgo'].value_counts().sort_index()"
   ]
  },
  {
   "cell_type": "code",
   "execution_count": 119,
   "metadata": {},
   "outputs": [],
   "source": [
    "## Estos son los resultados de la segunda red neuronal por grupo de riesgo."
   ]
  },
  {
   "cell_type": "code",
   "execution_count": 120,
   "metadata": {},
   "outputs": [
    {
     "data": {
      "image/png": "[encoded data removed]",
      "text/plain": [
       "<Figure size 640x480 with 1 Axes>"
      ]
     },
     "metadata": {},
     "output_type": "display_data"
    }
   ],
   "source": [
    "RNN_roc_auc = roc_auc_score(y_test, pred_RNN.iloc[:,0])\n",
    "FP, VP, umbral = roc_curve(y_test, pred_RNN.iloc[:,0])\n",
    "fig, ax = plt.subplots()\n",
    "ax.plot(FP, VP, color = \"darkblue\")\n",
    "ax.plot([0,1], [0,1], linestyle = \"--\", color = \"red\")\n",
    "ax.set_xlabel(\"Tasa de Falsos Positivos\")\n",
    "ax.set_ylabel(\"Tasa de Verdaderos Positivos\")\n",
    "ax.set_title(\"Curva ROC RNN\", fontweight = \"bold\", size = 15)\n",
    "fig.text(.9,-.02, \"Elaboración:\", fontsize = 10, fontweight = \"bold\",\n",
    "         ha = \"right\")\n",
    "fig.text(.9,-.1, \"Saenz\\n(2023)\", fontsize = 8, ha = \"right\")\n",
    "plt.show()"
   ]
  },
  {
   "cell_type": "markdown",
   "metadata": {},
   "source": [
    "### Comparación de modelos"
   ]
  },
  {
   "cell_type": "code",
   "execution_count": 121,
   "metadata": {},
   "outputs": [
    {
     "name": "stdout",
     "output_type": "stream",
     "text": [
      "65/65 [==============================] - 0s 2ms/step - loss: 0.2539 - accuracy: 0.9270\n",
      "65/65 [==============================] - 0s 2ms/step - loss: 0.2581 - accuracy: 0.9275\n"
     ]
    }
   ],
   "source": [
    "score_1NN = model.evaluate(X_test_scaled, y_test)[1]\n",
    "score_2NN = model_RNN.evaluate(X_test_scaled, y_test)[1]"
   ]
  },
  {
   "cell_type": "code",
   "execution_count": 122,
   "metadata": {},
   "outputs": [
    {
     "data": {
      "text/plain": [
       "(0.9264990328820116,\n",
       " 0.9264990328820116,\n",
       " 0.9260154738878144,\n",
       " 0.9274661508704062,\n",
       " 0.926982581615448,\n",
       " 0.9274661540985107)"
      ]
     },
     "execution_count": 122,
     "metadata": {},
     "output_type": "execute_result"
    }
   ],
   "source": [
    "score_lr, score_rf, score_knn, score_svm, score_1NN, score_2NN"
   ]
  },
  {
   "cell_type": "code",
   "execution_count": 123,
   "metadata": {},
   "outputs": [],
   "source": [
    "# Por precisión es mejor la red neuronal, cualquiera de las dos. Seguido de el Support Vector Machine y de tercero el Random Forest."
   ]
  },
  {
   "cell_type": "code",
   "execution_count": 124,
   "metadata": {},
   "outputs": [
    {
     "data": {
      "text/plain": [
       "T1     51\n",
       "T2     41\n",
       "T3    131\n",
       "T4    196\n",
       "T5    679\n",
       "T6    714\n",
       "T7    252\n",
       "T8      4\n",
       "Name: Grupo_de_Riesgo, dtype: int64"
      ]
     },
     "execution_count": 124,
     "metadata": {},
     "output_type": "execute_result"
    }
   ],
   "source": [
    "prob_incum_logistic['Grupo_de_Riesgo'].value_counts().sort_index()"
   ]
  },
  {
   "cell_type": "code",
   "execution_count": 125,
   "metadata": {},
   "outputs": [
    {
     "data": {
      "text/plain": [
       "T1     85\n",
       "T2     53\n",
       "T3    202\n",
       "T4    200\n",
       "T5    500\n",
       "T6    687\n",
       "T7    326\n",
       "T8     15\n",
       "Name: Grupo_de_Riesgo, dtype: int64"
      ]
     },
     "execution_count": 125,
     "metadata": {},
     "output_type": "execute_result"
    }
   ],
   "source": [
    "prob_incum_rf['Grupo_de_Riesgo'].value_counts().sort_index()"
   ]
  },
  {
   "cell_type": "code",
   "execution_count": 126,
   "metadata": {},
   "outputs": [
    {
     "data": {
      "text/plain": [
       "T1      0\n",
       "T2      0\n",
       "T3      0\n",
       "T4      0\n",
       "T5    664\n",
       "T6    389\n",
       "T7    196\n",
       "T8     45\n",
       "Name: Grupo_de_Riesgo, dtype: int64"
      ]
     },
     "execution_count": 126,
     "metadata": {},
     "output_type": "execute_result"
    }
   ],
   "source": [
    "prob_incum_knn['Grupo_de_Riesgo'].value_counts().sort_index()"
   ]
  },
  {
   "cell_type": "code",
   "execution_count": 129,
   "metadata": {},
   "outputs": [],
   "source": [
    "prob_incum_svm['Grupo_de_Riesgo'].value_counts().sort_index()"
   ]
  },
  {
   "cell_type": "code",
   "execution_count": 128,
   "metadata": {},
   "outputs": [
    {
     "data": {
      "text/plain": [
       "T1     55\n",
       "T2     33\n",
       "T3    139\n",
       "T4    251\n",
       "T5    660\n",
       "T6    651\n",
       "T7    273\n",
       "T8      6\n",
       "Name: Grupo_de_Riesgo, dtype: int64"
      ]
     },
     "execution_count": 128,
     "metadata": {},
     "output_type": "execute_result"
    }
   ],
   "source": [
    "pred_NN['Grupo_de_Riesgo'].value_counts().sort_index()"
   ]
  },
  {
   "cell_type": "code",
   "execution_count": 130,
   "metadata": {},
   "outputs": [
    {
     "data": {
      "text/plain": [
       "T1     92\n",
       "T2     58\n",
       "T3    195\n",
       "T4    231\n",
       "T5    615\n",
       "T6    623\n",
       "T7    250\n",
       "T8      4\n",
       "Name: Grupo_de_Riesgo, dtype: int64"
      ]
     },
     "execution_count": 130,
     "metadata": {},
     "output_type": "execute_result"
    }
   ],
   "source": [
    "pred_RNN['Grupo_de_Riesgo'].value_counts().sort_index()"
   ]
  },
  {
   "cell_type": "markdown",
   "metadata": {},
   "source": [
    "Los modelos de KNN y SVM quedan excluidos porque no clasificaron en todos los grupos de riesgos. Se escoge la segunda red neuronal ya que presentó una precisión alta y además se estimó teniendo en cuenta una amplia grilla de parámetros y también penalización por Dropout."
   ]
  },
  {
   "cell_type": "code",
   "execution_count": 131,
   "metadata": {},
   "outputs": [
    {
     "data": {
      "text/html": [
       "<div>\n",
       "<style scoped>\n",
       "    .dataframe tbody tr th:only-of-type {\n",
       "        vertical-align: middle;\n",
       "    }\n",
       "\n",
       "    .dataframe tbody tr th {\n",
       "        vertical-align: top;\n",
       "    }\n",
       "\n",
       "    .dataframe thead th {\n",
       "        text-align: right;\n",
       "    }\n",
       "</style>\n",
       "<table border=\"1\" class=\"dataframe\">\n",
       "  <thead>\n",
       "    <tr style=\"text-align: right;\">\n",
       "      <th></th>\n",
       "      <th>Probabilidad</th>\n",
       "      <th>grupo_riesgo</th>\n",
       "    </tr>\n",
       "  </thead>\n",
       "  <tbody>\n",
       "    <tr>\n",
       "      <th>0</th>\n",
       "      <td>0.015339</td>\n",
       "      <td>T3</td>\n",
       "    </tr>\n",
       "    <tr>\n",
       "      <th>1</th>\n",
       "      <td>0.008227</td>\n",
       "      <td>T1</td>\n",
       "    </tr>\n",
       "    <tr>\n",
       "      <th>2</th>\n",
       "      <td>0.044656</td>\n",
       "      <td>T4</td>\n",
       "    </tr>\n",
       "    <tr>\n",
       "      <th>3</th>\n",
       "      <td>0.086790</td>\n",
       "      <td>T6</td>\n",
       "    </tr>\n",
       "    <tr>\n",
       "      <th>4</th>\n",
       "      <td>0.151853</td>\n",
       "      <td>T7</td>\n",
       "    </tr>\n",
       "    <tr>\n",
       "      <th>...</th>\n",
       "      <td>...</td>\n",
       "      <td>...</td>\n",
       "    </tr>\n",
       "    <tr>\n",
       "      <th>2063</th>\n",
       "      <td>0.027600</td>\n",
       "      <td>T3</td>\n",
       "    </tr>\n",
       "    <tr>\n",
       "      <th>2064</th>\n",
       "      <td>0.019957</td>\n",
       "      <td>T3</td>\n",
       "    </tr>\n",
       "    <tr>\n",
       "      <th>2065</th>\n",
       "      <td>0.134404</td>\n",
       "      <td>T6</td>\n",
       "    </tr>\n",
       "    <tr>\n",
       "      <th>2066</th>\n",
       "      <td>0.072088</td>\n",
       "      <td>T5</td>\n",
       "    </tr>\n",
       "    <tr>\n",
       "      <th>2067</th>\n",
       "      <td>0.054990</td>\n",
       "      <td>T5</td>\n",
       "    </tr>\n",
       "  </tbody>\n",
       "</table>\n",
       "<p>2068 rows × 2 columns</p>\n",
       "</div>"
      ],
      "text/plain": [
       "      Probabilidad grupo_riesgo\n",
       "0         0.015339           T3\n",
       "1         0.008227           T1\n",
       "2         0.044656           T4\n",
       "3         0.086790           T6\n",
       "4         0.151853           T7\n",
       "...            ...          ...\n",
       "2063      0.027600           T3\n",
       "2064      0.019957           T3\n",
       "2065      0.134404           T6\n",
       "2066      0.072088           T5\n",
       "2067      0.054990           T5\n",
       "\n",
       "[2068 rows x 2 columns]"
      ]
     },
     "execution_count": 131,
     "metadata": {},
     "output_type": "execute_result"
    }
   ],
   "source": [
    "pred_RNN.rename(columns = {0:'Probabilidad', 'Grupo_de_Riesgo':'grupo_riesgo'}, inplace = True)\n",
    "pred_RNN"
   ]
  },
  {
   "cell_type": "code",
   "execution_count": 133,
   "metadata": {},
   "outputs": [
    {
     "data": {
      "text/html": [
       "<div>\n",
       "<style scoped>\n",
       "    .dataframe tbody tr th:only-of-type {\n",
       "        vertical-align: middle;\n",
       "    }\n",
       "\n",
       "    .dataframe tbody tr th {\n",
       "        vertical-align: top;\n",
       "    }\n",
       "\n",
       "    .dataframe thead th {\n",
       "        text-align: right;\n",
       "    }\n",
       "</style>\n",
       "<table border=\"1\" class=\"dataframe\">\n",
       "  <thead>\n",
       "    <tr style=\"text-align: right;\">\n",
       "      <th></th>\n",
       "      <th>num_doc</th>\n",
       "    </tr>\n",
       "  </thead>\n",
       "  <tbody>\n",
       "    <tr>\n",
       "      <th>0</th>\n",
       "      <td>9.540607e+09</td>\n",
       "    </tr>\n",
       "    <tr>\n",
       "      <th>1</th>\n",
       "      <td>4.738860e+10</td>\n",
       "    </tr>\n",
       "    <tr>\n",
       "      <th>2</th>\n",
       "      <td>3.407610e+11</td>\n",
       "    </tr>\n",
       "    <tr>\n",
       "      <th>3</th>\n",
       "      <td>3.925603e+11</td>\n",
       "    </tr>\n",
       "    <tr>\n",
       "      <th>4</th>\n",
       "      <td>3.985404e+11</td>\n",
       "    </tr>\n",
       "    <tr>\n",
       "      <th>...</th>\n",
       "      <td>...</td>\n",
       "    </tr>\n",
       "    <tr>\n",
       "      <th>2063</th>\n",
       "      <td>4.065446e+11</td>\n",
       "    </tr>\n",
       "    <tr>\n",
       "      <th>2064</th>\n",
       "      <td>4.402110e+11</td>\n",
       "    </tr>\n",
       "    <tr>\n",
       "      <th>2065</th>\n",
       "      <td>5.226720e+11</td>\n",
       "    </tr>\n",
       "    <tr>\n",
       "      <th>2066</th>\n",
       "      <td>5.707172e+11</td>\n",
       "    </tr>\n",
       "    <tr>\n",
       "      <th>2067</th>\n",
       "      <td>9.614543e+11</td>\n",
       "    </tr>\n",
       "  </tbody>\n",
       "</table>\n",
       "<p>2068 rows × 1 columns</p>\n",
       "</div>"
      ],
      "text/plain": [
       "           num_doc\n",
       "0     9.540607e+09\n",
       "1     4.738860e+10\n",
       "2     3.407610e+11\n",
       "3     3.925603e+11\n",
       "4     3.985404e+11\n",
       "...            ...\n",
       "2063  4.065446e+11\n",
       "2064  4.402110e+11\n",
       "2065  5.226720e+11\n",
       "2066  5.707172e+11\n",
       "2067  9.614543e+11\n",
       "\n",
       "[2068 rows x 1 columns]"
      ]
     },
     "execution_count": 133,
     "metadata": {},
     "output_type": "execute_result"
    }
   ],
   "source": [
    "num_doc_prueba = pd.DataFrame(num_doc_prueba)\n",
    "num_doc_prueba"
   ]
  },
  {
   "cell_type": "code",
   "execution_count": 134,
   "metadata": {},
   "outputs": [
    {
     "data": {
      "text/html": [
       "<div>\n",
       "<style scoped>\n",
       "    .dataframe tbody tr th:only-of-type {\n",
       "        vertical-align: middle;\n",
       "    }\n",
       "\n",
       "    .dataframe tbody tr th {\n",
       "        vertical-align: top;\n",
       "    }\n",
       "\n",
       "    .dataframe thead th {\n",
       "        text-align: right;\n",
       "    }\n",
       "</style>\n",
       "<table border=\"1\" class=\"dataframe\">\n",
       "  <thead>\n",
       "    <tr style=\"text-align: right;\">\n",
       "      <th></th>\n",
       "      <th>num_doc</th>\n",
       "      <th>Probabilidad</th>\n",
       "      <th>grupo_riesgo</th>\n",
       "    </tr>\n",
       "  </thead>\n",
       "  <tbody>\n",
       "    <tr>\n",
       "      <th>0</th>\n",
       "      <td>9.540607e+09</td>\n",
       "      <td>0.015339</td>\n",
       "      <td>T3</td>\n",
       "    </tr>\n",
       "    <tr>\n",
       "      <th>1</th>\n",
       "      <td>4.738860e+10</td>\n",
       "      <td>0.008227</td>\n",
       "      <td>T1</td>\n",
       "    </tr>\n",
       "    <tr>\n",
       "      <th>2</th>\n",
       "      <td>3.407610e+11</td>\n",
       "      <td>0.044656</td>\n",
       "      <td>T4</td>\n",
       "    </tr>\n",
       "    <tr>\n",
       "      <th>3</th>\n",
       "      <td>3.925603e+11</td>\n",
       "      <td>0.086790</td>\n",
       "      <td>T6</td>\n",
       "    </tr>\n",
       "    <tr>\n",
       "      <th>4</th>\n",
       "      <td>3.985404e+11</td>\n",
       "      <td>0.151853</td>\n",
       "      <td>T7</td>\n",
       "    </tr>\n",
       "    <tr>\n",
       "      <th>...</th>\n",
       "      <td>...</td>\n",
       "      <td>...</td>\n",
       "      <td>...</td>\n",
       "    </tr>\n",
       "    <tr>\n",
       "      <th>2063</th>\n",
       "      <td>4.065446e+11</td>\n",
       "      <td>0.027600</td>\n",
       "      <td>T3</td>\n",
       "    </tr>\n",
       "    <tr>\n",
       "      <th>2064</th>\n",
       "      <td>4.402110e+11</td>\n",
       "      <td>0.019957</td>\n",
       "      <td>T3</td>\n",
       "    </tr>\n",
       "    <tr>\n",
       "      <th>2065</th>\n",
       "      <td>5.226720e+11</td>\n",
       "      <td>0.134404</td>\n",
       "      <td>T6</td>\n",
       "    </tr>\n",
       "    <tr>\n",
       "      <th>2066</th>\n",
       "      <td>5.707172e+11</td>\n",
       "      <td>0.072088</td>\n",
       "      <td>T5</td>\n",
       "    </tr>\n",
       "    <tr>\n",
       "      <th>2067</th>\n",
       "      <td>9.614543e+11</td>\n",
       "      <td>0.054990</td>\n",
       "      <td>T5</td>\n",
       "    </tr>\n",
       "  </tbody>\n",
       "</table>\n",
       "<p>2068 rows × 3 columns</p>\n",
       "</div>"
      ],
      "text/plain": [
       "           num_doc  Probabilidad grupo_riesgo\n",
       "0     9.540607e+09      0.015339           T3\n",
       "1     4.738860e+10      0.008227           T1\n",
       "2     3.407610e+11      0.044656           T4\n",
       "3     3.925603e+11      0.086790           T6\n",
       "4     3.985404e+11      0.151853           T7\n",
       "...            ...           ...          ...\n",
       "2063  4.065446e+11      0.027600           T3\n",
       "2064  4.402110e+11      0.019957           T3\n",
       "2065  5.226720e+11      0.134404           T6\n",
       "2066  5.707172e+11      0.072088           T5\n",
       "2067  9.614543e+11      0.054990           T5\n",
       "\n",
       "[2068 rows x 3 columns]"
      ]
     },
     "execution_count": 134,
     "metadata": {},
     "output_type": "execute_result"
    }
   ],
   "source": [
    "pred_grupo_riesgo_valid = pd.concat([num_doc_prueba, pred_RNN], axis=1)\n",
    "pred_grupo_riesgo_valid"
   ]
  },
  {
   "cell_type": "markdown",
   "metadata": {},
   "source": [
    "## Análisis para el conjunto de prueba"
   ]
  },
  {
   "cell_type": "code",
   "execution_count": null,
   "metadata": {},
   "outputs": [],
   "source": [
    "base_prueba = pd.read_csv('base_prueba.csv', sep ='|')\n",
    "base_prueba"
   ]
  },
  {
   "cell_type": "code",
   "execution_count": 148,
   "metadata": {},
   "outputs": [
    {
     "data": {
      "text/html": [
       "<div>\n",
       "<style scoped>\n",
       "    .dataframe tbody tr th:only-of-type {\n",
       "        vertical-align: middle;\n",
       "    }\n",
       "\n",
       "    .dataframe tbody tr th {\n",
       "        vertical-align: top;\n",
       "    }\n",
       "\n",
       "    .dataframe thead th {\n",
       "        text-align: right;\n",
       "    }\n",
       "</style>\n",
       "<table border=\"1\" class=\"dataframe\">\n",
       "  <thead>\n",
       "    <tr style=\"text-align: right;\">\n",
       "      <th></th>\n",
       "      <th>trx39</th>\n",
       "      <th>trx102</th>\n",
       "      <th>trx106</th>\n",
       "      <th>trx143</th>\n",
       "      <th>trx158</th>\n",
       "      <th>disp309</th>\n",
       "      <th>CO01END010RO</th>\n",
       "      <th>CO01ACP017CC</th>\n",
       "      <th>CO02EXP011TO</th>\n",
       "      <th>CO02EXP004TO</th>\n",
       "      <th>...</th>\n",
       "      <th>CO01END086RO</th>\n",
       "      <th>CO01END094RO</th>\n",
       "      <th>CO02NUM086AH</th>\n",
       "      <th>CO02NUM043RO</th>\n",
       "      <th>CO01EXP002AH</th>\n",
       "      <th>CO01NUM002AH</th>\n",
       "      <th>CO01END051RO</th>\n",
       "      <th>CO01ACP011RO</th>\n",
       "      <th>CO02MOR092TO</th>\n",
       "      <th>CO01MOR098RO</th>\n",
       "    </tr>\n",
       "  </thead>\n",
       "  <tbody>\n",
       "    <tr>\n",
       "      <th>0</th>\n",
       "      <td>0.986013</td>\n",
       "      <td>0.000000</td>\n",
       "      <td>0.000022</td>\n",
       "      <td>0.140096</td>\n",
       "      <td>0.461207</td>\n",
       "      <td>7.0</td>\n",
       "      <td>-1.00</td>\n",
       "      <td>39.0</td>\n",
       "      <td>100.00</td>\n",
       "      <td>15.0</td>\n",
       "      <td>...</td>\n",
       "      <td>-1.00</td>\n",
       "      <td>-1.00</td>\n",
       "      <td>25.00</td>\n",
       "      <td>-1.0</td>\n",
       "      <td>15.0</td>\n",
       "      <td>1.0</td>\n",
       "      <td>-1.00</td>\n",
       "      <td>-1.0</td>\n",
       "      <td>100.0</td>\n",
       "      <td>-1.0</td>\n",
       "    </tr>\n",
       "    <tr>\n",
       "      <th>3</th>\n",
       "      <td>0.372678</td>\n",
       "      <td>0.000000</td>\n",
       "      <td>0.000005</td>\n",
       "      <td>0.000000</td>\n",
       "      <td>0.069334</td>\n",
       "      <td>7.0</td>\n",
       "      <td>1.05</td>\n",
       "      <td>-1.0</td>\n",
       "      <td>66.67</td>\n",
       "      <td>10.0</td>\n",
       "      <td>...</td>\n",
       "      <td>34.82</td>\n",
       "      <td>2.42</td>\n",
       "      <td>66.67</td>\n",
       "      <td>0.0</td>\n",
       "      <td>11.0</td>\n",
       "      <td>2.0</td>\n",
       "      <td>1.92</td>\n",
       "      <td>-2.0</td>\n",
       "      <td>-3.0</td>\n",
       "      <td>-3.0</td>\n",
       "    </tr>\n",
       "    <tr>\n",
       "      <th>4</th>\n",
       "      <td>1.089725</td>\n",
       "      <td>0.000000</td>\n",
       "      <td>0.000000</td>\n",
       "      <td>0.186817</td>\n",
       "      <td>0.118401</td>\n",
       "      <td>11.0</td>\n",
       "      <td>-2.00</td>\n",
       "      <td>-2.0</td>\n",
       "      <td>75.00</td>\n",
       "      <td>10.0</td>\n",
       "      <td>...</td>\n",
       "      <td>-3.00</td>\n",
       "      <td>-2.00</td>\n",
       "      <td>50.00</td>\n",
       "      <td>100.0</td>\n",
       "      <td>10.0</td>\n",
       "      <td>2.0</td>\n",
       "      <td>-3.00</td>\n",
       "      <td>0.0</td>\n",
       "      <td>100.0</td>\n",
       "      <td>-3.0</td>\n",
       "    </tr>\n",
       "    <tr>\n",
       "      <th>5</th>\n",
       "      <td>0.000000</td>\n",
       "      <td>0.000000</td>\n",
       "      <td>0.000000</td>\n",
       "      <td>0.026700</td>\n",
       "      <td>0.000000</td>\n",
       "      <td>6.0</td>\n",
       "      <td>0.33</td>\n",
       "      <td>-2.0</td>\n",
       "      <td>100.00</td>\n",
       "      <td>0.0</td>\n",
       "      <td>...</td>\n",
       "      <td>92.62</td>\n",
       "      <td>2.54</td>\n",
       "      <td>33.33</td>\n",
       "      <td>50.0</td>\n",
       "      <td>0.0</td>\n",
       "      <td>4.0</td>\n",
       "      <td>2.68</td>\n",
       "      <td>0.0</td>\n",
       "      <td>100.0</td>\n",
       "      <td>-3.0</td>\n",
       "    </tr>\n",
       "    <tr>\n",
       "      <th>7</th>\n",
       "      <td>1.280191</td>\n",
       "      <td>0.000000</td>\n",
       "      <td>0.000001</td>\n",
       "      <td>0.382554</td>\n",
       "      <td>0.196148</td>\n",
       "      <td>12.0</td>\n",
       "      <td>-1.00</td>\n",
       "      <td>61.0</td>\n",
       "      <td>100.00</td>\n",
       "      <td>8.0</td>\n",
       "      <td>...</td>\n",
       "      <td>-1.00</td>\n",
       "      <td>-1.00</td>\n",
       "      <td>50.00</td>\n",
       "      <td>-1.0</td>\n",
       "      <td>11.0</td>\n",
       "      <td>1.0</td>\n",
       "      <td>-1.00</td>\n",
       "      <td>-1.0</td>\n",
       "      <td>-3.0</td>\n",
       "      <td>-1.0</td>\n",
       "    </tr>\n",
       "    <tr>\n",
       "      <th>...</th>\n",
       "      <td>...</td>\n",
       "      <td>...</td>\n",
       "      <td>...</td>\n",
       "      <td>...</td>\n",
       "      <td>...</td>\n",
       "      <td>...</td>\n",
       "      <td>...</td>\n",
       "      <td>...</td>\n",
       "      <td>...</td>\n",
       "      <td>...</td>\n",
       "      <td>...</td>\n",
       "      <td>...</td>\n",
       "      <td>...</td>\n",
       "      <td>...</td>\n",
       "      <td>...</td>\n",
       "      <td>...</td>\n",
       "      <td>...</td>\n",
       "      <td>...</td>\n",
       "      <td>...</td>\n",
       "      <td>...</td>\n",
       "      <td>...</td>\n",
       "    </tr>\n",
       "    <tr>\n",
       "      <th>5868</th>\n",
       "      <td>3.578485</td>\n",
       "      <td>0.000006</td>\n",
       "      <td>0.000000</td>\n",
       "      <td>0.553695</td>\n",
       "      <td>0.130235</td>\n",
       "      <td>8.0</td>\n",
       "      <td>-1.00</td>\n",
       "      <td>39.0</td>\n",
       "      <td>33.33</td>\n",
       "      <td>2.0</td>\n",
       "      <td>...</td>\n",
       "      <td>-1.00</td>\n",
       "      <td>-1.00</td>\n",
       "      <td>50.00</td>\n",
       "      <td>-1.0</td>\n",
       "      <td>2.0</td>\n",
       "      <td>5.0</td>\n",
       "      <td>-1.00</td>\n",
       "      <td>-1.0</td>\n",
       "      <td>0.0</td>\n",
       "      <td>-1.0</td>\n",
       "    </tr>\n",
       "    <tr>\n",
       "      <th>5874</th>\n",
       "      <td>0.276385</td>\n",
       "      <td>0.000000</td>\n",
       "      <td>0.000000</td>\n",
       "      <td>0.017689</td>\n",
       "      <td>0.004267</td>\n",
       "      <td>11.0</td>\n",
       "      <td>-1.00</td>\n",
       "      <td>-2.0</td>\n",
       "      <td>100.00</td>\n",
       "      <td>2.0</td>\n",
       "      <td>...</td>\n",
       "      <td>-1.00</td>\n",
       "      <td>-1.00</td>\n",
       "      <td>33.33</td>\n",
       "      <td>-1.0</td>\n",
       "      <td>2.0</td>\n",
       "      <td>1.0</td>\n",
       "      <td>-1.00</td>\n",
       "      <td>-1.0</td>\n",
       "      <td>-3.0</td>\n",
       "      <td>-1.0</td>\n",
       "    </tr>\n",
       "    <tr>\n",
       "      <th>5882</th>\n",
       "      <td>0.276385</td>\n",
       "      <td>0.000001</td>\n",
       "      <td>0.000000</td>\n",
       "      <td>0.000000</td>\n",
       "      <td>0.021334</td>\n",
       "      <td>12.0</td>\n",
       "      <td>-1.00</td>\n",
       "      <td>-1.0</td>\n",
       "      <td>-4.00</td>\n",
       "      <td>96.0</td>\n",
       "      <td>...</td>\n",
       "      <td>-1.00</td>\n",
       "      <td>-1.00</td>\n",
       "      <td>-1.00</td>\n",
       "      <td>-1.0</td>\n",
       "      <td>-1.0</td>\n",
       "      <td>-1.0</td>\n",
       "      <td>-1.00</td>\n",
       "      <td>-1.0</td>\n",
       "      <td>-1.0</td>\n",
       "      <td>-1.0</td>\n",
       "    </tr>\n",
       "    <tr>\n",
       "      <th>5886</th>\n",
       "      <td>0.372678</td>\n",
       "      <td>0.000028</td>\n",
       "      <td>0.000032</td>\n",
       "      <td>0.000000</td>\n",
       "      <td>0.020488</td>\n",
       "      <td>8.0</td>\n",
       "      <td>-1.00</td>\n",
       "      <td>8.0</td>\n",
       "      <td>66.67</td>\n",
       "      <td>2.0</td>\n",
       "      <td>...</td>\n",
       "      <td>-1.00</td>\n",
       "      <td>-1.00</td>\n",
       "      <td>66.67</td>\n",
       "      <td>-1.0</td>\n",
       "      <td>2.0</td>\n",
       "      <td>2.0</td>\n",
       "      <td>-1.00</td>\n",
       "      <td>-1.0</td>\n",
       "      <td>-3.0</td>\n",
       "      <td>-1.0</td>\n",
       "    </tr>\n",
       "    <tr>\n",
       "      <th>5888</th>\n",
       "      <td>0.000000</td>\n",
       "      <td>0.000006</td>\n",
       "      <td>0.000005</td>\n",
       "      <td>0.300460</td>\n",
       "      <td>0.000000</td>\n",
       "      <td>8.0</td>\n",
       "      <td>0.36</td>\n",
       "      <td>10.0</td>\n",
       "      <td>72.73</td>\n",
       "      <td>0.0</td>\n",
       "      <td>...</td>\n",
       "      <td>-3.00</td>\n",
       "      <td>1.09</td>\n",
       "      <td>36.36</td>\n",
       "      <td>0.0</td>\n",
       "      <td>2.0</td>\n",
       "      <td>4.0</td>\n",
       "      <td>-4.00</td>\n",
       "      <td>-2.0</td>\n",
       "      <td>100.0</td>\n",
       "      <td>-2.0</td>\n",
       "    </tr>\n",
       "  </tbody>\n",
       "</table>\n",
       "<p>2637 rows × 24 columns</p>\n",
       "</div>"
      ],
      "text/plain": [
       "         trx39    trx102    trx106    trx143    trx158  disp309  CO01END010RO  \\\n",
       "0     0.986013  0.000000  0.000022  0.140096  0.461207      7.0         -1.00   \n",
       "3     0.372678  0.000000  0.000005  0.000000  0.069334      7.0          1.05   \n",
       "4     1.089725  0.000000  0.000000  0.186817  0.118401     11.0         -2.00   \n",
       "5     0.000000  0.000000  0.000000  0.026700  0.000000      6.0          0.33   \n",
       "7     1.280191  0.000000  0.000001  0.382554  0.196148     12.0         -1.00   \n",
       "...        ...       ...       ...       ...       ...      ...           ...   \n",
       "5868  3.578485  0.000006  0.000000  0.553695  0.130235      8.0         -1.00   \n",
       "5874  0.276385  0.000000  0.000000  0.017689  0.004267     11.0         -1.00   \n",
       "5882  0.276385  0.000001  0.000000  0.000000  0.021334     12.0         -1.00   \n",
       "5886  0.372678  0.000028  0.000032  0.000000  0.020488      8.0         -1.00   \n",
       "5888  0.000000  0.000006  0.000005  0.300460  0.000000      8.0          0.36   \n",
       "\n",
       "      CO01ACP017CC  CO02EXP011TO  CO02EXP004TO  ...  CO01END086RO  \\\n",
       "0             39.0        100.00          15.0  ...         -1.00   \n",
       "3             -1.0         66.67          10.0  ...         34.82   \n",
       "4             -2.0         75.00          10.0  ...         -3.00   \n",
       "5             -2.0        100.00           0.0  ...         92.62   \n",
       "7             61.0        100.00           8.0  ...         -1.00   \n",
       "...            ...           ...           ...  ...           ...   \n",
       "5868          39.0         33.33           2.0  ...         -1.00   \n",
       "5874          -2.0        100.00           2.0  ...         -1.00   \n",
       "5882          -1.0         -4.00          96.0  ...         -1.00   \n",
       "5886           8.0         66.67           2.0  ...         -1.00   \n",
       "5888          10.0         72.73           0.0  ...         -3.00   \n",
       "\n",
       "      CO01END094RO  CO02NUM086AH  CO02NUM043RO  CO01EXP002AH  CO01NUM002AH  \\\n",
       "0            -1.00         25.00          -1.0          15.0           1.0   \n",
       "3             2.42         66.67           0.0          11.0           2.0   \n",
       "4            -2.00         50.00         100.0          10.0           2.0   \n",
       "5             2.54         33.33          50.0           0.0           4.0   \n",
       "7            -1.00         50.00          -1.0          11.0           1.0   \n",
       "...            ...           ...           ...           ...           ...   \n",
       "5868         -1.00         50.00          -1.0           2.0           5.0   \n",
       "5874         -1.00         33.33          -1.0           2.0           1.0   \n",
       "5882         -1.00         -1.00          -1.0          -1.0          -1.0   \n",
       "5886         -1.00         66.67          -1.0           2.0           2.0   \n",
       "5888          1.09         36.36           0.0           2.0           4.0   \n",
       "\n",
       "      CO01END051RO  CO01ACP011RO  CO02MOR092TO  CO01MOR098RO  \n",
       "0            -1.00          -1.0         100.0          -1.0  \n",
       "3             1.92          -2.0          -3.0          -3.0  \n",
       "4            -3.00           0.0         100.0          -3.0  \n",
       "5             2.68           0.0         100.0          -3.0  \n",
       "7            -1.00          -1.0          -3.0          -1.0  \n",
       "...            ...           ...           ...           ...  \n",
       "5868         -1.00          -1.0           0.0          -1.0  \n",
       "5874         -1.00          -1.0          -3.0          -1.0  \n",
       "5882         -1.00          -1.0          -1.0          -1.0  \n",
       "5886         -1.00          -1.0          -3.0          -1.0  \n",
       "5888         -4.00          -2.0         100.0          -2.0  \n",
       "\n",
       "[2637 rows x 24 columns]"
      ]
     },
     "execution_count": 148,
     "metadata": {},
     "output_type": "execute_result"
    }
   ],
   "source": [
    "base_prueba = base_prueba.loc[(base_prueba['tipo_cliente']=='objetivo')]\n",
    "num_doc_prueba2 = base_prueba['num_doc']\n",
    "base_prueba = base_prueba.drop(['num_doc', 'f_analisis', 'tipo_cliente'], axis=1)\n",
    "base_prueba"
   ]
  },
  {
   "cell_type": "code",
   "execution_count": 150,
   "metadata": {},
   "outputs": [
    {
     "name": "stdout",
     "output_type": "stream",
     "text": [
      "[[ 0.47862748 -0.11093923 -0.12743426 ... -0.38659358  0.70165659\n",
      "  -0.78981634]\n",
      " [-0.2318512  -0.11093923 -0.12776231 ... -1.12053689 -1.57748366\n",
      "  -0.83143071]\n",
      " [ 0.59876537 -0.11093923 -0.12786325 ...  0.34734974  0.70165659\n",
      "  -0.83143071]\n",
      " ...\n",
      " [-0.34339512 -0.11091878 -0.12786325 ... -0.38659358 -1.53322851\n",
      "  -0.78981634]\n",
      " [-0.2318512  -0.11046894 -0.12723238 ... -0.38659358 -1.57748366\n",
      "  -0.78981634]\n",
      " [-0.66355593 -0.11083699 -0.12776231 ... -1.12053689  0.70165659\n",
      "  -0.81062352]]\n"
     ]
    }
   ],
   "source": [
    "# Escalar variables\n",
    "scaler = StandardScaler()\n",
    "base_prueba_scaled = scaler.fit_transform(base_prueba)\n",
    "print(base_prueba_scaled)"
   ]
  },
  {
   "cell_type": "code",
   "execution_count": 151,
   "metadata": {},
   "outputs": [
    {
     "data": {
      "text/html": [
       "<div>\n",
       "<style scoped>\n",
       "    .dataframe tbody tr th:only-of-type {\n",
       "        vertical-align: middle;\n",
       "    }\n",
       "\n",
       "    .dataframe tbody tr th {\n",
       "        vertical-align: top;\n",
       "    }\n",
       "\n",
       "    .dataframe thead th {\n",
       "        text-align: right;\n",
       "    }\n",
       "</style>\n",
       "<table border=\"1\" class=\"dataframe\">\n",
       "  <thead>\n",
       "    <tr style=\"text-align: right;\">\n",
       "      <th></th>\n",
       "      <th>0</th>\n",
       "      <th>1</th>\n",
       "      <th>2</th>\n",
       "      <th>3</th>\n",
       "      <th>4</th>\n",
       "      <th>5</th>\n",
       "      <th>6</th>\n",
       "      <th>7</th>\n",
       "      <th>8</th>\n",
       "      <th>9</th>\n",
       "      <th>...</th>\n",
       "      <th>14</th>\n",
       "      <th>15</th>\n",
       "      <th>16</th>\n",
       "      <th>17</th>\n",
       "      <th>18</th>\n",
       "      <th>19</th>\n",
       "      <th>20</th>\n",
       "      <th>21</th>\n",
       "      <th>22</th>\n",
       "      <th>23</th>\n",
       "    </tr>\n",
       "  </thead>\n",
       "  <tbody>\n",
       "    <tr>\n",
       "      <th>0</th>\n",
       "      <td>0.478627</td>\n",
       "      <td>-0.110939</td>\n",
       "      <td>-0.127434</td>\n",
       "      <td>0.219555</td>\n",
       "      <td>1.983358</td>\n",
       "      <td>0.082047</td>\n",
       "      <td>-0.508765</td>\n",
       "      <td>0.865011</td>\n",
       "      <td>0.668663</td>\n",
       "      <td>0.900077</td>\n",
       "      <td>...</td>\n",
       "      <td>-0.734984</td>\n",
       "      <td>-0.514134</td>\n",
       "      <td>-0.661756</td>\n",
       "      <td>-0.768903</td>\n",
       "      <td>0.385724</td>\n",
       "      <td>-0.899672</td>\n",
       "      <td>-0.332481</td>\n",
       "      <td>-0.386594</td>\n",
       "      <td>0.701657</td>\n",
       "      <td>-0.789816</td>\n",
       "    </tr>\n",
       "    <tr>\n",
       "      <th>1</th>\n",
       "      <td>-0.231851</td>\n",
       "      <td>-0.110939</td>\n",
       "      <td>-0.127762</td>\n",
       "      <td>-0.430960</td>\n",
       "      <td>-0.105325</td>\n",
       "      <td>0.082047</td>\n",
       "      <td>0.116568</td>\n",
       "      <td>-0.524592</td>\n",
       "      <td>-0.684393</td>\n",
       "      <td>0.466085</td>\n",
       "      <td>...</td>\n",
       "      <td>0.162886</td>\n",
       "      <td>-0.101167</td>\n",
       "      <td>0.964219</td>\n",
       "      <td>-0.740463</td>\n",
       "      <td>0.143285</td>\n",
       "      <td>-0.102483</td>\n",
       "      <td>0.002078</td>\n",
       "      <td>-1.120537</td>\n",
       "      <td>-1.577484</td>\n",
       "      <td>-0.831431</td>\n",
       "    </tr>\n",
       "    <tr>\n",
       "      <th>2</th>\n",
       "      <td>0.598765</td>\n",
       "      <td>-0.110939</td>\n",
       "      <td>-0.127863</td>\n",
       "      <td>0.436499</td>\n",
       "      <td>0.156203</td>\n",
       "      <td>1.219283</td>\n",
       "      <td>-0.813806</td>\n",
       "      <td>-0.559332</td>\n",
       "      <td>-0.346231</td>\n",
       "      <td>0.466085</td>\n",
       "      <td>...</td>\n",
       "      <td>-0.785116</td>\n",
       "      <td>-0.634884</td>\n",
       "      <td>0.313751</td>\n",
       "      <td>2.103616</td>\n",
       "      <td>0.082675</td>\n",
       "      <td>-0.102483</td>\n",
       "      <td>-0.561632</td>\n",
       "      <td>0.347350</td>\n",
       "      <td>0.701657</td>\n",
       "      <td>-0.831431</td>\n",
       "    </tr>\n",
       "    <tr>\n",
       "      <th>3</th>\n",
       "      <td>-0.663556</td>\n",
       "      <td>-0.110939</td>\n",
       "      <td>-0.127863</td>\n",
       "      <td>-0.306981</td>\n",
       "      <td>-0.474875</td>\n",
       "      <td>-0.202262</td>\n",
       "      <td>-0.103061</td>\n",
       "      <td>-0.559332</td>\n",
       "      <td>0.668663</td>\n",
       "      <td>-0.401900</td>\n",
       "      <td>...</td>\n",
       "      <td>1.611711</td>\n",
       "      <td>-0.086677</td>\n",
       "      <td>-0.336717</td>\n",
       "      <td>0.681577</td>\n",
       "      <td>-0.523424</td>\n",
       "      <td>1.491896</td>\n",
       "      <td>0.089155</td>\n",
       "      <td>0.347350</td>\n",
       "      <td>0.701657</td>\n",
       "      <td>-0.831431</td>\n",
       "    </tr>\n",
       "    <tr>\n",
       "      <th>4</th>\n",
       "      <td>0.819399</td>\n",
       "      <td>-0.110939</td>\n",
       "      <td>-0.127838</td>\n",
       "      <td>1.345379</td>\n",
       "      <td>0.570593</td>\n",
       "      <td>1.503592</td>\n",
       "      <td>-0.508765</td>\n",
       "      <td>1.629292</td>\n",
       "      <td>0.668663</td>\n",
       "      <td>0.292488</td>\n",
       "      <td>...</td>\n",
       "      <td>-0.734984</td>\n",
       "      <td>-0.514134</td>\n",
       "      <td>0.313751</td>\n",
       "      <td>-0.768903</td>\n",
       "      <td>0.143285</td>\n",
       "      <td>-0.899672</td>\n",
       "      <td>-0.332481</td>\n",
       "      <td>-0.386594</td>\n",
       "      <td>-1.577484</td>\n",
       "      <td>-0.789816</td>\n",
       "    </tr>\n",
       "    <tr>\n",
       "      <th>...</th>\n",
       "      <td>...</td>\n",
       "      <td>...</td>\n",
       "      <td>...</td>\n",
       "      <td>...</td>\n",
       "      <td>...</td>\n",
       "      <td>...</td>\n",
       "      <td>...</td>\n",
       "      <td>...</td>\n",
       "      <td>...</td>\n",
       "      <td>...</td>\n",
       "      <td>...</td>\n",
       "      <td>...</td>\n",
       "      <td>...</td>\n",
       "      <td>...</td>\n",
       "      <td>...</td>\n",
       "      <td>...</td>\n",
       "      <td>...</td>\n",
       "      <td>...</td>\n",
       "      <td>...</td>\n",
       "      <td>...</td>\n",
       "      <td>...</td>\n",
       "    </tr>\n",
       "    <tr>\n",
       "      <th>2632</th>\n",
       "      <td>3.481709</td>\n",
       "      <td>-0.110837</td>\n",
       "      <td>-0.127863</td>\n",
       "      <td>2.140046</td>\n",
       "      <td>0.219279</td>\n",
       "      <td>0.366356</td>\n",
       "      <td>-0.508765</td>\n",
       "      <td>0.865011</td>\n",
       "      <td>-2.037855</td>\n",
       "      <td>-0.228303</td>\n",
       "      <td>...</td>\n",
       "      <td>-0.734984</td>\n",
       "      <td>-0.514134</td>\n",
       "      <td>0.313751</td>\n",
       "      <td>-0.768903</td>\n",
       "      <td>-0.402204</td>\n",
       "      <td>2.289085</td>\n",
       "      <td>-0.332481</td>\n",
       "      <td>-0.386594</td>\n",
       "      <td>-1.511101</td>\n",
       "      <td>-0.789816</td>\n",
       "    </tr>\n",
       "    <tr>\n",
       "      <th>2633</th>\n",
       "      <td>-0.343395</td>\n",
       "      <td>-0.110939</td>\n",
       "      <td>-0.127863</td>\n",
       "      <td>-0.348824</td>\n",
       "      <td>-0.452133</td>\n",
       "      <td>1.219283</td>\n",
       "      <td>-0.508765</td>\n",
       "      <td>-0.559332</td>\n",
       "      <td>0.668663</td>\n",
       "      <td>-0.228303</td>\n",
       "      <td>...</td>\n",
       "      <td>-0.734984</td>\n",
       "      <td>-0.514134</td>\n",
       "      <td>-0.336717</td>\n",
       "      <td>-0.768903</td>\n",
       "      <td>-0.402204</td>\n",
       "      <td>-0.899672</td>\n",
       "      <td>-0.332481</td>\n",
       "      <td>-0.386594</td>\n",
       "      <td>-1.577484</td>\n",
       "      <td>-0.789816</td>\n",
       "    </tr>\n",
       "    <tr>\n",
       "      <th>2634</th>\n",
       "      <td>-0.343395</td>\n",
       "      <td>-0.110919</td>\n",
       "      <td>-0.127863</td>\n",
       "      <td>-0.430960</td>\n",
       "      <td>-0.361167</td>\n",
       "      <td>1.503592</td>\n",
       "      <td>-0.508765</td>\n",
       "      <td>-0.524592</td>\n",
       "      <td>-3.553295</td>\n",
       "      <td>7.930753</td>\n",
       "      <td>...</td>\n",
       "      <td>-0.734984</td>\n",
       "      <td>-0.514134</td>\n",
       "      <td>-1.676282</td>\n",
       "      <td>-0.768903</td>\n",
       "      <td>-0.584034</td>\n",
       "      <td>-2.494050</td>\n",
       "      <td>-0.332481</td>\n",
       "      <td>-0.386594</td>\n",
       "      <td>-1.533229</td>\n",
       "      <td>-0.789816</td>\n",
       "    </tr>\n",
       "    <tr>\n",
       "      <th>2635</th>\n",
       "      <td>-0.231851</td>\n",
       "      <td>-0.110469</td>\n",
       "      <td>-0.127232</td>\n",
       "      <td>-0.430960</td>\n",
       "      <td>-0.365672</td>\n",
       "      <td>0.366356</td>\n",
       "      <td>-0.508765</td>\n",
       "      <td>-0.211932</td>\n",
       "      <td>-0.684393</td>\n",
       "      <td>-0.228303</td>\n",
       "      <td>...</td>\n",
       "      <td>-0.734984</td>\n",
       "      <td>-0.514134</td>\n",
       "      <td>0.964219</td>\n",
       "      <td>-0.768903</td>\n",
       "      <td>-0.402204</td>\n",
       "      <td>-0.102483</td>\n",
       "      <td>-0.332481</td>\n",
       "      <td>-0.386594</td>\n",
       "      <td>-1.577484</td>\n",
       "      <td>-0.789816</td>\n",
       "    </tr>\n",
       "    <tr>\n",
       "      <th>2636</th>\n",
       "      <td>-0.663556</td>\n",
       "      <td>-0.110837</td>\n",
       "      <td>-0.127762</td>\n",
       "      <td>0.964184</td>\n",
       "      <td>-0.474875</td>\n",
       "      <td>0.366356</td>\n",
       "      <td>-0.093910</td>\n",
       "      <td>-0.142451</td>\n",
       "      <td>-0.438383</td>\n",
       "      <td>-0.401900</td>\n",
       "      <td>...</td>\n",
       "      <td>-0.785116</td>\n",
       "      <td>-0.261765</td>\n",
       "      <td>-0.218485</td>\n",
       "      <td>-0.740463</td>\n",
       "      <td>-0.402204</td>\n",
       "      <td>1.491896</td>\n",
       "      <td>-0.676207</td>\n",
       "      <td>-1.120537</td>\n",
       "      <td>0.701657</td>\n",
       "      <td>-0.810624</td>\n",
       "    </tr>\n",
       "  </tbody>\n",
       "</table>\n",
       "<p>2637 rows × 24 columns</p>\n",
       "</div>"
      ],
      "text/plain": [
       "            0         1         2         3         4         5         6   \\\n",
       "0     0.478627 -0.110939 -0.127434  0.219555  1.983358  0.082047 -0.508765   \n",
       "1    -0.231851 -0.110939 -0.127762 -0.430960 -0.105325  0.082047  0.116568   \n",
       "2     0.598765 -0.110939 -0.127863  0.436499  0.156203  1.219283 -0.813806   \n",
       "3    -0.663556 -0.110939 -0.127863 -0.306981 -0.474875 -0.202262 -0.103061   \n",
       "4     0.819399 -0.110939 -0.127838  1.345379  0.570593  1.503592 -0.508765   \n",
       "...        ...       ...       ...       ...       ...       ...       ...   \n",
       "2632  3.481709 -0.110837 -0.127863  2.140046  0.219279  0.366356 -0.508765   \n",
       "2633 -0.343395 -0.110939 -0.127863 -0.348824 -0.452133  1.219283 -0.508765   \n",
       "2634 -0.343395 -0.110919 -0.127863 -0.430960 -0.361167  1.503592 -0.508765   \n",
       "2635 -0.231851 -0.110469 -0.127232 -0.430960 -0.365672  0.366356 -0.508765   \n",
       "2636 -0.663556 -0.110837 -0.127762  0.964184 -0.474875  0.366356 -0.093910   \n",
       "\n",
       "            7         8         9   ...        14        15        16  \\\n",
       "0     0.865011  0.668663  0.900077  ... -0.734984 -0.514134 -0.661756   \n",
       "1    -0.524592 -0.684393  0.466085  ...  0.162886 -0.101167  0.964219   \n",
       "2    -0.559332 -0.346231  0.466085  ... -0.785116 -0.634884  0.313751   \n",
       "3    -0.559332  0.668663 -0.401900  ...  1.611711 -0.086677 -0.336717   \n",
       "4     1.629292  0.668663  0.292488  ... -0.734984 -0.514134  0.313751   \n",
       "...        ...       ...       ...  ...       ...       ...       ...   \n",
       "2632  0.865011 -2.037855 -0.228303  ... -0.734984 -0.514134  0.313751   \n",
       "2633 -0.559332  0.668663 -0.228303  ... -0.734984 -0.514134 -0.336717   \n",
       "2634 -0.524592 -3.553295  7.930753  ... -0.734984 -0.514134 -1.676282   \n",
       "2635 -0.211932 -0.684393 -0.228303  ... -0.734984 -0.514134  0.964219   \n",
       "2636 -0.142451 -0.438383 -0.401900  ... -0.785116 -0.261765 -0.218485   \n",
       "\n",
       "            17        18        19        20        21        22        23  \n",
       "0    -0.768903  0.385724 -0.899672 -0.332481 -0.386594  0.701657 -0.789816  \n",
       "1    -0.740463  0.143285 -0.102483  0.002078 -1.120537 -1.577484 -0.831431  \n",
       "2     2.103616  0.082675 -0.102483 -0.561632  0.347350  0.701657 -0.831431  \n",
       "3     0.681577 -0.523424  1.491896  0.089155  0.347350  0.701657 -0.831431  \n",
       "4    -0.768903  0.143285 -0.899672 -0.332481 -0.386594 -1.577484 -0.789816  \n",
       "...        ...       ...       ...       ...       ...       ...       ...  \n",
       "2632 -0.768903 -0.402204  2.289085 -0.332481 -0.386594 -1.511101 -0.789816  \n",
       "2633 -0.768903 -0.402204 -0.899672 -0.332481 -0.386594 -1.577484 -0.789816  \n",
       "2634 -0.768903 -0.584034 -2.494050 -0.332481 -0.386594 -1.533229 -0.789816  \n",
       "2635 -0.768903 -0.402204 -0.102483 -0.332481 -0.386594 -1.577484 -0.789816  \n",
       "2636 -0.740463 -0.402204  1.491896 -0.676207 -1.120537  0.701657 -0.810624  \n",
       "\n",
       "[2637 rows x 24 columns]"
      ]
     },
     "execution_count": 151,
     "metadata": {},
     "output_type": "execute_result"
    }
   ],
   "source": [
    "pd.DataFrame(base_prueba_scaled)"
   ]
  },
  {
   "cell_type": "code",
   "execution_count": 152,
   "metadata": {},
   "outputs": [
    {
     "data": {
      "text/plain": [
       "<keras.engine.sequential.Sequential at 0x1fa83c79400>"
      ]
     },
     "execution_count": 152,
     "metadata": {},
     "output_type": "execute_result"
    }
   ],
   "source": [
    "model_RNN # Se usa este modelo ya que fue el que obtuvo mejor ajuste y precisión"
   ]
  },
  {
   "cell_type": "code",
   "execution_count": 153,
   "metadata": {},
   "outputs": [],
   "source": [
    "bins = [0, 0.010, 0.015, 0.030, 0.045, 0.080, 0.150, 0.300, 1.0]\n",
    "names = [\"T1\", \"T2\", \"T3\", \"T4\", \"T5\", \"T6\", \"T7\", \"T8\"]"
   ]
  },
  {
   "cell_type": "code",
   "execution_count": 154,
   "metadata": {},
   "outputs": [
    {
     "name": "stdout",
     "output_type": "stream",
     "text": [
      "83/83 [==============================] - 0s 2ms/step\n"
     ]
    },
    {
     "data": {
      "text/plain": [
       "T1    141\n",
       "T2     65\n",
       "T3    253\n",
       "T4    318\n",
       "T5    705\n",
       "T6    782\n",
       "T7    362\n",
       "T8     11\n",
       "Name: grupo_riesgo, dtype: int64"
      ]
     },
     "execution_count": 154,
     "metadata": {},
     "output_type": "execute_result"
    }
   ],
   "source": [
    "pred_RNN_prueba = model_RNN.predict(base_prueba_scaled)\n",
    "pred_RNN_prueba = pd.DataFrame(pred_RNN_prueba)\n",
    "pred_RNN_prueba['grupo_riesgo'] = pd.cut(pred_RNN_prueba[0], bins, labels = names)\n",
    "pred_RNN_prueba['grupo_riesgo'].value_counts().sort_index()"
   ]
  },
  {
   "cell_type": "code",
   "execution_count": 155,
   "metadata": {},
   "outputs": [],
   "source": [
    "## Estos son los resultados de la segunda red neuronal por grupo de riesgo, aplicado al conjunto de prueba"
   ]
  },
  {
   "cell_type": "code",
   "execution_count": 156,
   "metadata": {},
   "outputs": [
    {
     "data": {
      "text/html": [
       "<div>\n",
       "<style scoped>\n",
       "    .dataframe tbody tr th:only-of-type {\n",
       "        vertical-align: middle;\n",
       "    }\n",
       "\n",
       "    .dataframe tbody tr th {\n",
       "        vertical-align: top;\n",
       "    }\n",
       "\n",
       "    .dataframe thead th {\n",
       "        text-align: right;\n",
       "    }\n",
       "</style>\n",
       "<table border=\"1\" class=\"dataframe\">\n",
       "  <thead>\n",
       "    <tr style=\"text-align: right;\">\n",
       "      <th></th>\n",
       "      <th>Probabilidad</th>\n",
       "      <th>grupo_riesgo</th>\n",
       "    </tr>\n",
       "  </thead>\n",
       "  <tbody>\n",
       "    <tr>\n",
       "      <th>0</th>\n",
       "      <td>0.043629</td>\n",
       "      <td>T4</td>\n",
       "    </tr>\n",
       "    <tr>\n",
       "      <th>1</th>\n",
       "      <td>0.085849</td>\n",
       "      <td>T6</td>\n",
       "    </tr>\n",
       "    <tr>\n",
       "      <th>2</th>\n",
       "      <td>0.091470</td>\n",
       "      <td>T6</td>\n",
       "    </tr>\n",
       "    <tr>\n",
       "      <th>3</th>\n",
       "      <td>0.143399</td>\n",
       "      <td>T6</td>\n",
       "    </tr>\n",
       "    <tr>\n",
       "      <th>4</th>\n",
       "      <td>0.074942</td>\n",
       "      <td>T5</td>\n",
       "    </tr>\n",
       "    <tr>\n",
       "      <th>...</th>\n",
       "      <td>...</td>\n",
       "      <td>...</td>\n",
       "    </tr>\n",
       "    <tr>\n",
       "      <th>2632</th>\n",
       "      <td>0.081609</td>\n",
       "      <td>T6</td>\n",
       "    </tr>\n",
       "    <tr>\n",
       "      <th>2633</th>\n",
       "      <td>0.123583</td>\n",
       "      <td>T6</td>\n",
       "    </tr>\n",
       "    <tr>\n",
       "      <th>2634</th>\n",
       "      <td>0.002182</td>\n",
       "      <td>T1</td>\n",
       "    </tr>\n",
       "    <tr>\n",
       "      <th>2635</th>\n",
       "      <td>0.106141</td>\n",
       "      <td>T6</td>\n",
       "    </tr>\n",
       "    <tr>\n",
       "      <th>2636</th>\n",
       "      <td>0.055443</td>\n",
       "      <td>T5</td>\n",
       "    </tr>\n",
       "  </tbody>\n",
       "</table>\n",
       "<p>2637 rows × 2 columns</p>\n",
       "</div>"
      ],
      "text/plain": [
       "      Probabilidad grupo_riesgo\n",
       "0         0.043629           T4\n",
       "1         0.085849           T6\n",
       "2         0.091470           T6\n",
       "3         0.143399           T6\n",
       "4         0.074942           T5\n",
       "...            ...          ...\n",
       "2632      0.081609           T6\n",
       "2633      0.123583           T6\n",
       "2634      0.002182           T1\n",
       "2635      0.106141           T6\n",
       "2636      0.055443           T5\n",
       "\n",
       "[2637 rows x 2 columns]"
      ]
     },
     "execution_count": 156,
     "metadata": {},
     "output_type": "execute_result"
    }
   ],
   "source": [
    "pred_RNN_prueba.rename(columns = {0:'Probabilidad'}, inplace = True)\n",
    "pred_RNN_prueba"
   ]
  },
  {
   "cell_type": "code",
   "execution_count": null,
   "metadata": {},
   "outputs": [],
   "source": [
    "num_doc_prueba2 = pd.DataFrame(num_doc_prueba2)\n",
    "num_doc_prueba2 = num_doc_prueba2.reset_index(drop=True)\n",
    "num_doc_prueba2"
   ]
  },
  {
   "cell_type": "code",
   "execution_count": 180,
   "metadata": {},
   "outputs": [
    {
     "data": {
      "text/html": [
       "<div>\n",
       "<style scoped>\n",
       "    .dataframe tbody tr th:only-of-type {\n",
       "        vertical-align: middle;\n",
       "    }\n",
       "\n",
       "    .dataframe tbody tr th {\n",
       "        vertical-align: top;\n",
       "    }\n",
       "\n",
       "    .dataframe thead th {\n",
       "        text-align: right;\n",
       "    }\n",
       "</style>\n",
       "<table border=\"1\" class=\"dataframe\">\n",
       "  <thead>\n",
       "    <tr style=\"text-align: right;\">\n",
       "      <th></th>\n",
       "      <th>Probabilidad</th>\n",
       "      <th>grupo_riesgo</th>\n",
       "      <th>trx39</th>\n",
       "      <th>trx102</th>\n",
       "      <th>trx106</th>\n",
       "      <th>trx143</th>\n",
       "      <th>trx158</th>\n",
       "      <th>disp309</th>\n",
       "      <th>CO01END010RO</th>\n",
       "      <th>CO01ACP017CC</th>\n",
       "      <th>...</th>\n",
       "      <th>CO01END086RO</th>\n",
       "      <th>CO01END094RO</th>\n",
       "      <th>CO02NUM086AH</th>\n",
       "      <th>CO02NUM043RO</th>\n",
       "      <th>CO01EXP002AH</th>\n",
       "      <th>CO01NUM002AH</th>\n",
       "      <th>CO01END051RO</th>\n",
       "      <th>CO01ACP011RO</th>\n",
       "      <th>CO02MOR092TO</th>\n",
       "      <th>CO01MOR098RO</th>\n",
       "    </tr>\n",
       "  </thead>\n",
       "  <tbody>\n",
       "    <tr>\n",
       "      <th>0</th>\n",
       "      <td>0.043629</td>\n",
       "      <td>T4</td>\n",
       "      <td>0.986013</td>\n",
       "      <td>0.000000</td>\n",
       "      <td>0.000022</td>\n",
       "      <td>0.140096</td>\n",
       "      <td>0.461207</td>\n",
       "      <td>7.0</td>\n",
       "      <td>-1.00</td>\n",
       "      <td>39.0</td>\n",
       "      <td>...</td>\n",
       "      <td>-1.00</td>\n",
       "      <td>-1.00</td>\n",
       "      <td>25.00</td>\n",
       "      <td>-1.0</td>\n",
       "      <td>15.0</td>\n",
       "      <td>1.0</td>\n",
       "      <td>-1.00</td>\n",
       "      <td>-1.0</td>\n",
       "      <td>100.0</td>\n",
       "      <td>-1.0</td>\n",
       "    </tr>\n",
       "    <tr>\n",
       "      <th>1</th>\n",
       "      <td>0.085849</td>\n",
       "      <td>T6</td>\n",
       "      <td>0.372678</td>\n",
       "      <td>0.000000</td>\n",
       "      <td>0.000005</td>\n",
       "      <td>0.000000</td>\n",
       "      <td>0.069334</td>\n",
       "      <td>7.0</td>\n",
       "      <td>1.05</td>\n",
       "      <td>-1.0</td>\n",
       "      <td>...</td>\n",
       "      <td>34.82</td>\n",
       "      <td>2.42</td>\n",
       "      <td>66.67</td>\n",
       "      <td>0.0</td>\n",
       "      <td>11.0</td>\n",
       "      <td>2.0</td>\n",
       "      <td>1.92</td>\n",
       "      <td>-2.0</td>\n",
       "      <td>-3.0</td>\n",
       "      <td>-3.0</td>\n",
       "    </tr>\n",
       "    <tr>\n",
       "      <th>2</th>\n",
       "      <td>0.091470</td>\n",
       "      <td>T6</td>\n",
       "      <td>1.089725</td>\n",
       "      <td>0.000000</td>\n",
       "      <td>0.000000</td>\n",
       "      <td>0.186817</td>\n",
       "      <td>0.118401</td>\n",
       "      <td>11.0</td>\n",
       "      <td>-2.00</td>\n",
       "      <td>-2.0</td>\n",
       "      <td>...</td>\n",
       "      <td>-3.00</td>\n",
       "      <td>-2.00</td>\n",
       "      <td>50.00</td>\n",
       "      <td>100.0</td>\n",
       "      <td>10.0</td>\n",
       "      <td>2.0</td>\n",
       "      <td>-3.00</td>\n",
       "      <td>0.0</td>\n",
       "      <td>100.0</td>\n",
       "      <td>-3.0</td>\n",
       "    </tr>\n",
       "    <tr>\n",
       "      <th>3</th>\n",
       "      <td>0.143399</td>\n",
       "      <td>T6</td>\n",
       "      <td>0.000000</td>\n",
       "      <td>0.000000</td>\n",
       "      <td>0.000000</td>\n",
       "      <td>0.026700</td>\n",
       "      <td>0.000000</td>\n",
       "      <td>6.0</td>\n",
       "      <td>0.33</td>\n",
       "      <td>-2.0</td>\n",
       "      <td>...</td>\n",
       "      <td>92.62</td>\n",
       "      <td>2.54</td>\n",
       "      <td>33.33</td>\n",
       "      <td>50.0</td>\n",
       "      <td>0.0</td>\n",
       "      <td>4.0</td>\n",
       "      <td>2.68</td>\n",
       "      <td>0.0</td>\n",
       "      <td>100.0</td>\n",
       "      <td>-3.0</td>\n",
       "    </tr>\n",
       "    <tr>\n",
       "      <th>4</th>\n",
       "      <td>0.074942</td>\n",
       "      <td>T5</td>\n",
       "      <td>1.280191</td>\n",
       "      <td>0.000000</td>\n",
       "      <td>0.000001</td>\n",
       "      <td>0.382554</td>\n",
       "      <td>0.196148</td>\n",
       "      <td>12.0</td>\n",
       "      <td>-1.00</td>\n",
       "      <td>61.0</td>\n",
       "      <td>...</td>\n",
       "      <td>-1.00</td>\n",
       "      <td>-1.00</td>\n",
       "      <td>50.00</td>\n",
       "      <td>-1.0</td>\n",
       "      <td>11.0</td>\n",
       "      <td>1.0</td>\n",
       "      <td>-1.00</td>\n",
       "      <td>-1.0</td>\n",
       "      <td>-3.0</td>\n",
       "      <td>-1.0</td>\n",
       "    </tr>\n",
       "    <tr>\n",
       "      <th>...</th>\n",
       "      <td>...</td>\n",
       "      <td>...</td>\n",
       "      <td>...</td>\n",
       "      <td>...</td>\n",
       "      <td>...</td>\n",
       "      <td>...</td>\n",
       "      <td>...</td>\n",
       "      <td>...</td>\n",
       "      <td>...</td>\n",
       "      <td>...</td>\n",
       "      <td>...</td>\n",
       "      <td>...</td>\n",
       "      <td>...</td>\n",
       "      <td>...</td>\n",
       "      <td>...</td>\n",
       "      <td>...</td>\n",
       "      <td>...</td>\n",
       "      <td>...</td>\n",
       "      <td>...</td>\n",
       "      <td>...</td>\n",
       "      <td>...</td>\n",
       "    </tr>\n",
       "    <tr>\n",
       "      <th>2632</th>\n",
       "      <td>0.081609</td>\n",
       "      <td>T6</td>\n",
       "      <td>3.578485</td>\n",
       "      <td>0.000006</td>\n",
       "      <td>0.000000</td>\n",
       "      <td>0.553695</td>\n",
       "      <td>0.130235</td>\n",
       "      <td>8.0</td>\n",
       "      <td>-1.00</td>\n",
       "      <td>39.0</td>\n",
       "      <td>...</td>\n",
       "      <td>-1.00</td>\n",
       "      <td>-1.00</td>\n",
       "      <td>50.00</td>\n",
       "      <td>-1.0</td>\n",
       "      <td>2.0</td>\n",
       "      <td>5.0</td>\n",
       "      <td>-1.00</td>\n",
       "      <td>-1.0</td>\n",
       "      <td>0.0</td>\n",
       "      <td>-1.0</td>\n",
       "    </tr>\n",
       "    <tr>\n",
       "      <th>2633</th>\n",
       "      <td>0.123583</td>\n",
       "      <td>T6</td>\n",
       "      <td>0.276385</td>\n",
       "      <td>0.000000</td>\n",
       "      <td>0.000000</td>\n",
       "      <td>0.017689</td>\n",
       "      <td>0.004267</td>\n",
       "      <td>11.0</td>\n",
       "      <td>-1.00</td>\n",
       "      <td>-2.0</td>\n",
       "      <td>...</td>\n",
       "      <td>-1.00</td>\n",
       "      <td>-1.00</td>\n",
       "      <td>33.33</td>\n",
       "      <td>-1.0</td>\n",
       "      <td>2.0</td>\n",
       "      <td>1.0</td>\n",
       "      <td>-1.00</td>\n",
       "      <td>-1.0</td>\n",
       "      <td>-3.0</td>\n",
       "      <td>-1.0</td>\n",
       "    </tr>\n",
       "    <tr>\n",
       "      <th>2634</th>\n",
       "      <td>0.002182</td>\n",
       "      <td>T1</td>\n",
       "      <td>0.276385</td>\n",
       "      <td>0.000001</td>\n",
       "      <td>0.000000</td>\n",
       "      <td>0.000000</td>\n",
       "      <td>0.021334</td>\n",
       "      <td>12.0</td>\n",
       "      <td>-1.00</td>\n",
       "      <td>-1.0</td>\n",
       "      <td>...</td>\n",
       "      <td>-1.00</td>\n",
       "      <td>-1.00</td>\n",
       "      <td>-1.00</td>\n",
       "      <td>-1.0</td>\n",
       "      <td>-1.0</td>\n",
       "      <td>-1.0</td>\n",
       "      <td>-1.00</td>\n",
       "      <td>-1.0</td>\n",
       "      <td>-1.0</td>\n",
       "      <td>-1.0</td>\n",
       "    </tr>\n",
       "    <tr>\n",
       "      <th>2635</th>\n",
       "      <td>0.106141</td>\n",
       "      <td>T6</td>\n",
       "      <td>0.372678</td>\n",
       "      <td>0.000028</td>\n",
       "      <td>0.000032</td>\n",
       "      <td>0.000000</td>\n",
       "      <td>0.020488</td>\n",
       "      <td>8.0</td>\n",
       "      <td>-1.00</td>\n",
       "      <td>8.0</td>\n",
       "      <td>...</td>\n",
       "      <td>-1.00</td>\n",
       "      <td>-1.00</td>\n",
       "      <td>66.67</td>\n",
       "      <td>-1.0</td>\n",
       "      <td>2.0</td>\n",
       "      <td>2.0</td>\n",
       "      <td>-1.00</td>\n",
       "      <td>-1.0</td>\n",
       "      <td>-3.0</td>\n",
       "      <td>-1.0</td>\n",
       "    </tr>\n",
       "    <tr>\n",
       "      <th>2636</th>\n",
       "      <td>0.055443</td>\n",
       "      <td>T5</td>\n",
       "      <td>0.000000</td>\n",
       "      <td>0.000006</td>\n",
       "      <td>0.000005</td>\n",
       "      <td>0.300460</td>\n",
       "      <td>0.000000</td>\n",
       "      <td>8.0</td>\n",
       "      <td>0.36</td>\n",
       "      <td>10.0</td>\n",
       "      <td>...</td>\n",
       "      <td>-3.00</td>\n",
       "      <td>1.09</td>\n",
       "      <td>36.36</td>\n",
       "      <td>0.0</td>\n",
       "      <td>2.0</td>\n",
       "      <td>4.0</td>\n",
       "      <td>-4.00</td>\n",
       "      <td>-2.0</td>\n",
       "      <td>100.0</td>\n",
       "      <td>-2.0</td>\n",
       "    </tr>\n",
       "  </tbody>\n",
       "</table>\n",
       "<p>2637 rows × 26 columns</p>\n",
       "</div>"
      ],
      "text/plain": [
       "      Probabilidad grupo_riesgo     trx39    trx102    trx106    trx143  \\\n",
       "0         0.043629           T4  0.986013  0.000000  0.000022  0.140096   \n",
       "1         0.085849           T6  0.372678  0.000000  0.000005  0.000000   \n",
       "2         0.091470           T6  1.089725  0.000000  0.000000  0.186817   \n",
       "3         0.143399           T6  0.000000  0.000000  0.000000  0.026700   \n",
       "4         0.074942           T5  1.280191  0.000000  0.000001  0.382554   \n",
       "...            ...          ...       ...       ...       ...       ...   \n",
       "2632      0.081609           T6  3.578485  0.000006  0.000000  0.553695   \n",
       "2633      0.123583           T6  0.276385  0.000000  0.000000  0.017689   \n",
       "2634      0.002182           T1  0.276385  0.000001  0.000000  0.000000   \n",
       "2635      0.106141           T6  0.372678  0.000028  0.000032  0.000000   \n",
       "2636      0.055443           T5  0.000000  0.000006  0.000005  0.300460   \n",
       "\n",
       "        trx158  disp309  CO01END010RO  CO01ACP017CC  ...  CO01END086RO  \\\n",
       "0     0.461207      7.0         -1.00          39.0  ...         -1.00   \n",
       "1     0.069334      7.0          1.05          -1.0  ...         34.82   \n",
       "2     0.118401     11.0         -2.00          -2.0  ...         -3.00   \n",
       "3     0.000000      6.0          0.33          -2.0  ...         92.62   \n",
       "4     0.196148     12.0         -1.00          61.0  ...         -1.00   \n",
       "...        ...      ...           ...           ...  ...           ...   \n",
       "2632  0.130235      8.0         -1.00          39.0  ...         -1.00   \n",
       "2633  0.004267     11.0         -1.00          -2.0  ...         -1.00   \n",
       "2634  0.021334     12.0         -1.00          -1.0  ...         -1.00   \n",
       "2635  0.020488      8.0         -1.00           8.0  ...         -1.00   \n",
       "2636  0.000000      8.0          0.36          10.0  ...         -3.00   \n",
       "\n",
       "      CO01END094RO  CO02NUM086AH  CO02NUM043RO  CO01EXP002AH  CO01NUM002AH  \\\n",
       "0            -1.00         25.00          -1.0          15.0           1.0   \n",
       "1             2.42         66.67           0.0          11.0           2.0   \n",
       "2            -2.00         50.00         100.0          10.0           2.0   \n",
       "3             2.54         33.33          50.0           0.0           4.0   \n",
       "4            -1.00         50.00          -1.0          11.0           1.0   \n",
       "...            ...           ...           ...           ...           ...   \n",
       "2632         -1.00         50.00          -1.0           2.0           5.0   \n",
       "2633         -1.00         33.33          -1.0           2.0           1.0   \n",
       "2634         -1.00         -1.00          -1.0          -1.0          -1.0   \n",
       "2635         -1.00         66.67          -1.0           2.0           2.0   \n",
       "2636          1.09         36.36           0.0           2.0           4.0   \n",
       "\n",
       "      CO01END051RO  CO01ACP011RO  CO02MOR092TO  CO01MOR098RO  \n",
       "0            -1.00          -1.0         100.0          -1.0  \n",
       "1             1.92          -2.0          -3.0          -3.0  \n",
       "2            -3.00           0.0         100.0          -3.0  \n",
       "3             2.68           0.0         100.0          -3.0  \n",
       "4            -1.00          -1.0          -3.0          -1.0  \n",
       "...            ...           ...           ...           ...  \n",
       "2632         -1.00          -1.0           0.0          -1.0  \n",
       "2633         -1.00          -1.0          -3.0          -1.0  \n",
       "2634         -1.00          -1.0          -1.0          -1.0  \n",
       "2635         -1.00          -1.0          -3.0          -1.0  \n",
       "2636         -4.00          -2.0         100.0          -2.0  \n",
       "\n",
       "[2637 rows x 26 columns]"
      ]
     },
     "execution_count": 180,
     "metadata": {},
     "output_type": "execute_result"
    }
   ],
   "source": [
    "pred_RNN_prueba = pred_RNN_prueba.reset_index(drop=True)\n",
    "base_prueba = base_prueba.reset_index(drop=True)\n",
    "pred_grupo_riesgo_prueba = pd.concat([pred_RNN_prueba, base_prueba], axis=1, ignore_index=True)\n",
    "pred_grupo_riesgo_prueba.columns = pred_RNN_prueba.columns.tolist() + base_prueba.columns.tolist()\n",
    "pred_grupo_riesgo_prueba"
   ]
  },
  {
   "cell_type": "code",
   "execution_count": 181,
   "metadata": {},
   "outputs": [],
   "source": [
    "pred_grupo_riesgo_prueba.to_csv('base_prueba.csv', sep ='|', index=False)"
   ]
  }
 ],
 "metadata": {
  "kernelspec": {
   "display_name": "Python 3",
   "language": "python",
   "name": "python3"
  },
  "language_info": {
   "codemirror_mode": {
    "name": "ipython",
    "version": 3
   },
   "file_extension": ".py",
   "mimetype": "text/x-python",
   "name": "python",
   "nbconvert_exporter": "python",
   "pygments_lexer": "ipython3",
   "version": "3.12.4"
  }
 },
 "nbformat": 4,
 "nbformat_minor": 4
}
